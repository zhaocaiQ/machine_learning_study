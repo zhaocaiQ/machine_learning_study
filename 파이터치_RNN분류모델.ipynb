{
  "nbformat": 4,
  "nbformat_minor": 0,
  "metadata": {
    "colab": {
      "name": "파이터치_RNN분류모델.ipynb",
      "provenance": [],
      "authorship_tag": "ABX9TyOJeZLwcmRfV+Qaj/mrczgz",
      "include_colab_link": true
    },
    "kernelspec": {
      "name": "python3",
      "display_name": "Python 3"
    },
    "language_info": {
      "name": "python"
    }
  },
  "cells": [
    {
      "cell_type": "markdown",
      "metadata": {
        "id": "view-in-github",
        "colab_type": "text"
      },
      "source": [
        "<a href=\"https://colab.research.google.com/github/zhaocaiQ/machine_learning_study/blob/master/%ED%8C%8C%EC%9D%B4%ED%84%B0%EC%B9%98_RNN%EB%B6%84%EB%A5%98%EB%AA%A8%EB%8D%B8.ipynb\" target=\"_parent\"><img src=\"https://colab.research.google.com/assets/colab-badge.svg\" alt=\"Open In Colab\"/></a>"
      ]
    },
    {
      "cell_type": "markdown",
      "metadata": {
        "id": "LSeGdk0lmdWl"
      },
      "source": [
        "## https://www.youtube.com/watch?v=izQZNWpOrGU"
      ]
    },
    {
      "cell_type": "markdown",
      "metadata": {
        "id": "XtUHoFJQmkZf"
      },
      "source": [
        "# 파이토치 RNN 분류모델\n",
        "* 코드출처: https://tutorials.pytorch.kr/intermediate/char_rnn_classification_tutorial.html"
      ]
    },
    {
      "cell_type": "markdown",
      "metadata": {
        "id": "EnP_YBfcocB2"
      },
      "source": [
        "# 이름을 입력했을 때 그 이름이 어느나라 이름인지 예측하는 분류모델"
      ]
    },
    {
      "cell_type": "code",
      "metadata": {
        "colab": {
          "base_uri": "https://localhost:8080/"
        },
        "id": "NSp_FpfwmdAk",
        "outputId": "ccd7a5b5-b71b-4b29-c99b-d47029c058f7"
      },
      "source": [
        "# 세계 각국 이름(성)데이터 불러오기\n",
        "!wget https://download.pytorch.org/tutorial/data.zip\n",
        "!unzip data.zip"
      ],
      "execution_count": 1,
      "outputs": [
        {
          "output_type": "stream",
          "name": "stdout",
          "text": [
            "--2021-12-04 08:48:18--  https://download.pytorch.org/tutorial/data.zip\n",
            "Resolving download.pytorch.org (download.pytorch.org)... 18.66.180.62, 18.66.180.45, 18.66.180.39, ...\n",
            "Connecting to download.pytorch.org (download.pytorch.org)|18.66.180.62|:443... connected.\n",
            "HTTP request sent, awaiting response... 200 OK\n",
            "Length: 2882130 (2.7M) [application/zip]\n",
            "Saving to: ‘data.zip’\n",
            "\n",
            "data.zip            100%[===================>]   2.75M  --.-KB/s    in 0.1s    \n",
            "\n",
            "2021-12-04 08:48:19 (25.6 MB/s) - ‘data.zip’ saved [2882130/2882130]\n",
            "\n",
            "Archive:  data.zip\n",
            "   creating: data/\n",
            "  inflating: data/eng-fra.txt        \n",
            "   creating: data/names/\n",
            "  inflating: data/names/Arabic.txt   \n",
            "  inflating: data/names/Chinese.txt  \n",
            "  inflating: data/names/Czech.txt    \n",
            "  inflating: data/names/Dutch.txt    \n",
            "  inflating: data/names/English.txt  \n",
            "  inflating: data/names/French.txt   \n",
            "  inflating: data/names/German.txt   \n",
            "  inflating: data/names/Greek.txt    \n",
            "  inflating: data/names/Irish.txt    \n",
            "  inflating: data/names/Italian.txt  \n",
            "  inflating: data/names/Japanese.txt  \n",
            "  inflating: data/names/Korean.txt   \n",
            "  inflating: data/names/Polish.txt   \n",
            "  inflating: data/names/Portuguese.txt  \n",
            "  inflating: data/names/Russian.txt  \n",
            "  inflating: data/names/Scottish.txt  \n",
            "  inflating: data/names/Spanish.txt  \n",
            "  inflating: data/names/Vietnamese.txt  \n"
          ]
        }
      ]
    },
    {
      "cell_type": "markdown",
      "metadata": {
        "id": "tzW6cjvsp1o-"
      },
      "source": [
        "### io, glob 라이브러리 정보\n",
        "* glob: https://wikidocs.net/83"
      ]
    },
    {
      "cell_type": "code",
      "metadata": {
        "colab": {
          "base_uri": "https://localhost:8080/"
        },
        "id": "a2BkCgXkoQus",
        "outputId": "5df0d84d-4ecf-4b4c-a76c-8be357eb3564"
      },
      "source": [
        "from io import open\n",
        "import glob\n",
        "import os\n",
        "\n",
        "# 해당폴더에 txt된 파일 모두 불러오는 함수\n",
        "def findFiles(path):\n",
        "  return glob.glob(path)\n",
        "\n",
        "print(findFiles('data/names/*.txt'))\n",
        "\n",
        "import unicodedata\n",
        "import string\n",
        "\n",
        "all_letters = string.ascii_letters + \" .,;'\"\n",
        "n_letters = len(all_letters)\n",
        "\n",
        "# 러시아나 그런 언어의 특수문자를 제거하여 저장하는 함수.\n",
        "def unicodeToAscii(s):\n",
        "  return ''.join(\n",
        "      c for c in unicodedata.normalize('NFD', s)\n",
        "      if unicodedata.category(c) != 'Mn' and c in all_letters\n",
        "  )\n",
        "\n",
        "print(unicodeToAscii('Ślusàrski'))\n",
        "\n",
        "category_lines = {}\n",
        "all_categories = []\n",
        "\n",
        "def readLines(filename):\n",
        "  lines = open(filename, encoding='utf-8').read().strip().split('\\n')\n",
        "  return [unicodeToAscii(line) for line in lines]\n",
        "\n",
        "for filename in findFiles('data/names/*.txt'):\n",
        "  category = os.path.splitext(os.path.basename(filename))[0]\n",
        "  all_categories.append(category)\n",
        "  lines = readLines(filename)\n",
        "  category_lines[category] = lines\n",
        "\n",
        "n_categories = len(all_categories)"
      ],
      "execution_count": 2,
      "outputs": [
        {
          "output_type": "stream",
          "name": "stdout",
          "text": [
            "['data/names/Korean.txt', 'data/names/Vietnamese.txt', 'data/names/Czech.txt', 'data/names/German.txt', 'data/names/Arabic.txt', 'data/names/French.txt', 'data/names/Greek.txt', 'data/names/Chinese.txt', 'data/names/Russian.txt', 'data/names/Scottish.txt', 'data/names/Italian.txt', 'data/names/Portuguese.txt', 'data/names/Spanish.txt', 'data/names/Polish.txt', 'data/names/Dutch.txt', 'data/names/English.txt', 'data/names/Irish.txt', 'data/names/Japanese.txt']\n",
            "Slusarski\n"
          ]
        }
      ]
    },
    {
      "cell_type": "code",
      "metadata": {
        "colab": {
          "base_uri": "https://localhost:8080/"
        },
        "id": "Xf_rrvd6tJ_u",
        "outputId": "478c8d0f-0a2a-4fcf-e707-dbf7a7d6f25f"
      },
      "source": [
        "print(category_lines['Italian'][:5])"
      ],
      "execution_count": 41,
      "outputs": [
        {
          "output_type": "stream",
          "name": "stdout",
          "text": [
            "['Abandonato', 'Abatangelo', 'Abatantuono', 'Abate', 'Abategiovanni']\n"
          ]
        }
      ]
    },
    {
      "cell_type": "code",
      "metadata": {
        "colab": {
          "base_uri": "https://localhost:8080/"
        },
        "id": "P39IsdTLtZ8j",
        "outputId": "5cba2c87-426d-44f7-eb2b-1c1385f492b6"
      },
      "source": [
        "import torch\n",
        "\n",
        "# all_letters에서 letter(매개변수)값을 받아 find()함수를 이용해\n",
        "# 해당 letter이 몇번째 인덱스에 있는지 값 찾음.\n",
        "def letterToIndex(letter):\n",
        "  return all_letters.find(letter)\n",
        "\n",
        "# 한개의 텐서(정보)에 대해서만 1로 변경\n",
        "def letterToTensor(letter):\n",
        "  tensor = torch.zeros(1, n_letters)\n",
        "  tensor[0][letterToIndex(letter)] = 1\n",
        "  return tensor\n",
        "\n",
        "# 문장(라인) 전체를 텐서로 변경\n",
        "def lineToTensor(line):\n",
        "  tensor = torch.zeros(len(line), 1, n_letters)\n",
        "  for li, letter in enumerate(line):\n",
        "    tensor[li][0][letterToIndex(letter)] = 1\n",
        "  return tensor\n",
        "\n",
        "print('J에 대한 tensor:', letterToTensor('J'))\n",
        "print('J에 대한 tensor_size:',letterToTensor('J').size())\n",
        "print('Jones에 대한 tensor:', lineToTensor('Jones'))\n",
        "print('Jones에 대한 tensor_size:',lineToTensor('Jones').size())"
      ],
      "execution_count": 10,
      "outputs": [
        {
          "output_type": "stream",
          "name": "stdout",
          "text": [
            "J에 대한 tensor: tensor([[0., 0., 0., 0., 0., 0., 0., 0., 0., 0., 0., 0., 0., 0., 0., 0., 0., 0.,\n",
            "         0., 0., 0., 0., 0., 0., 0., 0., 0., 0., 0., 0., 0., 0., 0., 0., 0., 1.,\n",
            "         0., 0., 0., 0., 0., 0., 0., 0., 0., 0., 0., 0., 0., 0., 0., 0., 0., 0.,\n",
            "         0., 0., 0.]])\n",
            "J에 대한 tensor_size: torch.Size([1, 57])\n",
            "Jones에 대한 tensor: tensor([[[0., 0., 0., 0., 0., 0., 0., 0., 0., 0., 0., 0., 0., 0., 0., 0., 0.,\n",
            "          0., 0., 0., 0., 0., 0., 0., 0., 0., 0., 0., 0., 0., 0., 0., 0., 0.,\n",
            "          0., 1., 0., 0., 0., 0., 0., 0., 0., 0., 0., 0., 0., 0., 0., 0., 0.,\n",
            "          0., 0., 0., 0., 0., 0.]],\n",
            "\n",
            "        [[0., 0., 0., 0., 0., 0., 0., 0., 0., 0., 0., 0., 0., 0., 1., 0., 0.,\n",
            "          0., 0., 0., 0., 0., 0., 0., 0., 0., 0., 0., 0., 0., 0., 0., 0., 0.,\n",
            "          0., 0., 0., 0., 0., 0., 0., 0., 0., 0., 0., 0., 0., 0., 0., 0., 0.,\n",
            "          0., 0., 0., 0., 0., 0.]],\n",
            "\n",
            "        [[0., 0., 0., 0., 0., 0., 0., 0., 0., 0., 0., 0., 0., 1., 0., 0., 0.,\n",
            "          0., 0., 0., 0., 0., 0., 0., 0., 0., 0., 0., 0., 0., 0., 0., 0., 0.,\n",
            "          0., 0., 0., 0., 0., 0., 0., 0., 0., 0., 0., 0., 0., 0., 0., 0., 0.,\n",
            "          0., 0., 0., 0., 0., 0.]],\n",
            "\n",
            "        [[0., 0., 0., 0., 1., 0., 0., 0., 0., 0., 0., 0., 0., 0., 0., 0., 0.,\n",
            "          0., 0., 0., 0., 0., 0., 0., 0., 0., 0., 0., 0., 0., 0., 0., 0., 0.,\n",
            "          0., 0., 0., 0., 0., 0., 0., 0., 0., 0., 0., 0., 0., 0., 0., 0., 0.,\n",
            "          0., 0., 0., 0., 0., 0.]],\n",
            "\n",
            "        [[0., 0., 0., 0., 0., 0., 0., 0., 0., 0., 0., 0., 0., 0., 0., 0., 0.,\n",
            "          0., 1., 0., 0., 0., 0., 0., 0., 0., 0., 0., 0., 0., 0., 0., 0., 0.,\n",
            "          0., 0., 0., 0., 0., 0., 0., 0., 0., 0., 0., 0., 0., 0., 0., 0., 0.,\n",
            "          0., 0., 0., 0., 0., 0.]]])\n",
            "Jones에 대한 tensor_size: torch.Size([5, 1, 57])\n"
          ]
        }
      ]
    },
    {
      "cell_type": "markdown",
      "metadata": {
        "id": "cJcGu9Ex1Eph"
      },
      "source": [
        "# 신경망 생성"
      ]
    },
    {
      "cell_type": "code",
      "metadata": {
        "id": "z1cmk8vNu6pM"
      },
      "source": [
        "import torch.nn as nn\n",
        "\n",
        "class RNN(nn.Module):\n",
        "    def __init__(self, input_size, hidden_size, output_size):\n",
        "        super(RNN, self).__init__()\n",
        "\n",
        "        self.hidden_size = hidden_size\n",
        "\n",
        "        self.i2h = nn.Linear(input_size + hidden_size, hidden_size)\n",
        "        self.i2o = nn.Linear(input_size + hidden_size, output_size)\n",
        "        self.softmax = nn.LogSoftmax(dim=1)\n",
        "\n",
        "    def forward(self, input, hidden):\n",
        "        combined = torch.cat((input, hidden), 1)\n",
        "        hidden = self.i2h(combined)\n",
        "        output = self.i2o(combined)\n",
        "        output = self.softmax(output)\n",
        "        return output, hidden\n",
        "\n",
        "    def initHidden(self):\n",
        "        return torch.zeros(1, self.hidden_size)\n",
        "\n",
        "n_hidden = 128\n",
        "rnn = RNN(n_letters, n_hidden, n_categories)"
      ],
      "execution_count": 49,
      "outputs": []
    },
    {
      "cell_type": "code",
      "metadata": {
        "id": "Uf_6oV_j2oXF"
      },
      "source": [
        "input = letterToTensor('A')\n",
        "hidden = torch.zeros(1, n_hidden)\n",
        "\n",
        "output, next_hidden = rnn(input, hidden)"
      ],
      "execution_count": 50,
      "outputs": []
    },
    {
      "cell_type": "code",
      "metadata": {
        "colab": {
          "base_uri": "https://localhost:8080/"
        },
        "id": "71iz2QYI3uAD",
        "outputId": "3934d5ce-07ba-47e8-dc7a-6dba0315c654"
      },
      "source": [
        "input = lineToTensor('Albert')\n",
        "hidden = torch.zeros(1, n_hidden)\n",
        "\n",
        "output, next_hidden = rnn(input[0], hidden)\n",
        "print(output)"
      ],
      "execution_count": 43,
      "outputs": [
        {
          "output_type": "stream",
          "name": "stdout",
          "text": [
            "tensor([[-2.2231, -2.5186, -2.6544, -2.5188, -2.8674, -2.8013, -4.0813, -2.7342,\n",
            "         -2.9611, -3.0091, -3.5490, -3.5529, -3.2052, -3.2650, -2.8957, -2.4933,\n",
            "         -2.9299, -3.4325]], grad_fn=<LogSoftmaxBackward0>)\n"
          ]
        }
      ]
    },
    {
      "cell_type": "markdown",
      "metadata": {
        "id": "nYHStO-G4FG6"
      },
      "source": [
        "# 모델학습\n",
        "* 준비"
      ]
    },
    {
      "cell_type": "code",
      "metadata": {
        "colab": {
          "base_uri": "https://localhost:8080/"
        },
        "id": "XDz6uNUS36_E",
        "outputId": "064084c4-2b76-478b-e1e4-2856b8d9e801"
      },
      "source": [
        "def categoryFromOutput(output):\n",
        "    top_n, top_i = output.topk(1) #output 값중 가장 큰 값 1개의 값과 주소를 가져옴.\n",
        "    category_i = top_i[0].item()     # 텐서에서 정수 값으로 변경\n",
        "    return all_categories[category_i], category_i\n",
        "\n",
        "print(categoryFromOutput(output))"
      ],
      "execution_count": 51,
      "outputs": [
        {
          "output_type": "stream",
          "name": "stdout",
          "text": [
            "('Irish', 16)\n"
          ]
        }
      ]
    },
    {
      "cell_type": "code",
      "metadata": {
        "colab": {
          "base_uri": "https://localhost:8080/"
        },
        "id": "_J4PafQ54eG_",
        "outputId": "01900958-4324-433f-ec8e-bfcfb5b5a0a2"
      },
      "source": [
        "import random\n",
        "\n",
        "def randomChoice(l):\n",
        "    return l[random.randint(0, len(l) - 1)]\n",
        "\n",
        "def randomTrainingExample():\n",
        "  #랜덤으로 값 가져오기\n",
        "  category = randomChoice(all_categories)\n",
        "  line = randomChoice(category_lines[category])\n",
        "  #랜덤으로 가져온 값 tensor로 변경\n",
        "  category_tensor = torch.tensor([all_categories.index(category)], dtype=torch.long)\n",
        "  line_tensor = lineToTensor(line)\n",
        "  return category, line, category_tensor, line_tensor\n",
        "\n",
        "for i in range(10):\n",
        "  category, line, category_tensor, line_tensor = randomTrainingExample()\n",
        "  print('category: {} \\t line: {}'.format(category, line))"
      ],
      "execution_count": 53,
      "outputs": [
        {
          "output_type": "stream",
          "name": "stdout",
          "text": [
            "category: English \t line: Pearson\n",
            "category: Spanish \t line: Noguerra\n",
            "category: Russian \t line: Jigulenkov\n",
            "category: Irish \t line: Whalen\n",
            "category: Czech \t line: Semick\n",
            "category: Japanese \t line: Ogura\n",
            "category: Portuguese \t line: Cruz\n",
            "category: Irish \t line: Macshuibhne\n",
            "category: Scottish \t line: Allan\n",
            "category: Scottish \t line: Burns\n"
          ]
        }
      ]
    },
    {
      "cell_type": "markdown",
      "metadata": {
        "id": "yjo3Yls77c0i"
      },
      "source": [
        "# 손실함수"
      ]
    },
    {
      "cell_type": "code",
      "metadata": {
        "id": "OsvodvpE6iBU"
      },
      "source": [
        "# 손실함수 지정\n",
        "criterion = nn.NLLLoss()"
      ],
      "execution_count": 46,
      "outputs": []
    },
    {
      "cell_type": "markdown",
      "metadata": {
        "id": "57friU3b7ptR"
      },
      "source": [
        "# 모델학습"
      ]
    },
    {
      "cell_type": "code",
      "metadata": {
        "id": "DYMxkPqq7mh5"
      },
      "source": [
        "learning_rate = 0.005 # 이것을 너무 높게 설정하면 발산할 수 있고, 너무 낮으면 학습이 되지 않을 수 있습니다.\n",
        "\n",
        "def train(category_tensor, line_tensor):\n",
        "    hidden = rnn.initHidden()\n",
        "\n",
        "    rnn.zero_grad()\n",
        "\n",
        "    for i in range(line_tensor.size()[0]):\n",
        "        output, hidden = rnn(line_tensor[i], hidden)\n",
        "\n",
        "    loss = criterion(output, category_tensor)\n",
        "    loss.backward()\n",
        "\n",
        "    # 매개변수의 경사도에 학습률을 곱해서 그 매개변수의 값에 더합니다.\n",
        "    for p in rnn.parameters():\n",
        "        p.data.add_(p.grad.data, alpha=-learning_rate)\n",
        "\n",
        "    return output, loss.item()"
      ],
      "execution_count": 54,
      "outputs": []
    },
    {
      "cell_type": "code",
      "metadata": {
        "colab": {
          "base_uri": "https://localhost:8080/"
        },
        "id": "7bLQ1a-L8Pmn",
        "outputId": "0a7dc4d9-4a09-466e-8889-f1b34b8e799b"
      },
      "source": [
        "import time\n",
        "import math\n",
        "\n",
        "n_iters = 100000\n",
        "print_every = 5000\n",
        "plot_every = 1000\n",
        "\n",
        "\n",
        "\n",
        "# 도식화를 위한 손실 추적\n",
        "current_loss = 0\n",
        "all_losses = []\n",
        "\n",
        "def timeSince(since):\n",
        "    now = time.time()\n",
        "    s = now - since\n",
        "    m = math.floor(s / 60)\n",
        "    s -= m * 60\n",
        "    return '%dm %ds' % (m, s)\n",
        "\n",
        "start = time.time()\n",
        "\n",
        "for iter in range(1, n_iters + 1):\n",
        "    category, line, category_tensor, line_tensor = randomTrainingExample()\n",
        "    output, loss = train(category_tensor, line_tensor)\n",
        "    current_loss += loss\n",
        "\n",
        "    # iter 숫자, 손실, 이름, 추측 화면 출력\n",
        "    if iter % print_every == 0:\n",
        "        guess, guess_i = categoryFromOutput(output)\n",
        "        correct = '✓' if guess == category else '✗ (%s)' % category\n",
        "        print('%d %d%% (%s) %.4f %s / %s %s' % (iter, iter / n_iters * 100, timeSince(start), loss, line, guess, correct))\n",
        "\n",
        "    # 현재 평균 손실을 전체 손실 리스트에 추가\n",
        "    if iter % plot_every == 0:\n",
        "        all_losses.append(current_loss / plot_every)\n",
        "        current_loss = 0"
      ],
      "execution_count": 55,
      "outputs": [
        {
          "output_type": "stream",
          "name": "stdout",
          "text": [
            "5000 5% (0m 3s) 2.4604 Rothbauer / Dutch ✗ (German)\n",
            "10000 10% (0m 7s) 1.2420 Kapsimalles / Greek ✓\n",
            "15000 15% (0m 11s) 1.2493 Wang / Chinese ✓\n",
            "20000 20% (0m 15s) 0.5927 Yan / Chinese ✓\n",
            "25000 25% (0m 18s) 1.0891 O'Ryan / Irish ✓\n",
            "30000 30% (0m 22s) 2.3748 Mozdzierz / Dutch ✗ (Polish)\n",
            "35000 35% (0m 26s) 1.3574 Rosario / Italian ✗ (Portuguese)\n",
            "40000 40% (0m 29s) 0.2823 Kefalas / Greek ✓\n",
            "45000 45% (0m 33s) 0.3482 Nahas / Arabic ✓\n",
            "50000 50% (0m 37s) 1.5962 Gordon / English ✗ (Scottish)\n",
            "55000 55% (0m 41s) 2.3480 Duval / Vietnamese ✗ (French)\n",
            "60000 60% (0m 44s) 0.9623 Said / Arabic ✓\n",
            "65000 65% (0m 48s) 1.0538 Xiang / Vietnamese ✗ (Chinese)\n",
            "70000 70% (0m 52s) 1.1348 Janosik / Czech ✓\n",
            "75000 75% (0m 56s) 2.2186 Tsai  / Arabic ✗ (Korean)\n",
            "80000 80% (0m 59s) 0.4333 Barbieri / Italian ✓\n",
            "85000 85% (1m 3s) 1.1170 Durr / German ✓\n",
            "90000 90% (1m 7s) 0.9157 Bolcar / Czech ✓\n",
            "95000 95% (1m 11s) 2.2408 Andel / Czech ✗ (Dutch)\n",
            "100000 100% (1m 14s) 1.6697 Altena / Spanish ✗ (Dutch)\n"
          ]
        }
      ]
    },
    {
      "cell_type": "markdown",
      "metadata": {
        "id": "WX2H5UjrBoH8"
      },
      "source": [
        "### 결과 시각화하기"
      ]
    },
    {
      "cell_type": "code",
      "metadata": {
        "colab": {
          "base_uri": "https://localhost:8080/",
          "height": 262
        },
        "id": "BDmMjUBj92fr",
        "outputId": "d762198a-3a63-49ce-dd90-5154d7070709"
      },
      "source": [
        "import matplotlib.pyplot as plt\n",
        "import matplotlib.ticker as ticker\n",
        "\n",
        "plt.style.use('seaborn-white')\n",
        "\n",
        "plt.figure()\n",
        "plt.plot(all_losses)\n",
        "plt.show()\n",
        "\n"
      ],
      "execution_count": 56,
      "outputs": [
        {
          "output_type": "display_data",
          "data": {
            "image/png": "[encoded data removed]",
            "text/plain": [
              "<Figure size 432x288 with 1 Axes>"
            ]
          },
          "metadata": {}
        }
      ]
    },
    {
      "cell_type": "markdown",
      "metadata": {
        "id": "-VwWTu3pB_8j"
      },
      "source": [
        "# 모델 테스트"
      ]
    },
    {
      "cell_type": "code",
      "metadata": {
        "colab": {
          "base_uri": "https://localhost:8080/",
          "height": 311
        },
        "id": "ExlvsthsB-Gy",
        "outputId": "c1527ec2-0517-409c-f273-274a4a8be675"
      },
      "source": [
        "confusion = torch.zeros(n_categories, n_categories)\n",
        "n_confusion = 100000\n",
        "\n",
        "def evaluate(line_tensor):\n",
        "  hidden = rnn.initHidden()\n",
        "\n",
        "  for i in range(line_tensor.size()[0]):\n",
        "    output, hidden = rnn(line_tensor[i], hidden)\n",
        "\n",
        "  return output\n",
        "\n",
        "for i in range(n_confusion):\n",
        "  category, line, category_tensor, line_tensor = randomTrainingExample()\n",
        "  output = evaluate(line_tensor)\n",
        "  guess, guess_i = categoryFromOutput(output)\n",
        "  category_i = all_categories.index(category)\n",
        "  confusion[category_i][guess_i] += 1 \n",
        "\n",
        "for i in range(n_categories):\n",
        "  confusion[i] = confusion[i] / confusion[i].sum()\n",
        "\n",
        "fig = plt.figure()\n",
        "ax = fig.add_subplot(111)\n",
        "cax = ax.matshow(confusion.numpy())\n",
        "fig.colorbar(cax)\n",
        "ax.set_xticklabels([''] + all_categories, rotation=90)\n",
        "ax.set_yticklabels([''] + all_categories)\n",
        "ax.xaxis.set_major_locator(ticker.MultipleLocator(1))\n",
        "ax.yaxis.set_major_locator(ticker.MultipleLocator(1))\n",
        "\n",
        "plt.show()"
      ],
      "execution_count": 59,
      "outputs": [
        {
          "output_type": "display_data",
          "data": {
            "image/png": "[encoded data removed]",
            "text/plain": [
              "<Figure size 432x288 with 2 Axes>"
            ]
          },
          "metadata": {}
        }
      ]
    },
    {
      "cell_type": "markdown",
      "metadata": {
        "id": "BK-CklC9EBhL"
      },
      "source": [
        "# 사용자 입력으로부터 실행하기"
      ]
    },
    {
      "cell_type": "code",
      "metadata": {
        "colab": {
          "base_uri": "https://localhost:8080/"
        },
        "id": "xARHziuGDdH-",
        "outputId": "e2e4427f-7cf6-4da6-8b64-a6d0df30c3e4"
      },
      "source": [
        "def predict(input_line, n_predictions=3):\n",
        "  print('\\n > %s' % input_line)\n",
        "  with torch.no_grad():\n",
        "    output = evaluate(lineToTensor(input_line))\n",
        "\n",
        "    topv, topi = output.topk(n_predictions, 1, True)\n",
        "    predictions = []\n",
        "\n",
        "    for i in range(n_predictions):\n",
        "      value = topv[0][i].item()\n",
        "      category_index = topi[0][i].item()\n",
        "      print('(%.2f %s' % (value, all_categories[category_index]))\n",
        "      predictions.append([value, all_categories[category_index]])\n",
        "\n",
        "predict('Jackson')\n",
        "predict('Bill')\n",
        "predict('Dovesky')\n",
        "predict('Nanon')"
      ],
      "execution_count": 66,
      "outputs": [
        {
          "output_type": "stream",
          "name": "stdout",
          "text": [
            "\n",
            " > Jackson\n",
            "(-1.03 Scottish\n",
            "(-1.09 English\n",
            "(-2.21 Russian\n",
            "\n",
            " > Bill\n",
            "(-1.55 English\n",
            "(-1.62 Irish\n",
            "(-2.11 Scottish\n",
            "\n",
            " > Dovesky\n",
            "(-0.56 Russian\n",
            "(-1.09 Czech\n",
            "(-3.04 English\n",
            "\n",
            " > Nanon\n",
            "(-0.94 Arabic\n",
            "(-1.63 Irish\n",
            "(-2.34 English\n"
          ]
        }
      ]
    },
    {
      "cell_type": "code",
      "metadata": {
        "id": "vngRCPBMFEz3"
      },
      "source": [
        ""
      ],
      "execution_count": null,
      "outputs": []
    }
  ]
}