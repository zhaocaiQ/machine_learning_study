{
  "nbformat": 4,
  "nbformat_minor": 0,
  "metadata": {
    "colab": {
      "name": "pytorch_기초.ipynb",
      "provenance": [],
      "authorship_tag": "ABX9TyO+P7/6fWmKVFb5HBqwxcw2",
      "include_colab_link": true
    },
    "kernelspec": {
      "name": "python3",
      "display_name": "Python 3"
    },
    "language_info": {
      "name": "python"
    }
  },
  "cells": [
    {
      "cell_type": "markdown",
      "metadata": {
        "id": "view-in-github",
        "colab_type": "text"
      },
      "source": [
        "<a href=\"https://colab.research.google.com/github/zhaocaiQ/machine_learning_study/blob/master/pytorch_%EA%B8%B0%EC%B4%88.ipynb\" target=\"_parent\"><img src=\"https://colab.research.google.com/assets/colab-badge.svg\" alt=\"Open In Colab\"/></a>"
      ]
    },
    {
      "cell_type": "markdown",
      "metadata": {
        "id": "PrXG24n3Zqi_"
      },
      "source": [
        "# 텐서(tensors)\n",
        " #### 넘파이(Numpy)의 ndarray와 유사\n",
        " #### GPU를 사용한 연산 가속도 가능"
      ]
    },
    {
      "cell_type": "code",
      "metadata": {
        "id": "ubfOh9V4Y1rd"
      },
      "source": [
        "#파이터치 라이브러리\n",
        "import torch"
      ],
      "execution_count": 1,
      "outputs": []
    },
    {
      "cell_type": "code",
      "metadata": {
        "colab": {
          "base_uri": "https://localhost:8080/",
          "height": 35
        },
        "id": "y3U3bZDiZCFi",
        "outputId": "06ba863b-cb4a-4cf3-9ff0-9ff6cb807084"
      },
      "source": [
        "#버전확인\n",
        "torch.__version__"
      ],
      "execution_count": 2,
      "outputs": [
        {
          "output_type": "execute_result",
          "data": {
            "application/vnd.google.colaboratory.intrinsic+json": {
              "type": "string"
            },
            "text/plain": [
              "'1.10.0+cu111'"
            ]
          },
          "metadata": {},
          "execution_count": 2
        }
      ]
    },
    {
      "cell_type": "code",
      "metadata": {
        "colab": {
          "base_uri": "https://localhost:8080/"
        },
        "id": "OEJ4T6sPZQUF",
        "outputId": "94bb5c94-c4ca-47af-95a2-1d476fbfb724"
      },
      "source": [
        "#초기화 되지 않은 행렬\n",
        "x = torch.empty(4, 2)\n",
        "print(x)"
      ],
      "execution_count": 4,
      "outputs": [
        {
          "output_type": "stream",
          "name": "stdout",
          "text": [
            "tensor([[2.4450e-01, 3.0663e-41],\n",
            "        [3.3631e-44, 0.0000e+00],\n",
            "        [       nan, 6.4460e-44],\n",
            "        [1.1578e+27, 1.1362e+30]])\n"
          ]
        }
      ]
    },
    {
      "cell_type": "code",
      "metadata": {
        "colab": {
          "base_uri": "https://localhost:8080/"
        },
        "id": "4Q2dj5nbZall",
        "outputId": "66194bd7-2feb-4dce-8302-3d1ad0e5e9a3"
      },
      "source": [
        "#무작위로 초기화된 행렬\n",
        "x = torch.rand(4, 2)\n",
        "print(x)"
      ],
      "execution_count": 5,
      "outputs": [
        {
          "output_type": "stream",
          "name": "stdout",
          "text": [
            "tensor([[0.7150, 0.6934],\n",
            "        [0.4583, 0.2476],\n",
            "        [0.5531, 0.3319],\n",
            "        [0.3472, 0.2138]])\n"
          ]
        }
      ]
    },
    {
      "cell_type": "code",
      "metadata": {
        "colab": {
          "base_uri": "https://localhost:8080/"
        },
        "id": "bvYngjzUZofS",
        "outputId": "2d003c7e-f2d3-4db7-e95e-1ba503617770"
      },
      "source": [
        "# dtype이 long, 0으로 채워진 텐서\n",
        "x = torch.zeros(4, 2, dtype=torch.long)\n",
        "print(x)"
      ],
      "execution_count": 7,
      "outputs": [
        {
          "output_type": "stream",
          "name": "stdout",
          "text": [
            "tensor([[0, 0],\n",
            "        [0, 0],\n",
            "        [0, 0],\n",
            "        [0, 0]])\n"
          ]
        }
      ]
    },
    {
      "cell_type": "code",
      "metadata": {
        "colab": {
          "base_uri": "https://localhost:8080/"
        },
        "id": "PaBKkW_qaIMH",
        "outputId": "bb2788e7-74a9-4a24-bde5-ee10ba8e1d85"
      },
      "source": [
        "# 원하는 값으로 텐서 만들기\n",
        "x = torch.tensor([3, 2.3])\n",
        "print(x)"
      ],
      "execution_count": 8,
      "outputs": [
        {
          "output_type": "stream",
          "name": "stdout",
          "text": [
            "tensor([3.0000, 2.3000])\n"
          ]
        }
      ]
    },
    {
      "cell_type": "code",
      "metadata": {
        "colab": {
          "base_uri": "https://localhost:8080/"
        },
        "id": "fuIAriQoaSiK",
        "outputId": "e4f1be24-4931-4500-d173-5c9b091722e0"
      },
      "source": [
        "# 1로 텐서만들기, double은 float64로 나옴\n",
        "x = x.new_ones(2, 4, dtype=torch.double)\n",
        "print(x)"
      ],
      "execution_count": 11,
      "outputs": [
        {
          "output_type": "stream",
          "name": "stdout",
          "text": [
            "tensor([[1., 1., 1., 1.],\n",
            "        [1., 1., 1., 1.]], dtype=torch.float64)\n"
          ]
        }
      ]
    },
    {
      "cell_type": "code",
      "metadata": {
        "colab": {
          "base_uri": "https://localhost:8080/"
        },
        "id": "9oLJLmZJaauY",
        "outputId": "c4f1de1d-88fd-49cb-87ce-86af615ca205"
      },
      "source": [
        "# 기존의 x라는 형태(크기)를 그대로 가져와서 (2, 4) 안의 값만 랜덤하게 채워줌.\n",
        "x = torch.randn_like(x,dtype=torch.float)\n",
        "print(x)"
      ],
      "execution_count": 12,
      "outputs": [
        {
          "output_type": "stream",
          "name": "stdout",
          "text": [
            "tensor([[ 0.9943,  0.1338,  0.6624,  0.4021],\n",
            "        [ 1.3480, -0.6067,  1.4737, -1.4247]])\n"
          ]
        }
      ]
    },
    {
      "cell_type": "code",
      "metadata": {
        "colab": {
          "base_uri": "https://localhost:8080/"
        },
        "id": "q7eIFk2XbD-L",
        "outputId": "fac13527-e2d3-4397-f027-55eb015e2571"
      },
      "source": [
        "# 텐서의 크기\n",
        "print(x.size())"
      ],
      "execution_count": 13,
      "outputs": [
        {
          "output_type": "stream",
          "name": "stdout",
          "text": [
            "torch.Size([2, 4])\n"
          ]
        }
      ]
    },
    {
      "cell_type": "code",
      "metadata": {
        "id": "JuociyKtbJcV"
      },
      "source": [
        "# 텐서의 연산"
      ],
      "execution_count": 14,
      "outputs": []
    },
    {
      "cell_type": "code",
      "metadata": {
        "colab": {
          "base_uri": "https://localhost:8080/"
        },
        "id": "UUoZ9kwTbOST",
        "outputId": "80762631-a30a-4a94-cf28-070161c957fa"
      },
      "source": [
        "# 덧셈1 +오퍼레이터 이용\n",
        "y = torch.rand(2, 4)\n",
        "print(y)\n",
        "print(x + y)"
      ],
      "execution_count": 17,
      "outputs": [
        {
          "output_type": "stream",
          "name": "stdout",
          "text": [
            "tensor([[0.9957, 0.8984, 0.7739, 0.3891],\n",
            "        [0.0285, 0.6456, 0.5135, 0.1738]])\n",
            "tensor([[ 1.9900,  1.0321,  1.4363,  0.7911],\n",
            "        [ 1.3765,  0.0390,  1.9872, -1.2509]])\n"
          ]
        }
      ]
    },
    {
      "cell_type": "code",
      "metadata": {
        "colab": {
          "base_uri": "https://localhost:8080/"
        },
        "id": "-vzED--LbPsr",
        "outputId": "9bb9675a-b4cd-48aa-fa10-658444d85e4b"
      },
      "source": [
        "# 덧셈2 add()함수 이용\n",
        "print(torch.add(x, y))"
      ],
      "execution_count": 19,
      "outputs": [
        {
          "output_type": "stream",
          "name": "stdout",
          "text": [
            "tensor([[ 1.9900,  1.0321,  1.4363,  0.7911],\n",
            "        [ 1.3765,  0.0390,  1.9872, -1.2509]])\n"
          ]
        }
      ]
    },
    {
      "cell_type": "code",
      "metadata": {
        "colab": {
          "base_uri": "https://localhost:8080/"
        },
        "id": "s07qxY5absSH",
        "outputId": "bfc9e47c-9736-46f9-d458-56f79465d2b5"
      },
      "source": [
        "# 덧셈3 결과 텐서를 인자로 제공\n",
        "result = torch.empty(2, 4)\n",
        "torch.add(x, y, out=result) #x와 y를 더한 값을 out으로 result에 할당해줌.\n",
        "print(result)"
      ],
      "execution_count": 21,
      "outputs": [
        {
          "output_type": "stream",
          "name": "stdout",
          "text": [
            "tensor([[ 1.9900,  1.0321,  1.4363,  0.7911],\n",
            "        [ 1.3765,  0.0390,  1.9872, -1.2509]])\n"
          ]
        }
      ]
    },
    {
      "cell_type": "code",
      "metadata": {
        "colab": {
          "base_uri": "https://localhost:8080/"
        },
        "id": "HFqGz4ttb_Ph",
        "outputId": "b7e23604-0716-4aa1-9f95-539a87eee8ea"
      },
      "source": [
        "# 덧셈4 in-place 방식 ex) y += x 방식과 같음.\n",
        "print(x)\n",
        "print(y)\n",
        "y.add_(x)\n",
        "print(y)"
      ],
      "execution_count": 22,
      "outputs": [
        {
          "output_type": "stream",
          "name": "stdout",
          "text": [
            "tensor([[ 0.9943,  0.1338,  0.6624,  0.4021],\n",
            "        [ 1.3480, -0.6067,  1.4737, -1.4247]])\n",
            "tensor([[0.9957, 0.8984, 0.7739, 0.3891],\n",
            "        [0.0285, 0.6456, 0.5135, 0.1738]])\n",
            "tensor([[ 1.9900,  1.0321,  1.4363,  0.7911],\n",
            "        [ 1.3765,  0.0390,  1.9872, -1.2509]])\n"
          ]
        }
      ]
    },
    {
      "cell_type": "code",
      "metadata": {
        "id": "zU9H2RnhcSgc"
      },
      "source": [
        "# 그외 연산들"
      ],
      "execution_count": 23,
      "outputs": []
    },
    {
      "cell_type": "code",
      "metadata": {
        "colab": {
          "base_uri": "https://localhost:8080/"
        },
        "id": "MQrJy44CccNd",
        "outputId": "012d514f-45d2-4b62-8d0f-a5343c7ebd33"
      },
      "source": [
        "x = torch.Tensor([[1, 3],[5, 7]])\n",
        "y = torch.Tensor([[2, 4],[6, 8]])\n",
        "\n",
        "# x에서 y 빼기\n",
        "print(x - y)\n",
        "print(torch.sub(x, y))\n",
        "print(x.sub(y))"
      ],
      "execution_count": 27,
      "outputs": [
        {
          "output_type": "stream",
          "name": "stdout",
          "text": [
            "tensor([[-1., -1.],\n",
            "        [-1., -1.]])\n",
            "tensor([[-1., -1.],\n",
            "        [-1., -1.]])\n",
            "tensor([[-1., -1.],\n",
            "        [-1., -1.]])\n"
          ]
        }
      ]
    },
    {
      "cell_type": "code",
      "metadata": {
        "colab": {
          "base_uri": "https://localhost:8080/"
        },
        "id": "vNfshjdkc1ks",
        "outputId": "9cc2c6a7-5e80-4f15-ba52-6d616947bf18"
      },
      "source": [
        "x = torch.Tensor([[1, 3],[5, 7]])\n",
        "y = torch.Tensor([[2, 4],[6, 8]])\n",
        "\n",
        "# x에서 y 곱셈\n",
        "print(x * y)\n",
        "print(torch.mul(x, y))\n",
        "print(x.mul(y))"
      ],
      "execution_count": 28,
      "outputs": [
        {
          "output_type": "stream",
          "name": "stdout",
          "text": [
            "tensor([[ 2., 12.],\n",
            "        [30., 56.]])\n",
            "tensor([[ 2., 12.],\n",
            "        [30., 56.]])\n",
            "tensor([[ 2., 12.],\n",
            "        [30., 56.]])\n"
          ]
        }
      ]
    },
    {
      "cell_type": "code",
      "metadata": {
        "colab": {
          "base_uri": "https://localhost:8080/"
        },
        "id": "OPbikbP0d6nE",
        "outputId": "8ee6232b-0f96-441d-99d5-02b4fb54e4e8"
      },
      "source": [
        "x = torch.Tensor([[1, 3],[5, 7]])\n",
        "y = torch.Tensor([[2, 4],[6, 8]])\n",
        "\n",
        "# x에서 y 나눗셈\n",
        "print(x / y)\n",
        "print(torch.div(x, y))\n",
        "print(x.div(y))"
      ],
      "execution_count": 29,
      "outputs": [
        {
          "output_type": "stream",
          "name": "stdout",
          "text": [
            "tensor([[0.5000, 0.7500],\n",
            "        [0.8333, 0.8750]])\n",
            "tensor([[0.5000, 0.7500],\n",
            "        [0.8333, 0.8750]])\n",
            "tensor([[0.5000, 0.7500],\n",
            "        [0.8333, 0.8750]])\n"
          ]
        }
      ]
    },
    {
      "cell_type": "code",
      "metadata": {
        "colab": {
          "base_uri": "https://localhost:8080/"
        },
        "id": "HUaBSt5feBAK",
        "outputId": "73a8ab43-cefe-46b9-dfdf-306adb71c8ee"
      },
      "source": [
        "x = torch.Tensor([[1, 3],[5, 7]])\n",
        "y = torch.Tensor([[2, 4],[6, 8]])\n",
        "\n",
        "# x에서 y .연산 (행렬 곱셈)\n",
        "print(torch.mm(x, y))"
      ],
      "execution_count": 30,
      "outputs": [
        {
          "output_type": "stream",
          "name": "stdout",
          "text": [
            "tensor([[20., 28.],\n",
            "        [52., 76.]])\n"
          ]
        }
      ]
    },
    {
      "cell_type": "code",
      "metadata": {
        "id": "BEpR_G7ZeHov"
      },
      "source": [
        "# 텐서 조작"
      ],
      "execution_count": 31,
      "outputs": []
    },
    {
      "cell_type": "code",
      "metadata": {
        "colab": {
          "base_uri": "https://localhost:8080/"
        },
        "id": "qR2zwAcfeO6p",
        "outputId": "25886f39-bbc1-4971-c9d7-c718bfe0f564"
      },
      "source": [
        "# 인덱싱\n",
        "print(x)"
      ],
      "execution_count": 32,
      "outputs": [
        {
          "output_type": "stream",
          "name": "stdout",
          "text": [
            "tensor([[1., 3.],\n",
            "        [5., 7.]])\n"
          ]
        }
      ]
    },
    {
      "cell_type": "code",
      "metadata": {
        "colab": {
          "base_uri": "https://localhost:8080/"
        },
        "id": "vQdzQb4zeRsg",
        "outputId": "a5c180d2-baea-47ad-b1e4-740269237e64"
      },
      "source": [
        "print(x[:,1])"
      ],
      "execution_count": 34,
      "outputs": [
        {
          "output_type": "stream",
          "name": "stdout",
          "text": [
            "tensor([3., 7.])\n"
          ]
        }
      ]
    },
    {
      "cell_type": "code",
      "metadata": {
        "colab": {
          "base_uri": "https://localhost:8080/"
        },
        "id": "zhkzw8tJeTvR",
        "outputId": "d136ee5d-c18b-47ad-fc39-def6a0ad8282"
      },
      "source": [
        "# view -> 텐서의 크기나 모양을 변경\n",
        "x = torch.randn(4, 5)\n",
        "y = x.view(20) # 1차원형태로 표현\n",
        "z = x.view(5, -1) # 5행으로 -1은 있는 값 자동배치\n",
        "print(x.size())\n",
        "print(y.size())\n",
        "print(z.size())"
      ],
      "execution_count": 35,
      "outputs": [
        {
          "output_type": "stream",
          "name": "stdout",
          "text": [
            "torch.Size([4, 5])\n",
            "torch.Size([20])\n",
            "torch.Size([5, 4])\n"
          ]
        }
      ]
    },
    {
      "cell_type": "code",
      "metadata": {
        "colab": {
          "base_uri": "https://localhost:8080/"
        },
        "id": "FHIww4I9enUX",
        "outputId": "797a8628-4e92-4945-89d6-379b2faa22a6"
      },
      "source": [
        "# item - 텐서에 값이 단 하나라도 존재하면 숫자값을 얻을 수 있음\n",
        "x = torch.randn(1)\n",
        "print(x)\n",
        "print(x.item())\n",
        "print(x.dtype)"
      ],
      "execution_count": 36,
      "outputs": [
        {
          "output_type": "stream",
          "name": "stdout",
          "text": [
            "tensor([-0.1540])\n",
            "-0.15399405360221863\n",
            "torch.float32\n"
          ]
        }
      ]
    },
    {
      "cell_type": "code",
      "metadata": {
        "colab": {
          "base_uri": "https://localhost:8080/",
          "height": 248
        },
        "id": "Xazhzsx6fCDI",
        "outputId": "6aea898d-b3b7-4c86-ef13-b38f2122b38d"
      },
      "source": [
        "# 스칼라값 하나만 존재해야 함. -> 2개 있으면 item()함수 사용 불가\n",
        "# 값 하나 있는 것을 스칼라라고 부름.\n",
        "\n",
        "x = torch.randn(2)\n",
        "print(x)\n",
        "print(x.item())\n",
        "print(x.dtype)"
      ],
      "execution_count": 37,
      "outputs": [
        {
          "output_type": "stream",
          "name": "stdout",
          "text": [
            "tensor([-0.6968,  0.6578])\n"
          ]
        },
        {
          "output_type": "error",
          "ename": "ValueError",
          "evalue": "ignored",
          "traceback": [
            "\u001b[0;31m---------------------------------------------------------------------------\u001b[0m",
            "\u001b[0;31mValueError\u001b[0m                                Traceback (most recent call last)",
            "\u001b[0;32m<ipython-input-37-363aa7c44918>\u001b[0m in \u001b[0;36m<module>\u001b[0;34m()\u001b[0m\n\u001b[1;32m      3\u001b[0m \u001b[0mx\u001b[0m \u001b[0;34m=\u001b[0m \u001b[0mtorch\u001b[0m\u001b[0;34m.\u001b[0m\u001b[0mrandn\u001b[0m\u001b[0;34m(\u001b[0m\u001b[0;36m2\u001b[0m\u001b[0;34m)\u001b[0m\u001b[0;34m\u001b[0m\u001b[0;34m\u001b[0m\u001b[0m\n\u001b[1;32m      4\u001b[0m \u001b[0mprint\u001b[0m\u001b[0;34m(\u001b[0m\u001b[0mx\u001b[0m\u001b[0;34m)\u001b[0m\u001b[0;34m\u001b[0m\u001b[0;34m\u001b[0m\u001b[0m\n\u001b[0;32m----> 5\u001b[0;31m \u001b[0mprint\u001b[0m\u001b[0;34m(\u001b[0m\u001b[0mx\u001b[0m\u001b[0;34m.\u001b[0m\u001b[0mitem\u001b[0m\u001b[0;34m(\u001b[0m\u001b[0;34m)\u001b[0m\u001b[0;34m)\u001b[0m\u001b[0;34m\u001b[0m\u001b[0;34m\u001b[0m\u001b[0m\n\u001b[0m\u001b[1;32m      6\u001b[0m \u001b[0mprint\u001b[0m\u001b[0;34m(\u001b[0m\u001b[0mx\u001b[0m\u001b[0;34m.\u001b[0m\u001b[0mdtype\u001b[0m\u001b[0;34m)\u001b[0m\u001b[0;34m\u001b[0m\u001b[0;34m\u001b[0m\u001b[0m\n",
            "\u001b[0;31mValueError\u001b[0m: only one element tensors can be converted to Python scalars"
          ]
        }
      ]
    },
    {
      "cell_type": "code",
      "metadata": {
        "colab": {
          "base_uri": "https://localhost:8080/"
        },
        "id": "fk-EUpdPfP-8",
        "outputId": "f63c22c7-69d0-4cc0-b349-5636a12df132"
      },
      "source": [
        "# squeeze 차원 축소(제거)\n",
        "tensor = torch.rand(1, 3, 3)\n",
        "print(tensor) # 대가로 수 3개\n",
        "tensor.shape"
      ],
      "execution_count": 40,
      "outputs": [
        {
          "output_type": "stream",
          "name": "stdout",
          "text": [
            "tensor([[[0.7746, 0.3925, 0.6710],\n",
            "         [0.0451, 0.7141, 0.3799],\n",
            "         [0.8377, 0.6894, 0.7772]]])\n"
          ]
        },
        {
          "output_type": "execute_result",
          "data": {
            "text/plain": [
              "torch.Size([1, 3, 3])"
            ]
          },
          "metadata": {},
          "execution_count": 40
        }
      ]
    },
    {
      "cell_type": "code",
      "metadata": {
        "colab": {
          "base_uri": "https://localhost:8080/"
        },
        "id": "X-o3avBmfeT4",
        "outputId": "c2e2535f-247a-4d2e-b304-c9e0b819a9df"
      },
      "source": [
        "# 기존 3차원 배열에서 2차원으로 줄임.\n",
        "t = tensor.squeeze()\n",
        "print(t) # 대가로 수 2개\n",
        "print(t.shape)"
      ],
      "execution_count": 39,
      "outputs": [
        {
          "output_type": "stream",
          "name": "stdout",
          "text": [
            "tensor([[0.0102, 0.5602, 0.2174],\n",
            "        [0.4388, 0.9222, 0.4280],\n",
            "        [0.8667, 0.5184, 0.1668]])\n",
            "torch.Size([3, 3])\n"
          ]
        }
      ]
    },
    {
      "cell_type": "code",
      "metadata": {
        "colab": {
          "base_uri": "https://localhost:8080/"
        },
        "id": "TnwjKKyWfiZO",
        "outputId": "0925d8cb-d025-48c8-ad48-846f51f3f86b"
      },
      "source": [
        "# unsqueeze 차원을 증가(생성)\n",
        "tensor = torch.rand(1, 3, 3)\n",
        "print(tensor) # 대가로 수 3개\n",
        "tensor.shape"
      ],
      "execution_count": 41,
      "outputs": [
        {
          "output_type": "stream",
          "name": "stdout",
          "text": [
            "tensor([[[0.5891, 0.9853, 0.5856],\n",
            "         [0.6703, 0.3161, 0.2311],\n",
            "         [0.5776, 0.6013, 0.2395]]])\n"
          ]
        },
        {
          "output_type": "execute_result",
          "data": {
            "text/plain": [
              "torch.Size([1, 3, 3])"
            ]
          },
          "metadata": {},
          "execution_count": 41
        }
      ]
    },
    {
      "cell_type": "code",
      "metadata": {
        "colab": {
          "base_uri": "https://localhost:8080/"
        },
        "id": "aP2j2I7ff14W",
        "outputId": "0929761a-e4fb-4dd4-cac6-b8f9188650d8"
      },
      "source": [
        "t = tensor.unsqueeze(dim=0)\n",
        "print(t) # 대가로 수 4개\n",
        "print(t.shape)"
      ],
      "execution_count": 43,
      "outputs": [
        {
          "output_type": "stream",
          "name": "stdout",
          "text": [
            "tensor([[[[0.5891, 0.9853, 0.5856],\n",
            "          [0.6703, 0.3161, 0.2311],\n",
            "          [0.5776, 0.6013, 0.2395]]]])\n",
            "torch.Size([1, 1, 3, 3])\n"
          ]
        }
      ]
    },
    {
      "cell_type": "code",
      "metadata": {
        "colab": {
          "base_uri": "https://localhost:8080/"
        },
        "id": "M25kcM-NgFtH",
        "outputId": "e9ce5ff4-260e-4a0a-cb63-5b2578412297"
      },
      "source": [
        "# stack 텐서간 결합\n",
        "x = torch.FloatTensor([1,4])\n",
        "y = torch.FloatTensor([2,5])\n",
        "z = torch.FloatTensor([3,6])\n",
        "\n",
        "print(torch.stack([x, y, z]))"
      ],
      "execution_count": 44,
      "outputs": [
        {
          "output_type": "stream",
          "name": "stdout",
          "text": [
            "tensor([[1., 4.],\n",
            "        [2., 5.],\n",
            "        [3., 6.]])\n"
          ]
        }
      ]
    },
    {
      "cell_type": "markdown",
      "metadata": {
        "id": "QrXQXo1jg-Do"
      },
      "source": [
        "# cat\n",
        "#### 텐서를 결합하는 메소드\n",
        "#### 넘파이의 stack과 유사하지만, 쌓을 dim이 존재해야 함.\n",
        "##### 예를 들어, 해당 차원을 늘려준 후 결합"
      ]
    },
    {
      "cell_type": "code",
      "metadata": {
        "colab": {
          "base_uri": "https://localhost:8080/"
        },
        "id": "E0eyPQeVgou3",
        "outputId": "f1a1b0c0-5cf6-4cb5-f9d4-1add2a7b7fd2"
      },
      "source": [
        "a = torch.randn(1,1,3,3)\n",
        "b = torch.randn(1,1,3,3)\n",
        "c = torch.cat((a,b), dim=0) #dim은 더할 인덱싱?위치를 선택해서 연결할지 정해주는 것.\n",
        "\n",
        "print(c)\n",
        "print(c.size())"
      ],
      "execution_count": 46,
      "outputs": [
        {
          "output_type": "stream",
          "name": "stdout",
          "text": [
            "tensor([[[[-1.8023, -0.5813,  0.1847],\n",
            "          [ 1.3585,  0.5543, -0.4161],\n",
            "          [ 0.2783,  0.4874, -1.6379]]],\n",
            "\n",
            "\n",
            "        [[[-1.2126, -0.3412,  0.8444],\n",
            "          [-0.5492, -0.0700, -0.2231],\n",
            "          [ 0.7113, -1.1228, -1.3494]]]])\n",
            "torch.Size([2, 1, 3, 3])\n"
          ]
        }
      ]
    },
    {
      "cell_type": "code",
      "metadata": {
        "colab": {
          "base_uri": "https://localhost:8080/"
        },
        "id": "SNG-sBANg2l9",
        "outputId": "20ccd1f3-2850-4afc-e009-b891f620e57b"
      },
      "source": [
        "a = torch.randn(1,3,3)\n",
        "b = torch.randn(1,3,3)\n",
        "c = torch.cat((a,b), dim=0)\n",
        "\n",
        "print(c)\n",
        "print(c.size())"
      ],
      "execution_count": 47,
      "outputs": [
        {
          "output_type": "stream",
          "name": "stdout",
          "text": [
            "tensor([[[ 0.9898,  0.0791,  0.1833],\n",
            "         [-0.8203,  0.8161, -0.8315],\n",
            "         [ 0.0078,  0.2916,  1.1305]],\n",
            "\n",
            "        [[ 1.2568, -0.7672,  0.6833],\n",
            "         [-0.6068, -1.7138, -0.6152],\n",
            "         [-0.7013,  0.7311,  0.2035]]])\n",
            "torch.Size([2, 3, 3])\n"
          ]
        }
      ]
    },
    {
      "cell_type": "markdown",
      "metadata": {
        "id": "14SvOCLmhURW"
      },
      "source": [
        "# chunk\n",
        "#### 텐서를 여러 개로 나눌 때 사용\n",
        "#### 몇 개의 텐서로 나눌 것이냐"
      ]
    },
    {
      "cell_type": "code",
      "metadata": {
        "colab": {
          "base_uri": "https://localhost:8080/"
        },
        "id": "vS0LoXA0hGBR",
        "outputId": "6d6f7ecc-5fa5-4c2e-cd4a-d945da27d0b8"
      },
      "source": [
        "tensor = torch.rand(3,6)\n",
        "t1, t2, t3 = torch.chunk(tensor, 3, dim=1) # chunk의 중간 매개변수는 몇개로 텐서를 나눌 것이냐\n",
        "\n",
        "print(tensor)\n",
        "print(t1)\n",
        "print(t2)\n",
        "print(t3)"
      ],
      "execution_count": 50,
      "outputs": [
        {
          "output_type": "stream",
          "name": "stdout",
          "text": [
            "tensor([[0.5980, 0.8907, 0.6222, 0.5296, 0.0914, 0.4992],\n",
            "        [0.3410, 0.7975, 0.3271, 0.1205, 0.0669, 0.9109],\n",
            "        [0.4541, 0.4831, 0.6972, 0.9798, 0.7103, 0.1923]])\n",
            "tensor([[0.5980, 0.8907],\n",
            "        [0.3410, 0.7975],\n",
            "        [0.4541, 0.4831]])\n",
            "tensor([[0.6222, 0.5296],\n",
            "        [0.3271, 0.1205],\n",
            "        [0.6972, 0.9798]])\n",
            "tensor([[0.0914, 0.4992],\n",
            "        [0.0669, 0.9109],\n",
            "        [0.7103, 0.1923]])\n"
          ]
        }
      ]
    },
    {
      "cell_type": "markdown",
      "metadata": {
        "id": "7Rl4zmOthzKW"
      },
      "source": [
        "# split\n",
        "#### chunk와 동일한 기능이지만 조금 다름\n",
        "#### 하나의 텐서당 크기가 얼마이냐"
      ]
    },
    {
      "cell_type": "code",
      "metadata": {
        "colab": {
          "base_uri": "https://localhost:8080/"
        },
        "id": "BJaxGetwhgZy",
        "outputId": "c55b8e9e-b64f-4917-d827-1e631b856bc6"
      },
      "source": [
        "tensor = torch.rand(3,6)\n",
        "t1, t2 = torch.split(tensor, 3, dim=1) # split의 중간 매개변수는 하나의 텐서당 몇개의 크기로 나눌 것이냐\n",
        "print(tensor)\n",
        "print(t1)\n",
        "print(t2)"
      ],
      "execution_count": 51,
      "outputs": [
        {
          "output_type": "stream",
          "name": "stdout",
          "text": [
            "tensor([[0.2327, 0.0532, 0.7066, 0.2201, 0.5310, 0.6894],\n",
            "        [0.1394, 0.1902, 0.3813, 0.4134, 0.8051, 0.1068],\n",
            "        [0.5262, 0.2082, 0.2556, 0.0487, 0.5640, 0.1305]])\n",
            "tensor([[0.2327, 0.0532, 0.7066],\n",
            "        [0.1394, 0.1902, 0.3813],\n",
            "        [0.5262, 0.2082, 0.2556]])\n",
            "tensor([[0.2201, 0.5310, 0.6894],\n",
            "        [0.4134, 0.8051, 0.1068],\n",
            "        [0.0487, 0.5640, 0.1305]])\n"
          ]
        }
      ]
    },
    {
      "cell_type": "code",
      "metadata": {
        "id": "GCHIA7CLiGK1"
      },
      "source": [
        ""
      ],
      "execution_count": null,
      "outputs": []
    }
  ]
}