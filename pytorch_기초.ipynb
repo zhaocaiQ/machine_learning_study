{
  "nbformat": 4,
  "nbformat_minor": 0,
  "metadata": {
    "colab": {
      "name": "pytorch_기초.ipynb",
      "provenance": [],
      "authorship_tag": "ABX9TyOCGlbIfrdg+hhFrquRbtas",
      "include_colab_link": true
    },
    "kernelspec": {
      "name": "python3",
      "display_name": "Python 3"
    },
    "language_info": {
      "name": "python"
    },
    "accelerator": "GPU"
  },
  "cells": [
    {
      "cell_type": "markdown",
      "metadata": {
        "id": "view-in-github",
        "colab_type": "text"
      },
      "source": [
        "<a href=\"https://colab.research.google.com/github/zhaocaiQ/machine_learning_study/blob/master/pytorch_%EA%B8%B0%EC%B4%88.ipynb\" target=\"_parent\"><img src=\"https://colab.research.google.com/assets/colab-badge.svg\" alt=\"Open In Colab\"/></a>"
      ]
    },
    {
      "cell_type": "markdown",
      "metadata": {
        "id": "PrXG24n3Zqi_"
      },
      "source": [
        "# 텐서(tensors)\n",
        " #### 넘파이(Numpy)의 ndarray와 유사\n",
        " #### GPU를 사용한 연산 가속도 가능"
      ]
    },
    {
      "cell_type": "code",
      "metadata": {
        "id": "ubfOh9V4Y1rd"
      },
      "source": [
        "#파이터치 라이브러리\n",
        "import torch"
      ],
      "execution_count": 1,
      "outputs": []
    },
    {
      "cell_type": "code",
      "metadata": {
        "colab": {
          "base_uri": "https://localhost:8080/",
          "height": 35
        },
        "id": "y3U3bZDiZCFi",
        "outputId": "06ba863b-cb4a-4cf3-9ff0-9ff6cb807084"
      },
      "source": [
        "#버전확인\n",
        "torch.__version__"
      ],
      "execution_count": 2,
      "outputs": [
        {
          "output_type": "execute_result",
          "data": {
            "application/vnd.google.colaboratory.intrinsic+json": {
              "type": "string"
            },
            "text/plain": [
              "'1.10.0+cu111'"
            ]
          },
          "metadata": {},
          "execution_count": 2
        }
      ]
    },
    {
      "cell_type": "code",
      "metadata": {
        "colab": {
          "base_uri": "https://localhost:8080/"
        },
        "id": "OEJ4T6sPZQUF",
        "outputId": "94bb5c94-c4ca-47af-95a2-1d476fbfb724"
      },
      "source": [
        "#초기화 되지 않은 행렬\n",
        "x = torch.empty(4, 2)\n",
        "print(x)"
      ],
      "execution_count": 4,
      "outputs": [
        {
          "output_type": "stream",
          "name": "stdout",
          "text": [
            "tensor([[2.4450e-01, 3.0663e-41],\n",
            "        [3.3631e-44, 0.0000e+00],\n",
            "        [       nan, 6.4460e-44],\n",
            "        [1.1578e+27, 1.1362e+30]])\n"
          ]
        }
      ]
    },
    {
      "cell_type": "code",
      "metadata": {
        "colab": {
          "base_uri": "https://localhost:8080/"
        },
        "id": "4Q2dj5nbZall",
        "outputId": "66194bd7-2feb-4dce-8302-3d1ad0e5e9a3"
      },
      "source": [
        "#무작위로 초기화된 행렬\n",
        "x = torch.rand(4, 2)\n",
        "print(x)"
      ],
      "execution_count": 5,
      "outputs": [
        {
          "output_type": "stream",
          "name": "stdout",
          "text": [
            "tensor([[0.7150, 0.6934],\n",
            "        [0.4583, 0.2476],\n",
            "        [0.5531, 0.3319],\n",
            "        [0.3472, 0.2138]])\n"
          ]
        }
      ]
    },
    {
      "cell_type": "code",
      "metadata": {
        "colab": {
          "base_uri": "https://localhost:8080/"
        },
        "id": "bvYngjzUZofS",
        "outputId": "2d003c7e-f2d3-4db7-e95e-1ba503617770"
      },
      "source": [
        "# dtype이 long, 0으로 채워진 텐서\n",
        "x = torch.zeros(4, 2, dtype=torch.long)\n",
        "print(x)"
      ],
      "execution_count": 7,
      "outputs": [
        {
          "output_type": "stream",
          "name": "stdout",
          "text": [
            "tensor([[0, 0],\n",
            "        [0, 0],\n",
            "        [0, 0],\n",
            "        [0, 0]])\n"
          ]
        }
      ]
    },
    {
      "cell_type": "code",
      "metadata": {
        "colab": {
          "base_uri": "https://localhost:8080/"
        },
        "id": "PaBKkW_qaIMH",
        "outputId": "bb2788e7-74a9-4a24-bde5-ee10ba8e1d85"
      },
      "source": [
        "# 원하는 값으로 텐서 만들기\n",
        "x = torch.tensor([3, 2.3])\n",
        "print(x)"
      ],
      "execution_count": 8,
      "outputs": [
        {
          "output_type": "stream",
          "name": "stdout",
          "text": [
            "tensor([3.0000, 2.3000])\n"
          ]
        }
      ]
    },
    {
      "cell_type": "code",
      "metadata": {
        "colab": {
          "base_uri": "https://localhost:8080/"
        },
        "id": "fuIAriQoaSiK",
        "outputId": "e4f1be24-4931-4500-d173-5c9b091722e0"
      },
      "source": [
        "# 1로 텐서만들기, double은 float64로 나옴\n",
        "x = x.new_ones(2, 4, dtype=torch.double)\n",
        "print(x)"
      ],
      "execution_count": 11,
      "outputs": [
        {
          "output_type": "stream",
          "name": "stdout",
          "text": [
            "tensor([[1., 1., 1., 1.],\n",
            "        [1., 1., 1., 1.]], dtype=torch.float64)\n"
          ]
        }
      ]
    },
    {
      "cell_type": "code",
      "metadata": {
        "colab": {
          "base_uri": "https://localhost:8080/"
        },
        "id": "9oLJLmZJaauY",
        "outputId": "c4f1de1d-88fd-49cb-87ce-86af615ca205"
      },
      "source": [
        "# 기존의 x라는 형태(크기)를 그대로 가져와서 (2, 4) 안의 값만 랜덤하게 채워줌.\n",
        "x = torch.randn_like(x,dtype=torch.float)\n",
        "print(x)"
      ],
      "execution_count": 12,
      "outputs": [
        {
          "output_type": "stream",
          "name": "stdout",
          "text": [
            "tensor([[ 0.9943,  0.1338,  0.6624,  0.4021],\n",
            "        [ 1.3480, -0.6067,  1.4737, -1.4247]])\n"
          ]
        }
      ]
    },
    {
      "cell_type": "code",
      "metadata": {
        "colab": {
          "base_uri": "https://localhost:8080/"
        },
        "id": "q7eIFk2XbD-L",
        "outputId": "fac13527-e2d3-4397-f027-55eb015e2571"
      },
      "source": [
        "# 텐서의 크기\n",
        "print(x.size())"
      ],
      "execution_count": 13,
      "outputs": [
        {
          "output_type": "stream",
          "name": "stdout",
          "text": [
            "torch.Size([2, 4])\n"
          ]
        }
      ]
    },
    {
      "cell_type": "code",
      "metadata": {
        "id": "JuociyKtbJcV"
      },
      "source": [
        "# 텐서의 연산"
      ],
      "execution_count": 14,
      "outputs": []
    },
    {
      "cell_type": "code",
      "metadata": {
        "colab": {
          "base_uri": "https://localhost:8080/"
        },
        "id": "UUoZ9kwTbOST",
        "outputId": "80762631-a30a-4a94-cf28-070161c957fa"
      },
      "source": [
        "# 덧셈1 +오퍼레이터 이용\n",
        "y = torch.rand(2, 4)\n",
        "print(y)\n",
        "print(x + y)"
      ],
      "execution_count": 17,
      "outputs": [
        {
          "output_type": "stream",
          "name": "stdout",
          "text": [
            "tensor([[0.9957, 0.8984, 0.7739, 0.3891],\n",
            "        [0.0285, 0.6456, 0.5135, 0.1738]])\n",
            "tensor([[ 1.9900,  1.0321,  1.4363,  0.7911],\n",
            "        [ 1.3765,  0.0390,  1.9872, -1.2509]])\n"
          ]
        }
      ]
    },
    {
      "cell_type": "code",
      "metadata": {
        "colab": {
          "base_uri": "https://localhost:8080/"
        },
        "id": "-vzED--LbPsr",
        "outputId": "9bb9675a-b4cd-48aa-fa10-658444d85e4b"
      },
      "source": [
        "# 덧셈2 add()함수 이용\n",
        "print(torch.add(x, y))"
      ],
      "execution_count": 19,
      "outputs": [
        {
          "output_type": "stream",
          "name": "stdout",
          "text": [
            "tensor([[ 1.9900,  1.0321,  1.4363,  0.7911],\n",
            "        [ 1.3765,  0.0390,  1.9872, -1.2509]])\n"
          ]
        }
      ]
    },
    {
      "cell_type": "code",
      "metadata": {
        "colab": {
          "base_uri": "https://localhost:8080/"
        },
        "id": "s07qxY5absSH",
        "outputId": "bfc9e47c-9736-46f9-d458-56f79465d2b5"
      },
      "source": [
        "# 덧셈3 결과 텐서를 인자로 제공\n",
        "result = torch.empty(2, 4)\n",
        "torch.add(x, y, out=result) #x와 y를 더한 값을 out으로 result에 할당해줌.\n",
        "print(result)"
      ],
      "execution_count": 21,
      "outputs": [
        {
          "output_type": "stream",
          "name": "stdout",
          "text": [
            "tensor([[ 1.9900,  1.0321,  1.4363,  0.7911],\n",
            "        [ 1.3765,  0.0390,  1.9872, -1.2509]])\n"
          ]
        }
      ]
    },
    {
      "cell_type": "code",
      "metadata": {
        "colab": {
          "base_uri": "https://localhost:8080/"
        },
        "id": "HFqGz4ttb_Ph",
        "outputId": "b7e23604-0716-4aa1-9f95-539a87eee8ea"
      },
      "source": [
        "# 덧셈4 in-place 방식 ex) y += x 방식과 같음.\n",
        "print(x)\n",
        "print(y)\n",
        "y.add_(x)\n",
        "print(y)"
      ],
      "execution_count": 22,
      "outputs": [
        {
          "output_type": "stream",
          "name": "stdout",
          "text": [
            "tensor([[ 0.9943,  0.1338,  0.6624,  0.4021],\n",
            "        [ 1.3480, -0.6067,  1.4737, -1.4247]])\n",
            "tensor([[0.9957, 0.8984, 0.7739, 0.3891],\n",
            "        [0.0285, 0.6456, 0.5135, 0.1738]])\n",
            "tensor([[ 1.9900,  1.0321,  1.4363,  0.7911],\n",
            "        [ 1.3765,  0.0390,  1.9872, -1.2509]])\n"
          ]
        }
      ]
    },
    {
      "cell_type": "code",
      "metadata": {
        "id": "zU9H2RnhcSgc"
      },
      "source": [
        "# 그외 연산들"
      ],
      "execution_count": 23,
      "outputs": []
    },
    {
      "cell_type": "code",
      "metadata": {
        "colab": {
          "base_uri": "https://localhost:8080/"
        },
        "id": "MQrJy44CccNd",
        "outputId": "012d514f-45d2-4b62-8d0f-a5343c7ebd33"
      },
      "source": [
        "x = torch.Tensor([[1, 3],[5, 7]])\n",
        "y = torch.Tensor([[2, 4],[6, 8]])\n",
        "\n",
        "# x에서 y 빼기\n",
        "print(x - y)\n",
        "print(torch.sub(x, y))\n",
        "print(x.sub(y))"
      ],
      "execution_count": 27,
      "outputs": [
        {
          "output_type": "stream",
          "name": "stdout",
          "text": [
            "tensor([[-1., -1.],\n",
            "        [-1., -1.]])\n",
            "tensor([[-1., -1.],\n",
            "        [-1., -1.]])\n",
            "tensor([[-1., -1.],\n",
            "        [-1., -1.]])\n"
          ]
        }
      ]
    },
    {
      "cell_type": "code",
      "metadata": {
        "colab": {
          "base_uri": "https://localhost:8080/"
        },
        "id": "vNfshjdkc1ks",
        "outputId": "9cc2c6a7-5e80-4f15-ba52-6d616947bf18"
      },
      "source": [
        "x = torch.Tensor([[1, 3],[5, 7]])\n",
        "y = torch.Tensor([[2, 4],[6, 8]])\n",
        "\n",
        "# x에서 y 곱셈\n",
        "print(x * y)\n",
        "print(torch.mul(x, y))\n",
        "print(x.mul(y))"
      ],
      "execution_count": 28,
      "outputs": [
        {
          "output_type": "stream",
          "name": "stdout",
          "text": [
            "tensor([[ 2., 12.],\n",
            "        [30., 56.]])\n",
            "tensor([[ 2., 12.],\n",
            "        [30., 56.]])\n",
            "tensor([[ 2., 12.],\n",
            "        [30., 56.]])\n"
          ]
        }
      ]
    },
    {
      "cell_type": "code",
      "metadata": {
        "colab": {
          "base_uri": "https://localhost:8080/"
        },
        "id": "OPbikbP0d6nE",
        "outputId": "8ee6232b-0f96-441d-99d5-02b4fb54e4e8"
      },
      "source": [
        "x = torch.Tensor([[1, 3],[5, 7]])\n",
        "y = torch.Tensor([[2, 4],[6, 8]])\n",
        "\n",
        "# x에서 y 나눗셈\n",
        "print(x / y)\n",
        "print(torch.div(x, y))\n",
        "print(x.div(y))"
      ],
      "execution_count": 29,
      "outputs": [
        {
          "output_type": "stream",
          "name": "stdout",
          "text": [
            "tensor([[0.5000, 0.7500],\n",
            "        [0.8333, 0.8750]])\n",
            "tensor([[0.5000, 0.7500],\n",
            "        [0.8333, 0.8750]])\n",
            "tensor([[0.5000, 0.7500],\n",
            "        [0.8333, 0.8750]])\n"
          ]
        }
      ]
    },
    {
      "cell_type": "code",
      "metadata": {
        "colab": {
          "base_uri": "https://localhost:8080/"
        },
        "id": "HUaBSt5feBAK",
        "outputId": "73a8ab43-cefe-46b9-dfdf-306adb71c8ee"
      },
      "source": [
        "x = torch.Tensor([[1, 3],[5, 7]])\n",
        "y = torch.Tensor([[2, 4],[6, 8]])\n",
        "\n",
        "# x에서 y .연산 (행렬 곱셈)\n",
        "print(torch.mm(x, y))"
      ],
      "execution_count": 30,
      "outputs": [
        {
          "output_type": "stream",
          "name": "stdout",
          "text": [
            "tensor([[20., 28.],\n",
            "        [52., 76.]])\n"
          ]
        }
      ]
    },
    {
      "cell_type": "code",
      "metadata": {
        "id": "BEpR_G7ZeHov"
      },
      "source": [
        "# 텐서 조작"
      ],
      "execution_count": 31,
      "outputs": []
    },
    {
      "cell_type": "code",
      "metadata": {
        "colab": {
          "base_uri": "https://localhost:8080/"
        },
        "id": "qR2zwAcfeO6p",
        "outputId": "25886f39-bbc1-4971-c9d7-c718bfe0f564"
      },
      "source": [
        "# 인덱싱\n",
        "print(x)"
      ],
      "execution_count": 32,
      "outputs": [
        {
          "output_type": "stream",
          "name": "stdout",
          "text": [
            "tensor([[1., 3.],\n",
            "        [5., 7.]])\n"
          ]
        }
      ]
    },
    {
      "cell_type": "code",
      "metadata": {
        "colab": {
          "base_uri": "https://localhost:8080/"
        },
        "id": "vQdzQb4zeRsg",
        "outputId": "a5c180d2-baea-47ad-b1e4-740269237e64"
      },
      "source": [
        "print(x[:,1])"
      ],
      "execution_count": 34,
      "outputs": [
        {
          "output_type": "stream",
          "name": "stdout",
          "text": [
            "tensor([3., 7.])\n"
          ]
        }
      ]
    },
    {
      "cell_type": "code",
      "metadata": {
        "colab": {
          "base_uri": "https://localhost:8080/"
        },
        "id": "zhkzw8tJeTvR",
        "outputId": "d136ee5d-c18b-47ad-fc39-def6a0ad8282"
      },
      "source": [
        "# view -> 텐서의 크기나 모양을 변경\n",
        "x = torch.randn(4, 5)\n",
        "y = x.view(20) # 1차원형태로 표현\n",
        "z = x.view(5, -1) # 5행으로 -1은 있는 값 자동배치\n",
        "print(x.size())\n",
        "print(y.size())\n",
        "print(z.size())"
      ],
      "execution_count": 35,
      "outputs": [
        {
          "output_type": "stream",
          "name": "stdout",
          "text": [
            "torch.Size([4, 5])\n",
            "torch.Size([20])\n",
            "torch.Size([5, 4])\n"
          ]
        }
      ]
    },
    {
      "cell_type": "code",
      "metadata": {
        "colab": {
          "base_uri": "https://localhost:8080/"
        },
        "id": "FHIww4I9enUX",
        "outputId": "797a8628-4e92-4945-89d6-379b2faa22a6"
      },
      "source": [
        "# item - 텐서에 값이 단 하나라도 존재하면 숫자값을 얻을 수 있음\n",
        "x = torch.randn(1)\n",
        "print(x)\n",
        "print(x.item())\n",
        "print(x.dtype)"
      ],
      "execution_count": 36,
      "outputs": [
        {
          "output_type": "stream",
          "name": "stdout",
          "text": [
            "tensor([-0.1540])\n",
            "-0.15399405360221863\n",
            "torch.float32\n"
          ]
        }
      ]
    },
    {
      "cell_type": "code",
      "metadata": {
        "colab": {
          "base_uri": "https://localhost:8080/",
          "height": 248
        },
        "id": "Xazhzsx6fCDI",
        "outputId": "6aea898d-b3b7-4c86-ef13-b38f2122b38d"
      },
      "source": [
        "# 스칼라값 하나만 존재해야 함. -> 2개 있으면 item()함수 사용 불가\n",
        "# 값 하나 있는 것을 스칼라라고 부름.\n",
        "\n",
        "x = torch.randn(2)\n",
        "print(x)\n",
        "print(x.item())\n",
        "print(x.dtype)"
      ],
      "execution_count": 37,
      "outputs": [
        {
          "output_type": "stream",
          "name": "stdout",
          "text": [
            "tensor([-0.6968,  0.6578])\n"
          ]
        },
        {
          "output_type": "error",
          "ename": "ValueError",
          "evalue": "ignored",
          "traceback": [
            "\u001b[0;31m---------------------------------------------------------------------------\u001b[0m",
            "\u001b[0;31mValueError\u001b[0m                                Traceback (most recent call last)",
            "\u001b[0;32m<ipython-input-37-363aa7c44918>\u001b[0m in \u001b[0;36m<module>\u001b[0;34m()\u001b[0m\n\u001b[1;32m      3\u001b[0m \u001b[0mx\u001b[0m \u001b[0;34m=\u001b[0m \u001b[0mtorch\u001b[0m\u001b[0;34m.\u001b[0m\u001b[0mrandn\u001b[0m\u001b[0;34m(\u001b[0m\u001b[0;36m2\u001b[0m\u001b[0;34m)\u001b[0m\u001b[0;34m\u001b[0m\u001b[0;34m\u001b[0m\u001b[0m\n\u001b[1;32m      4\u001b[0m \u001b[0mprint\u001b[0m\u001b[0;34m(\u001b[0m\u001b[0mx\u001b[0m\u001b[0;34m)\u001b[0m\u001b[0;34m\u001b[0m\u001b[0;34m\u001b[0m\u001b[0m\n\u001b[0;32m----> 5\u001b[0;31m \u001b[0mprint\u001b[0m\u001b[0;34m(\u001b[0m\u001b[0mx\u001b[0m\u001b[0;34m.\u001b[0m\u001b[0mitem\u001b[0m\u001b[0;34m(\u001b[0m\u001b[0;34m)\u001b[0m\u001b[0;34m)\u001b[0m\u001b[0;34m\u001b[0m\u001b[0;34m\u001b[0m\u001b[0m\n\u001b[0m\u001b[1;32m      6\u001b[0m \u001b[0mprint\u001b[0m\u001b[0;34m(\u001b[0m\u001b[0mx\u001b[0m\u001b[0;34m.\u001b[0m\u001b[0mdtype\u001b[0m\u001b[0;34m)\u001b[0m\u001b[0;34m\u001b[0m\u001b[0;34m\u001b[0m\u001b[0m\n",
            "\u001b[0;31mValueError\u001b[0m: only one element tensors can be converted to Python scalars"
          ]
        }
      ]
    },
    {
      "cell_type": "code",
      "metadata": {
        "colab": {
          "base_uri": "https://localhost:8080/"
        },
        "id": "fk-EUpdPfP-8",
        "outputId": "f63c22c7-69d0-4cc0-b349-5636a12df132"
      },
      "source": [
        "# squeeze 차원 축소(제거)\n",
        "tensor = torch.rand(1, 3, 3)\n",
        "print(tensor) # 대가로 수 3개\n",
        "tensor.shape"
      ],
      "execution_count": 40,
      "outputs": [
        {
          "output_type": "stream",
          "name": "stdout",
          "text": [
            "tensor([[[0.7746, 0.3925, 0.6710],\n",
            "         [0.0451, 0.7141, 0.3799],\n",
            "         [0.8377, 0.6894, 0.7772]]])\n"
          ]
        },
        {
          "output_type": "execute_result",
          "data": {
            "text/plain": [
              "torch.Size([1, 3, 3])"
            ]
          },
          "metadata": {},
          "execution_count": 40
        }
      ]
    },
    {
      "cell_type": "code",
      "metadata": {
        "colab": {
          "base_uri": "https://localhost:8080/"
        },
        "id": "X-o3avBmfeT4",
        "outputId": "c2e2535f-247a-4d2e-b304-c9e0b819a9df"
      },
      "source": [
        "# 기존 3차원 배열에서 2차원으로 줄임.\n",
        "t = tensor.squeeze()\n",
        "print(t) # 대가로 수 2개\n",
        "print(t.shape)"
      ],
      "execution_count": 39,
      "outputs": [
        {
          "output_type": "stream",
          "name": "stdout",
          "text": [
            "tensor([[0.0102, 0.5602, 0.2174],\n",
            "        [0.4388, 0.9222, 0.4280],\n",
            "        [0.8667, 0.5184, 0.1668]])\n",
            "torch.Size([3, 3])\n"
          ]
        }
      ]
    },
    {
      "cell_type": "code",
      "metadata": {
        "colab": {
          "base_uri": "https://localhost:8080/"
        },
        "id": "TnwjKKyWfiZO",
        "outputId": "0925d8cb-d025-48c8-ad48-846f51f3f86b"
      },
      "source": [
        "# unsqueeze 차원을 증가(생성)\n",
        "tensor = torch.rand(1, 3, 3)\n",
        "print(tensor) # 대가로 수 3개\n",
        "tensor.shape"
      ],
      "execution_count": 41,
      "outputs": [
        {
          "output_type": "stream",
          "name": "stdout",
          "text": [
            "tensor([[[0.5891, 0.9853, 0.5856],\n",
            "         [0.6703, 0.3161, 0.2311],\n",
            "         [0.5776, 0.6013, 0.2395]]])\n"
          ]
        },
        {
          "output_type": "execute_result",
          "data": {
            "text/plain": [
              "torch.Size([1, 3, 3])"
            ]
          },
          "metadata": {},
          "execution_count": 41
        }
      ]
    },
    {
      "cell_type": "code",
      "metadata": {
        "colab": {
          "base_uri": "https://localhost:8080/"
        },
        "id": "aP2j2I7ff14W",
        "outputId": "0929761a-e4fb-4dd4-cac6-b8f9188650d8"
      },
      "source": [
        "t = tensor.unsqueeze(dim=0)\n",
        "print(t) # 대가로 수 4개\n",
        "print(t.shape)"
      ],
      "execution_count": 43,
      "outputs": [
        {
          "output_type": "stream",
          "name": "stdout",
          "text": [
            "tensor([[[[0.5891, 0.9853, 0.5856],\n",
            "          [0.6703, 0.3161, 0.2311],\n",
            "          [0.5776, 0.6013, 0.2395]]]])\n",
            "torch.Size([1, 1, 3, 3])\n"
          ]
        }
      ]
    },
    {
      "cell_type": "code",
      "metadata": {
        "colab": {
          "base_uri": "https://localhost:8080/"
        },
        "id": "M25kcM-NgFtH",
        "outputId": "e9ce5ff4-260e-4a0a-cb63-5b2578412297"
      },
      "source": [
        "# stack 텐서간 결합\n",
        "x = torch.FloatTensor([1,4])\n",
        "y = torch.FloatTensor([2,5])\n",
        "z = torch.FloatTensor([3,6])\n",
        "\n",
        "print(torch.stack([x, y, z]))"
      ],
      "execution_count": 44,
      "outputs": [
        {
          "output_type": "stream",
          "name": "stdout",
          "text": [
            "tensor([[1., 4.],\n",
            "        [2., 5.],\n",
            "        [3., 6.]])\n"
          ]
        }
      ]
    },
    {
      "cell_type": "markdown",
      "metadata": {
        "id": "QrXQXo1jg-Do"
      },
      "source": [
        "# cat\n",
        "#### 텐서를 결합하는 메소드\n",
        "#### 넘파이의 stack과 유사하지만, 쌓을 dim이 존재해야 함.\n",
        "##### 예를 들어, 해당 차원을 늘려준 후 결합"
      ]
    },
    {
      "cell_type": "code",
      "metadata": {
        "colab": {
          "base_uri": "https://localhost:8080/"
        },
        "id": "E0eyPQeVgou3",
        "outputId": "f1a1b0c0-5cf6-4cb5-f9d4-1add2a7b7fd2"
      },
      "source": [
        "a = torch.randn(1,1,3,3)\n",
        "b = torch.randn(1,1,3,3)\n",
        "c = torch.cat((a,b), dim=0) #dim은 더할 인덱싱?위치를 선택해서 연결할지 정해주는 것.\n",
        "\n",
        "print(c)\n",
        "print(c.size())"
      ],
      "execution_count": 46,
      "outputs": [
        {
          "output_type": "stream",
          "name": "stdout",
          "text": [
            "tensor([[[[-1.8023, -0.5813,  0.1847],\n",
            "          [ 1.3585,  0.5543, -0.4161],\n",
            "          [ 0.2783,  0.4874, -1.6379]]],\n",
            "\n",
            "\n",
            "        [[[-1.2126, -0.3412,  0.8444],\n",
            "          [-0.5492, -0.0700, -0.2231],\n",
            "          [ 0.7113, -1.1228, -1.3494]]]])\n",
            "torch.Size([2, 1, 3, 3])\n"
          ]
        }
      ]
    },
    {
      "cell_type": "code",
      "metadata": {
        "colab": {
          "base_uri": "https://localhost:8080/"
        },
        "id": "SNG-sBANg2l9",
        "outputId": "20ccd1f3-2850-4afc-e009-b891f620e57b"
      },
      "source": [
        "a = torch.randn(1,3,3)\n",
        "b = torch.randn(1,3,3)\n",
        "c = torch.cat((a,b), dim=0)\n",
        "\n",
        "print(c)\n",
        "print(c.size())"
      ],
      "execution_count": 47,
      "outputs": [
        {
          "output_type": "stream",
          "name": "stdout",
          "text": [
            "tensor([[[ 0.9898,  0.0791,  0.1833],\n",
            "         [-0.8203,  0.8161, -0.8315],\n",
            "         [ 0.0078,  0.2916,  1.1305]],\n",
            "\n",
            "        [[ 1.2568, -0.7672,  0.6833],\n",
            "         [-0.6068, -1.7138, -0.6152],\n",
            "         [-0.7013,  0.7311,  0.2035]]])\n",
            "torch.Size([2, 3, 3])\n"
          ]
        }
      ]
    },
    {
      "cell_type": "markdown",
      "metadata": {
        "id": "14SvOCLmhURW"
      },
      "source": [
        "# chunk\n",
        "#### 텐서를 여러 개로 나눌 때 사용\n",
        "#### 몇 개의 텐서로 나눌 것이냐"
      ]
    },
    {
      "cell_type": "code",
      "metadata": {
        "colab": {
          "base_uri": "https://localhost:8080/"
        },
        "id": "vS0LoXA0hGBR",
        "outputId": "6d6f7ecc-5fa5-4c2e-cd4a-d945da27d0b8"
      },
      "source": [
        "tensor = torch.rand(3,6)\n",
        "t1, t2, t3 = torch.chunk(tensor, 3, dim=1) # chunk의 중간 매개변수는 몇개로 텐서를 나눌 것이냐\n",
        "\n",
        "print(tensor)\n",
        "print(t1)\n",
        "print(t2)\n",
        "print(t3)"
      ],
      "execution_count": 50,
      "outputs": [
        {
          "output_type": "stream",
          "name": "stdout",
          "text": [
            "tensor([[0.5980, 0.8907, 0.6222, 0.5296, 0.0914, 0.4992],\n",
            "        [0.3410, 0.7975, 0.3271, 0.1205, 0.0669, 0.9109],\n",
            "        [0.4541, 0.4831, 0.6972, 0.9798, 0.7103, 0.1923]])\n",
            "tensor([[0.5980, 0.8907],\n",
            "        [0.3410, 0.7975],\n",
            "        [0.4541, 0.4831]])\n",
            "tensor([[0.6222, 0.5296],\n",
            "        [0.3271, 0.1205],\n",
            "        [0.6972, 0.9798]])\n",
            "tensor([[0.0914, 0.4992],\n",
            "        [0.0669, 0.9109],\n",
            "        [0.7103, 0.1923]])\n"
          ]
        }
      ]
    },
    {
      "cell_type": "markdown",
      "metadata": {
        "id": "7Rl4zmOthzKW"
      },
      "source": [
        "# split\n",
        "#### chunk와 동일한 기능이지만 조금 다름\n",
        "#### 하나의 텐서당 크기가 얼마이냐"
      ]
    },
    {
      "cell_type": "code",
      "metadata": {
        "colab": {
          "base_uri": "https://localhost:8080/"
        },
        "id": "BJaxGetwhgZy",
        "outputId": "c55b8e9e-b64f-4917-d827-1e631b856bc6"
      },
      "source": [
        "tensor = torch.rand(3,6)\n",
        "t1, t2 = torch.split(tensor, 3, dim=1) # split의 중간 매개변수는 하나의 텐서당 몇개의 크기로 나눌 것이냐\n",
        "print(tensor)\n",
        "print(t1)\n",
        "print(t2)"
      ],
      "execution_count": 51,
      "outputs": [
        {
          "output_type": "stream",
          "name": "stdout",
          "text": [
            "tensor([[0.2327, 0.0532, 0.7066, 0.2201, 0.5310, 0.6894],\n",
            "        [0.1394, 0.1902, 0.3813, 0.4134, 0.8051, 0.1068],\n",
            "        [0.5262, 0.2082, 0.2556, 0.0487, 0.5640, 0.1305]])\n",
            "tensor([[0.2327, 0.0532, 0.7066],\n",
            "        [0.1394, 0.1902, 0.3813],\n",
            "        [0.5262, 0.2082, 0.2556]])\n",
            "tensor([[0.2201, 0.5310, 0.6894],\n",
            "        [0.4134, 0.8051, 0.1068],\n",
            "        [0.0487, 0.5640, 0.1305]])\n"
          ]
        }
      ]
    },
    {
      "cell_type": "markdown",
      "metadata": {
        "id": "I3so_u7ln9IQ"
      },
      "source": [
        "# torch <-> numpy\n",
        "#### torch tensor를 numpy array(배열)로 변환 가능"
      ]
    },
    {
      "cell_type": "code",
      "metadata": {
        "colab": {
          "base_uri": "https://localhost:8080/"
        },
        "id": "GCHIA7CLiGK1",
        "outputId": "d1549d1d-9a24-4523-82fa-2093ad61a665"
      },
      "source": [
        "a = torch.ones(7)\n",
        "print(a)"
      ],
      "execution_count": 52,
      "outputs": [
        {
          "output_type": "stream",
          "name": "stdout",
          "text": [
            "tensor([1., 1., 1., 1., 1., 1., 1.])\n"
          ]
        }
      ]
    },
    {
      "cell_type": "code",
      "metadata": {
        "colab": {
          "base_uri": "https://localhost:8080/"
        },
        "id": "iRasXEV-oMXi",
        "outputId": "1825efd6-d041-4fd7-d23c-33f83fd73c5c"
      },
      "source": [
        "# tensor -> numpy 변환\n",
        "\n",
        "b = a.numpy()\n",
        "print(b)"
      ],
      "execution_count": 54,
      "outputs": [
        {
          "output_type": "stream",
          "name": "stdout",
          "text": [
            "[1. 1. 1. 1. 1. 1. 1.]\n"
          ]
        }
      ]
    },
    {
      "cell_type": "code",
      "metadata": {
        "colab": {
          "base_uri": "https://localhost:8080/"
        },
        "id": "ckMC6UL8oQzH",
        "outputId": "142db66a-11e2-4ba3-da37-188ea61d3a1f"
      },
      "source": [
        "# tensor가 cpu상에 있다면 numpy 배열은 메모리 공간을 공유하므로\n",
        "# 하나가 변하면, 다른 하나도 변함\n",
        "\n",
        "a.add_(1) #a텐서에 1 더하기\n",
        "print(a)\n",
        "print(b)"
      ],
      "execution_count": 55,
      "outputs": [
        {
          "output_type": "stream",
          "name": "stdout",
          "text": [
            "tensor([2., 2., 2., 2., 2., 2., 2.])\n",
            "[2. 2. 2. 2. 2. 2. 2.]\n"
          ]
        }
      ]
    },
    {
      "cell_type": "code",
      "metadata": {
        "colab": {
          "base_uri": "https://localhost:8080/"
        },
        "id": "ycQQugm8oVsL",
        "outputId": "6491fb9c-94e5-4680-e5b1-20dabfea154c"
      },
      "source": [
        "import numpy as np\n",
        "\n",
        "a = np.ones(7)\n",
        "b = torch.from_numpy(a) #넘파이에서 텐서로 변환\n",
        "np.add(a, 1, out=a) #a에 1 더하고 결과값 a에 할당\n",
        "print(a)\n",
        "print(b)"
      ],
      "execution_count": 57,
      "outputs": [
        {
          "output_type": "stream",
          "name": "stdout",
          "text": [
            "[2. 2. 2. 2. 2. 2. 2.]\n",
            "tensor([2., 2., 2., 2., 2., 2., 2.], dtype=torch.float64)\n"
          ]
        }
      ]
    },
    {
      "cell_type": "markdown",
      "metadata": {
        "id": "EmnXcuvRpBIh"
      },
      "source": [
        "# CUDA Tensor\n",
        "#### .to 메소드를 사용하여 텐서를 어떠한 장치로도 옮길 수 있음\n",
        "#### 예) cpu, gpu"
      ]
    },
    {
      "cell_type": "code",
      "metadata": {
        "id": "QI2I5xB5ptCG"
      },
      "source": [
        "import torch"
      ],
      "execution_count": 1,
      "outputs": []
    },
    {
      "cell_type": "code",
      "metadata": {
        "colab": {
          "base_uri": "https://localhost:8080/"
        },
        "id": "AHg36GFaouOw",
        "outputId": "c97bc3b9-6169-4cbc-bb2f-6d52dea43124"
      },
      "source": [
        "x = torch.randn(1)\n",
        "\n",
        "print(x)\n",
        "print(x.item())\n",
        "print(x.dtype)"
      ],
      "execution_count": 2,
      "outputs": [
        {
          "output_type": "stream",
          "name": "stdout",
          "text": [
            "tensor([-0.4979])\n",
            "-0.4978703558444977\n",
            "torch.float32\n"
          ]
        }
      ]
    },
    {
      "cell_type": "code",
      "metadata": {
        "colab": {
          "base_uri": "https://localhost:8080/",
          "height": 248
        },
        "id": "kHsVB7kypQPp",
        "outputId": "bf311a32-cb28-43e3-bf87-e8029cdb6b2b"
      },
      "source": [
        "device = torch.device('cuda' if torch.cuda.is_available() else 'cpu')\n",
        "y = torch.ones_like(x, device=device)\n",
        "x = x.to(device)\n",
        "z = x + y\n",
        "print(device)\n",
        "print(z)\n",
        "print(z.to('cpu', torch.double))"
      ],
      "execution_count": 49,
      "outputs": [
        {
          "output_type": "error",
          "ename": "NameError",
          "evalue": "ignored",
          "traceback": [
            "\u001b[0;31m---------------------------------------------------------------------------\u001b[0m",
            "\u001b[0;31mNameError\u001b[0m                                 Traceback (most recent call last)",
            "\u001b[0;32m<ipython-input-49-eef27a7ddca8>\u001b[0m in \u001b[0;36m<module>\u001b[0;34m()\u001b[0m\n\u001b[1;32m      1\u001b[0m \u001b[0mdevice\u001b[0m \u001b[0;34m=\u001b[0m \u001b[0mtorch\u001b[0m\u001b[0;34m.\u001b[0m\u001b[0mdevice\u001b[0m\u001b[0;34m(\u001b[0m\u001b[0;34m'cuda'\u001b[0m \u001b[0;32mif\u001b[0m \u001b[0mtorch\u001b[0m\u001b[0;34m.\u001b[0m\u001b[0mcuda\u001b[0m\u001b[0;34m.\u001b[0m\u001b[0mis_available\u001b[0m\u001b[0;34m(\u001b[0m\u001b[0;34m)\u001b[0m \u001b[0;32melse\u001b[0m \u001b[0;34m'cpu'\u001b[0m\u001b[0;34m)\u001b[0m\u001b[0;34m\u001b[0m\u001b[0;34m\u001b[0m\u001b[0m\n\u001b[0;32m----> 2\u001b[0;31m \u001b[0my\u001b[0m \u001b[0;34m=\u001b[0m \u001b[0mtorch\u001b[0m\u001b[0;34m.\u001b[0m\u001b[0mones_like\u001b[0m\u001b[0;34m(\u001b[0m\u001b[0mx\u001b[0m\u001b[0;34m,\u001b[0m \u001b[0mdevice\u001b[0m\u001b[0;34m=\u001b[0m\u001b[0mdevice\u001b[0m\u001b[0;34m)\u001b[0m\u001b[0;34m\u001b[0m\u001b[0;34m\u001b[0m\u001b[0m\n\u001b[0m\u001b[1;32m      3\u001b[0m \u001b[0mx\u001b[0m \u001b[0;34m=\u001b[0m \u001b[0mx\u001b[0m\u001b[0;34m.\u001b[0m\u001b[0mto\u001b[0m\u001b[0;34m(\u001b[0m\u001b[0mdevice\u001b[0m\u001b[0;34m)\u001b[0m\u001b[0;34m\u001b[0m\u001b[0;34m\u001b[0m\u001b[0m\n\u001b[1;32m      4\u001b[0m \u001b[0mz\u001b[0m \u001b[0;34m=\u001b[0m \u001b[0mx\u001b[0m \u001b[0;34m+\u001b[0m \u001b[0my\u001b[0m\u001b[0;34m\u001b[0m\u001b[0;34m\u001b[0m\u001b[0m\n\u001b[1;32m      5\u001b[0m \u001b[0mprint\u001b[0m\u001b[0;34m(\u001b[0m\u001b[0mdevice\u001b[0m\u001b[0;34m)\u001b[0m\u001b[0;34m\u001b[0m\u001b[0;34m\u001b[0m\u001b[0m\n",
            "\u001b[0;31mNameError\u001b[0m: name 'x' is not defined"
          ]
        }
      ]
    },
    {
      "cell_type": "markdown",
      "metadata": {
        "id": "agxVP2r3qDQM"
      },
      "source": [
        "# autograd(자동미분)"
      ]
    },
    {
      "cell_type": "code",
      "metadata": {
        "id": "wa4Jb14Epw0v"
      },
      "source": [
        "import torch"
      ],
      "execution_count": 4,
      "outputs": []
    },
    {
      "cell_type": "code",
      "metadata": {
        "colab": {
          "base_uri": "https://localhost:8080/"
        },
        "id": "qoqYwYl1rlgj",
        "outputId": "6a4211a2-56bf-465e-81e0-cd2b422b086c"
      },
      "source": [
        "x = torch.ones(3,3,requires_grad=True)\n",
        "print(x)"
      ],
      "execution_count": 5,
      "outputs": [
        {
          "output_type": "stream",
          "name": "stdout",
          "text": [
            "tensor([[1., 1., 1.],\n",
            "        [1., 1., 1.],\n",
            "        [1., 1., 1.]], requires_grad=True)\n"
          ]
        }
      ]
    },
    {
      "cell_type": "code",
      "metadata": {
        "colab": {
          "base_uri": "https://localhost:8080/"
        },
        "id": "N41aX0onrqib",
        "outputId": "16286d27-1931-4446-f0a3-2487a64af8e0"
      },
      "source": [
        "y = x + 5\n",
        "print(y)"
      ],
      "execution_count": 6,
      "outputs": [
        {
          "output_type": "stream",
          "name": "stdout",
          "text": [
            "tensor([[6., 6., 6.],\n",
            "        [6., 6., 6.],\n",
            "        [6., 6., 6.]], grad_fn=<AddBackward0>)\n"
          ]
        }
      ]
    },
    {
      "cell_type": "code",
      "metadata": {
        "colab": {
          "base_uri": "https://localhost:8080/"
        },
        "id": "AS3JHUEersmc",
        "outputId": "deb438a6-5254-45e5-9472-672a634defd7"
      },
      "source": [
        "z = y * y * 2\n",
        "out = z.mean()\n",
        "print(z, out)"
      ],
      "execution_count": 7,
      "outputs": [
        {
          "output_type": "stream",
          "name": "stdout",
          "text": [
            "tensor([[72., 72., 72.],\n",
            "        [72., 72., 72.],\n",
            "        [72., 72., 72.]], grad_fn=<MulBackward0>) tensor(72., grad_fn=<MeanBackward0>)\n"
          ]
        }
      ]
    },
    {
      "cell_type": "code",
      "metadata": {
        "colab": {
          "base_uri": "https://localhost:8080/"
        },
        "id": "Dq_RiVUyry6S",
        "outputId": "6bc73624-83a9-4380-8b8c-e8877f759ea2"
      },
      "source": [
        "a = torch.randn(3,3)\n",
        "a = ((a * 3) / (a-1))\n",
        "print(a.requires_grad)\n",
        "\n",
        "a.requires_grad_(True) # requires_grad 값을 True로 해야지만, grad_fn값을 얻을 수 있음\n",
        "print(a.requires_grad)\n",
        "\n",
        "b = (a * a).sum()\n",
        "print(b.grad_fn)"
      ],
      "execution_count": 9,
      "outputs": [
        {
          "output_type": "stream",
          "name": "stdout",
          "text": [
            "False\n",
            "True\n",
            "<SumBackward0 object at 0x7ff9615baed0>\n"
          ]
        }
      ]
    },
    {
      "cell_type": "code",
      "metadata": {
        "id": "lhZvv5TDshgk"
      },
      "source": [
        "# 기울기(gradient)"
      ],
      "execution_count": 10,
      "outputs": []
    },
    {
      "cell_type": "code",
      "metadata": {
        "id": "jZoCQcHRsLQP"
      },
      "source": [
        "out.backward()"
      ],
      "execution_count": 11,
      "outputs": []
    },
    {
      "cell_type": "code",
      "metadata": {
        "colab": {
          "base_uri": "https://localhost:8080/"
        },
        "id": "B8JdGXVdsmAD",
        "outputId": "69920aee-9552-4bad-ff0a-adef42178d4f"
      },
      "source": [
        "print(x.grad)"
      ],
      "execution_count": 12,
      "outputs": [
        {
          "output_type": "stream",
          "name": "stdout",
          "text": [
            "tensor([[2.6667, 2.6667, 2.6667],\n",
            "        [2.6667, 2.6667, 2.6667],\n",
            "        [2.6667, 2.6667, 2.6667]])\n"
          ]
        }
      ]
    },
    {
      "cell_type": "code",
      "metadata": {
        "colab": {
          "base_uri": "https://localhost:8080/"
        },
        "id": "uFY-uzzNsngh",
        "outputId": "62f83a39-4753-4148-a70d-bf6e1feaac26"
      },
      "source": [
        "x = torch.randn(3, requires_grad=True)\n",
        "\n",
        "y = x * 2\n",
        "while y.data.norm() < 1000:\n",
        "  y = y * 2\n",
        "\n",
        "print(y)"
      ],
      "execution_count": 14,
      "outputs": [
        {
          "output_type": "stream",
          "name": "stdout",
          "text": [
            "tensor([ 456.7959, -946.1870,  -74.0517], grad_fn=<MulBackward0>)\n"
          ]
        }
      ]
    },
    {
      "cell_type": "code",
      "metadata": {
        "colab": {
          "base_uri": "https://localhost:8080/"
        },
        "id": "yNyzlt4Fsy-x",
        "outputId": "448672fd-ea13-4177-e9a9-9b901f318a6e"
      },
      "source": [
        "v = torch.tensor([0.1, 1.0, 0.0001], dtype=torch.float)\n",
        "y.backward(v)\n",
        "\n",
        "print(x.grad)"
      ],
      "execution_count": 15,
      "outputs": [
        {
          "output_type": "stream",
          "name": "stdout",
          "text": [
            "tensor([5.1200e+01, 5.1200e+02, 5.1200e-02])\n"
          ]
        }
      ]
    },
    {
      "cell_type": "code",
      "metadata": {
        "colab": {
          "base_uri": "https://localhost:8080/"
        },
        "id": "CJaD6IsptCAG",
        "outputId": "462216ab-0830-4c81-ed95-b187df0ecef4"
      },
      "source": [
        "# with torch.no_grad()를 이용하여 gradient의 업데이트를 하지 않음\n",
        "print(x.requires_grad)\n",
        "print((x ** 2).requires_grad)\n",
        "\n",
        "with torch.no_grad():\n",
        "  print((x ** 2).requires_grad)"
      ],
      "execution_count": 17,
      "outputs": [
        {
          "output_type": "stream",
          "name": "stdout",
          "text": [
            "True\n",
            "True\n",
            "False\n"
          ]
        }
      ]
    },
    {
      "cell_type": "code",
      "metadata": {
        "colab": {
          "base_uri": "https://localhost:8080/"
        },
        "id": "GYnXP6int_sC",
        "outputId": "3cb7a25a-e954-47fa-c59c-c08f177ea1f1"
      },
      "source": [
        "# detach(): 내용물(content)은 같지만 require_grad가 다른 새로운 tensor를 가져올 때 사용\n",
        "print(x.requires_grad)\n",
        "y = x.detach()\n",
        "print(y.requires_grad)\n",
        "print(x.eq(y).all())"
      ],
      "execution_count": 18,
      "outputs": [
        {
          "output_type": "stream",
          "name": "stdout",
          "text": [
            "True\n",
            "False\n",
            "tensor(True)\n"
          ]
        }
      ]
    },
    {
      "cell_type": "markdown",
      "metadata": {
        "id": "lI64kojtuWmo"
      },
      "source": [
        "# 자동미분 흐름1\n",
        "### 계산흐름\n",
        "### a -> b -> c -> out\n",
        "\n",
        "### backward()를 통해\n",
        "### a <- b <- c <- out을 계산하면 미분값이 a.grad에 할당 됨."
      ]
    },
    {
      "cell_type": "code",
      "metadata": {
        "id": "w9e_K3eNuUQ2"
      },
      "source": [
        "import torch"
      ],
      "execution_count": 19,
      "outputs": []
    },
    {
      "cell_type": "code",
      "metadata": {
        "colab": {
          "base_uri": "https://localhost:8080/"
        },
        "id": "NF9gtioyuv6R",
        "outputId": "f0d02a22-29c4-4662-f405-b4c219337581"
      },
      "source": [
        "a = torch.ones(2, 2)\n",
        "print(a)"
      ],
      "execution_count": 20,
      "outputs": [
        {
          "output_type": "stream",
          "name": "stdout",
          "text": [
            "tensor([[1., 1.],\n",
            "        [1., 1.]])\n"
          ]
        }
      ]
    },
    {
      "cell_type": "code",
      "metadata": {
        "colab": {
          "base_uri": "https://localhost:8080/"
        },
        "id": "649A4ddAux1s",
        "outputId": "34b89c6e-44d9-46aa-d7d9-6d7ad783f27a"
      },
      "source": [
        "a = torch.ones(2,2, requires_grad=True)\n",
        "print(a)"
      ],
      "execution_count": 21,
      "outputs": [
        {
          "output_type": "stream",
          "name": "stdout",
          "text": [
            "tensor([[1., 1.],\n",
            "        [1., 1.]], requires_grad=True)\n"
          ]
        }
      ]
    },
    {
      "cell_type": "code",
      "metadata": {
        "colab": {
          "base_uri": "https://localhost:8080/"
        },
        "id": "Kh-hI90Cu1Mm",
        "outputId": "cd2f9743-2675-492c-ea64-aaef48359433"
      },
      "source": [
        "print('a.data:', a.data)\n",
        "print('a.grad:', a.grad)\n",
        "print('a.grad_fn', a.grad_fn)"
      ],
      "execution_count": 30,
      "outputs": [
        {
          "output_type": "stream",
          "name": "stdout",
          "text": [
            "a.data: tensor([[1., 1.],\n",
            "        [1., 1.]])\n",
            "a.grad: tensor([[6., 6.],\n",
            "        [6., 6.]])\n",
            "a.grad_fn None\n"
          ]
        }
      ]
    },
    {
      "cell_type": "code",
      "metadata": {
        "colab": {
          "base_uri": "https://localhost:8080/"
        },
        "id": "PVt4myJDu849",
        "outputId": "6844a325-3298-4a02-b262-358adb5d49c2"
      },
      "source": [
        "b = a + 2\n",
        "print(b)"
      ],
      "execution_count": 24,
      "outputs": [
        {
          "output_type": "stream",
          "name": "stdout",
          "text": [
            "tensor([[3., 3.],\n",
            "        [3., 3.]], grad_fn=<AddBackward0>)\n"
          ]
        }
      ]
    },
    {
      "cell_type": "code",
      "metadata": {
        "colab": {
          "base_uri": "https://localhost:8080/"
        },
        "id": "8X76s7J1vEWq",
        "outputId": "7ee1e35d-18b9-4680-80a8-9475e6c104c2"
      },
      "source": [
        "c = b**2\n",
        "print(c)"
      ],
      "execution_count": 25,
      "outputs": [
        {
          "output_type": "stream",
          "name": "stdout",
          "text": [
            "tensor([[9., 9.],\n",
            "        [9., 9.]], grad_fn=<PowBackward0>)\n"
          ]
        }
      ]
    },
    {
      "cell_type": "code",
      "metadata": {
        "colab": {
          "base_uri": "https://localhost:8080/"
        },
        "id": "m-CdvFLrvLNh",
        "outputId": "a2bf798e-b3d7-421b-ab66-e58aae6c9dc9"
      },
      "source": [
        "out = c.sum()\n",
        "print(out)"
      ],
      "execution_count": 26,
      "outputs": [
        {
          "output_type": "stream",
          "name": "stdout",
          "text": [
            "tensor(36., grad_fn=<SumBackward0>)\n"
          ]
        }
      ]
    },
    {
      "cell_type": "code",
      "metadata": {
        "colab": {
          "base_uri": "https://localhost:8080/"
        },
        "id": "wITJp3sKvPjn",
        "outputId": "195ef723-21a0-493f-b558-dc44ca42eb90"
      },
      "source": [
        "print(out)\n",
        "out.backward()"
      ],
      "execution_count": 27,
      "outputs": [
        {
          "output_type": "stream",
          "name": "stdout",
          "text": [
            "tensor(36., grad_fn=<SumBackward0>)\n"
          ]
        }
      ]
    },
    {
      "cell_type": "code",
      "metadata": {
        "colab": {
          "base_uri": "https://localhost:8080/"
        },
        "id": "pH342zBkvUdF",
        "outputId": "d52b9b5c-fc3f-4402-ae31-ce3a62c8a967"
      },
      "source": [
        "print('a.data:', a.data)\n",
        "print('a.grad:', a.grad)\n",
        "print('a.grad_fn', a.grad_fn) # 적용된 연산이 없기 때문에 값이 없음."
      ],
      "execution_count": 29,
      "outputs": [
        {
          "output_type": "stream",
          "name": "stdout",
          "text": [
            "a.data: tensor([[1., 1.],\n",
            "        [1., 1.]])\n",
            "a.grad: tensor([[6., 6.],\n",
            "        [6., 6.]])\n",
            "a.grad_fn None\n"
          ]
        }
      ]
    },
    {
      "cell_type": "code",
      "metadata": {
        "colab": {
          "base_uri": "https://localhost:8080/"
        },
        "id": "60ZWb-h3vbHl",
        "outputId": "b10e85ac-4398-4bf3-ac2a-5225c89f096f"
      },
      "source": [
        "print('b.data:', b.data)\n",
        "print('b.grad:', b.grad)\n",
        "print('b.grad_fn', b.grad_fn)"
      ],
      "execution_count": 31,
      "outputs": [
        {
          "output_type": "stream",
          "name": "stdout",
          "text": [
            "b.data: tensor([[3., 3.],\n",
            "        [3., 3.]])\n",
            "b.grad: None\n",
            "b.grad_fn <AddBackward0 object at 0x7ff960ca7850>\n"
          ]
        },
        {
          "output_type": "stream",
          "name": "stderr",
          "text": [
            "/usr/local/lib/python3.7/dist-packages/torch/_tensor.py:1013: UserWarning: The .grad attribute of a Tensor that is not a leaf Tensor is being accessed. Its .grad attribute won't be populated during autograd.backward(). If you indeed want the .grad field to be populated for a non-leaf Tensor, use .retain_grad() on the non-leaf Tensor. If you access the non-leaf Tensor by mistake, make sure you access the leaf Tensor instead. See github.com/pytorch/pytorch/pull/30531 for more informations. (Triggered internally at  aten/src/ATen/core/TensorBody.h:417.)\n",
            "  return self._grad\n"
          ]
        }
      ]
    },
    {
      "cell_type": "code",
      "metadata": {
        "colab": {
          "base_uri": "https://localhost:8080/"
        },
        "id": "SINnOEmSvoBP",
        "outputId": "852adc46-090c-480b-e912-75283b7138f1"
      },
      "source": [
        "print('c.data:', c.data)\n",
        "print('c.grad:', c.grad)\n",
        "print('c.grad_fn', c.grad_fn)"
      ],
      "execution_count": 32,
      "outputs": [
        {
          "output_type": "stream",
          "name": "stdout",
          "text": [
            "c.data: tensor([[9., 9.],\n",
            "        [9., 9.]])\n",
            "c.grad: None\n",
            "c.grad_fn <PowBackward0 object at 0x7ff960cb4410>\n"
          ]
        },
        {
          "output_type": "stream",
          "name": "stderr",
          "text": [
            "/usr/local/lib/python3.7/dist-packages/torch/_tensor.py:1013: UserWarning: The .grad attribute of a Tensor that is not a leaf Tensor is being accessed. Its .grad attribute won't be populated during autograd.backward(). If you indeed want the .grad field to be populated for a non-leaf Tensor, use .retain_grad() on the non-leaf Tensor. If you access the non-leaf Tensor by mistake, make sure you access the leaf Tensor instead. See github.com/pytorch/pytorch/pull/30531 for more informations. (Triggered internally at  aten/src/ATen/core/TensorBody.h:417.)\n",
            "  return self._grad\n"
          ]
        }
      ]
    },
    {
      "cell_type": "code",
      "metadata": {
        "colab": {
          "base_uri": "https://localhost:8080/"
        },
        "id": "NXAgGRqgvvhz",
        "outputId": "99e8ce90-95c1-408c-e088-da1db406d815"
      },
      "source": [
        "print('out.data:', out.data)\n",
        "print('out.grad:', out.grad)\n",
        "print('out.grad_fn', out.grad_fn)"
      ],
      "execution_count": 33,
      "outputs": [
        {
          "output_type": "stream",
          "name": "stdout",
          "text": [
            "out.data: tensor(36.)\n",
            "out.grad: None\n",
            "out.grad_fn <SumBackward0 object at 0x7ff9614f9410>\n"
          ]
        },
        {
          "output_type": "stream",
          "name": "stderr",
          "text": [
            "/usr/local/lib/python3.7/dist-packages/torch/_tensor.py:1013: UserWarning: The .grad attribute of a Tensor that is not a leaf Tensor is being accessed. Its .grad attribute won't be populated during autograd.backward(). If you indeed want the .grad field to be populated for a non-leaf Tensor, use .retain_grad() on the non-leaf Tensor. If you access the non-leaf Tensor by mistake, make sure you access the leaf Tensor instead. See github.com/pytorch/pytorch/pull/30531 for more informations. (Triggered internally at  aten/src/ATen/core/TensorBody.h:417.)\n",
            "  return self._grad\n"
          ]
        }
      ]
    },
    {
      "cell_type": "markdown",
      "metadata": {
        "id": "hIqIxtj1v8jm"
      },
      "source": [
        "# 자동미분 흐름2\n",
        "### grad값을 넣어서 backward\n",
        "### 아래의 코드에서 .grad값이 None은 gradient값이 필요하지 않기 때문"
      ]
    },
    {
      "cell_type": "code",
      "metadata": {
        "colab": {
          "base_uri": "https://localhost:8080/"
        },
        "id": "Y5jXWvO6v411",
        "outputId": "8fac4f03-b6ed-4eb2-d668-1e3e0671e677"
      },
      "source": [
        "x = torch.ones(3, requires_grad=True)\n",
        "y = (x**2)\n",
        "z = y **2 + x\n",
        "out = z.sum()\n",
        "print(out)"
      ],
      "execution_count": 34,
      "outputs": [
        {
          "output_type": "stream",
          "name": "stdout",
          "text": [
            "tensor(6., grad_fn=<SumBackward0>)\n"
          ]
        }
      ]
    },
    {
      "cell_type": "code",
      "metadata": {
        "id": "BRAFVjRiwUjw"
      },
      "source": [
        "grad = torch.Tensor([0.1, 1, 100])\n",
        "z.backward(grad)"
      ],
      "execution_count": 35,
      "outputs": []
    },
    {
      "cell_type": "code",
      "metadata": {
        "colab": {
          "base_uri": "https://localhost:8080/"
        },
        "id": "WlWcCEn4wicI",
        "outputId": "5e80d0ed-de4a-43da-d125-f9d35d3a0f70"
      },
      "source": [
        "print('x.data:', x.data)\n",
        "print('x.grad:', x.grad)\n",
        "print('x.grad_fn', x.grad_fn)"
      ],
      "execution_count": 36,
      "outputs": [
        {
          "output_type": "stream",
          "name": "stdout",
          "text": [
            "x.data: tensor([1., 1., 1.])\n",
            "x.grad: tensor([  0.5000,   5.0000, 500.0000])\n",
            "x.grad_fn None\n"
          ]
        }
      ]
    },
    {
      "cell_type": "code",
      "metadata": {
        "colab": {
          "base_uri": "https://localhost:8080/"
        },
        "id": "ptPMhLQCwlvf",
        "outputId": "b43d6fc2-0358-4564-af3f-915a6659e628"
      },
      "source": [
        "print('y.data:', y.data)\n",
        "print('y.grad:', y.grad)\n",
        "print('y.grad_fn', y.grad_fn)"
      ],
      "execution_count": 37,
      "outputs": [
        {
          "output_type": "stream",
          "name": "stdout",
          "text": [
            "y.data: tensor([1., 1., 1.])\n",
            "y.grad: None\n",
            "y.grad_fn <PowBackward0 object at 0x7ff961518ed0>\n"
          ]
        },
        {
          "output_type": "stream",
          "name": "stderr",
          "text": [
            "/usr/local/lib/python3.7/dist-packages/torch/_tensor.py:1013: UserWarning: The .grad attribute of a Tensor that is not a leaf Tensor is being accessed. Its .grad attribute won't be populated during autograd.backward(). If you indeed want the .grad field to be populated for a non-leaf Tensor, use .retain_grad() on the non-leaf Tensor. If you access the non-leaf Tensor by mistake, make sure you access the leaf Tensor instead. See github.com/pytorch/pytorch/pull/30531 for more informations. (Triggered internally at  aten/src/ATen/core/TensorBody.h:417.)\n",
            "  return self._grad\n"
          ]
        }
      ]
    },
    {
      "cell_type": "code",
      "metadata": {
        "colab": {
          "base_uri": "https://localhost:8080/"
        },
        "id": "wIxRMf-zwq7L",
        "outputId": "b9ddab9c-3ac7-4fe3-eb7e-03787ec99eba"
      },
      "source": [
        "print('z.data:', z.data)\n",
        "print('z.grad:', z.grad)\n",
        "print('z.grad_fn', z.grad_fn)"
      ],
      "execution_count": 38,
      "outputs": [
        {
          "output_type": "stream",
          "name": "stdout",
          "text": [
            "z.data: tensor([2., 2., 2.])\n",
            "z.grad: None\n",
            "z.grad_fn <AddBackward0 object at 0x7ff961610890>\n"
          ]
        },
        {
          "output_type": "stream",
          "name": "stderr",
          "text": [
            "/usr/local/lib/python3.7/dist-packages/torch/_tensor.py:1013: UserWarning: The .grad attribute of a Tensor that is not a leaf Tensor is being accessed. Its .grad attribute won't be populated during autograd.backward(). If you indeed want the .grad field to be populated for a non-leaf Tensor, use .retain_grad() on the non-leaf Tensor. If you access the non-leaf Tensor by mistake, make sure you access the leaf Tensor instead. See github.com/pytorch/pytorch/pull/30531 for more informations. (Triggered internally at  aten/src/ATen/core/TensorBody.h:417.)\n",
            "  return self._grad\n"
          ]
        }
      ]
    },
    {
      "cell_type": "markdown",
      "metadata": {
        "id": "octPZG7Aw7A-"
      },
      "source": [
        "# nn & nn.functional\n",
        "### 인공신경망 모델\n",
        "### 두 패키지가 같은 기능이지만 방식이 조금 다름\n",
        "### 위의 autograd 관련 작업들을 두 패키지를 통해 진행할 수 있음\n",
        "### 텐서를 직접 다룰 때 requires_grad와 같은 방식으로 진행할 수 있음.\n",
        "### 결론적으로, torch.nn은 attribute를 활용해 state를 저장하고 활용하고,\n",
        "### torch.nn,functional로 구현한 함수의 경우에는 인스턴스화 시킬 필요 없이 사용 가능"
      ]
    },
    {
      "cell_type": "markdown",
      "metadata": {
        "id": "A_bPUPXexpTB"
      },
      "source": [
        "# nn패키지\n",
        "### 주로 가중치(weights), 편향(bias)값들이 내부에서 자동으로 생성되는 레이더들을 사용할 때\n",
        "### 따라서, weight값들을 직접 선언 안함."
      ]
    },
    {
      "cell_type": "code",
      "metadata": {
        "id": "knSgy9JVw1Vk"
      },
      "source": [
        "import torch\n",
        "import torch.nn as nn"
      ],
      "execution_count": 39,
      "outputs": []
    },
    {
      "cell_type": "code",
      "metadata": {
        "colab": {
          "base_uri": "https://localhost:8080/"
        },
        "id": "jNDgUH1AyENS",
        "outputId": "f49ee13d-0a0d-4aa4-82db-12d8887db8b5"
      },
      "source": [
        "# Convolution Layer 예시(1)\n",
        "m = nn.Conv2d(16, 33, 3, stride=2)\n",
        "\n",
        "m = nn.Conv2d(16, 33, (3, 5), stride=(2,1), padding=(4, 2))\n",
        "\n",
        "m = nn.Conv2d(16, 33, (3, 5), stride=(2,1), padding=(4, 2), dilation=(3, 1))\n",
        "\n",
        "input = torch.randn(20, 16, 50, 100)\n",
        "print(input)\n",
        "output = m(input)\n",
        "print(output)"
      ],
      "execution_count": 42,
      "outputs": [
        {
          "output_type": "stream",
          "name": "stdout",
          "text": [
            "tensor([[[[-4.5270e-01, -8.7341e-02, -5.6802e-01,  ...,  1.3581e+00,\n",
            "            1.8386e+00, -1.3915e-01],\n",
            "          [ 1.3147e+00,  4.3209e-01, -4.5413e-01,  ...,  3.0439e-01,\n",
            "           -3.6603e-01,  2.1310e+00],\n",
            "          [ 1.0567e+00, -1.6905e+00, -1.6147e+00,  ...,  7.6021e-01,\n",
            "            2.8853e-01, -9.1198e-01],\n",
            "          ...,\n",
            "          [ 2.9961e-01, -2.4094e-01,  3.1549e-01,  ...,  8.3516e-01,\n",
            "            1.2630e+00,  5.9103e-01],\n",
            "          [ 9.2289e-01, -5.7617e-01, -4.5011e-01,  ...,  2.4062e-01,\n",
            "            1.4326e+00, -2.4427e+00],\n",
            "          [ 1.1186e+00,  1.3930e-01,  6.2801e-01,  ..., -1.9553e-01,\n",
            "            9.0098e-01, -3.5281e-01]],\n",
            "\n",
            "         [[-1.5855e+00, -6.8396e-01, -9.7096e-01,  ...,  5.1612e-01,\n",
            "            8.4524e-02,  4.2809e-01],\n",
            "          [-1.3403e+00, -8.7802e-01, -5.4579e-01,  ..., -2.6307e+00,\n",
            "            6.7363e-01,  1.1998e+00],\n",
            "          [ 5.8280e-01,  1.1352e+00,  6.6061e-01,  ..., -9.2328e-01,\n",
            "            4.6244e-02,  2.5566e+00],\n",
            "          ...,\n",
            "          [-7.9704e-01,  5.3608e-01,  1.1278e+00,  ...,  3.5100e-01,\n",
            "           -7.9178e-01, -6.1754e-01],\n",
            "          [ 8.2843e-01,  1.2162e+00,  2.7439e+00,  ..., -5.5929e-01,\n",
            "            1.5477e+00, -3.3202e-01],\n",
            "          [-4.8367e-01, -3.9230e-01, -1.8700e+00,  ..., -5.0412e-01,\n",
            "           -2.4627e+00, -1.3040e+00]],\n",
            "\n",
            "         [[-1.8086e+00,  6.0295e-01,  1.1298e+00,  ...,  5.0358e-01,\n",
            "            1.1855e+00, -1.1281e+00],\n",
            "          [ 6.4853e-01,  1.0629e+00,  5.4501e-01,  ..., -5.3284e-01,\n",
            "           -5.4997e-01,  1.2947e+00],\n",
            "          [ 1.5645e+00, -5.8974e-01,  1.5482e+00,  ...,  3.7105e-01,\n",
            "           -4.3451e-01,  1.6580e+00],\n",
            "          ...,\n",
            "          [ 1.3336e+00, -3.4498e-01, -1.8492e-01,  ...,  1.8284e+00,\n",
            "            5.7630e-01,  5.6238e-01],\n",
            "          [ 3.8499e-01, -2.1566e+00,  1.2524e+00,  ...,  8.9855e-01,\n",
            "            3.5056e-01,  1.0663e+00],\n",
            "          [-1.0618e+00,  4.1277e-01, -4.5617e-01,  ...,  1.2256e-01,\n",
            "           -6.1837e-01,  7.8727e-01]],\n",
            "\n",
            "         ...,\n",
            "\n",
            "         [[-2.8322e-01, -1.1258e+00, -1.7561e+00,  ..., -5.5158e-02,\n",
            "           -5.6634e-01,  2.9230e-01],\n",
            "          [ 3.3854e-01, -1.7990e+00, -3.8369e-01,  ..., -1.4178e-01,\n",
            "           -1.4668e+00,  2.8556e+00],\n",
            "          [-2.8854e-01, -2.4505e+00, -3.7683e-01,  ...,  3.7589e-01,\n",
            "            1.1642e+00,  1.5729e+00],\n",
            "          ...,\n",
            "          [-6.7213e-01, -3.0416e+00, -2.1176e+00,  ...,  5.4846e-01,\n",
            "           -6.2241e-01,  1.1581e+00],\n",
            "          [-1.5299e+00,  2.4620e+00, -2.2294e-01,  ...,  1.4103e-01,\n",
            "            1.4384e-01,  1.0532e+00],\n",
            "          [-4.2749e-01,  8.8745e-01,  1.4366e+00,  ..., -8.3411e-01,\n",
            "            7.5419e-01,  1.5815e+00]],\n",
            "\n",
            "         [[ 2.7328e-01,  6.8956e-01, -9.9064e-01,  ...,  2.6082e+00,\n",
            "           -5.7539e-01,  5.2792e-01],\n",
            "          [ 5.0881e-01,  6.9588e-01, -3.1254e-01,  ...,  1.0116e+00,\n",
            "            8.9953e-01,  1.9740e+00],\n",
            "          [ 1.3653e+00,  6.6406e-02,  1.2286e+00,  ...,  1.5119e+00,\n",
            "           -3.0214e-01, -3.5224e-01],\n",
            "          ...,\n",
            "          [ 1.5527e-01, -5.0374e-01,  6.8631e-01,  ..., -6.7773e-01,\n",
            "           -2.4104e-01,  1.3075e-01],\n",
            "          [-7.5447e-01,  2.0866e-01,  1.2741e+00,  ..., -3.3063e-01,\n",
            "           -8.3801e-01, -1.2195e+00],\n",
            "          [-6.9583e-01, -6.9933e-01, -9.3488e-01,  ...,  6.6205e-01,\n",
            "           -1.0036e+00,  7.0699e-01]],\n",
            "\n",
            "         [[ 5.9103e-01, -1.1176e+00,  6.3924e-01,  ..., -1.1661e-01,\n",
            "            1.4180e-01, -8.0846e-01],\n",
            "          [-1.2101e+00,  1.8787e-01,  6.2383e-02,  ...,  1.3508e-01,\n",
            "           -8.9459e-01,  1.7209e-01],\n",
            "          [ 1.4422e-01,  1.9043e+00,  9.9581e-01,  ...,  1.6466e-02,\n",
            "           -4.7749e-01,  1.7740e+00],\n",
            "          ...,\n",
            "          [-1.9311e-01,  7.4543e-02,  5.1051e-01,  ...,  1.5646e+00,\n",
            "            6.9521e-01,  3.2130e-01],\n",
            "          [-3.2346e-01, -2.2313e-01,  2.3916e-01,  ...,  9.2618e-01,\n",
            "           -7.0980e-01, -2.5177e-01],\n",
            "          [-6.9080e-01, -2.3203e-01,  9.3211e-01,  ...,  1.6280e-01,\n",
            "            2.6951e+00, -1.8628e+00]]],\n",
            "\n",
            "\n",
            "        [[[-1.3851e+00,  3.9258e-01,  1.0060e+00,  ...,  1.1217e+00,\n",
            "           -1.4183e+00, -5.5033e-01],\n",
            "          [ 1.9558e+00,  1.3897e+00, -1.0831e+00,  ..., -2.2956e-01,\n",
            "            9.9787e-01, -7.1040e-02],\n",
            "          [ 1.5519e+00,  6.3199e-01, -2.9732e+00,  ..., -3.2717e-01,\n",
            "           -6.8093e-02,  4.1925e-01],\n",
            "          ...,\n",
            "          [ 1.5041e-01, -3.1320e-01,  1.8287e+00,  ...,  1.3587e+00,\n",
            "           -9.9522e-01,  1.5052e+00],\n",
            "          [-1.1284e+00, -1.0976e+00,  7.4101e-01,  ..., -1.6015e-01,\n",
            "            5.6727e-01,  3.6097e-01],\n",
            "          [ 1.5617e+00,  1.1123e+00, -1.9428e+00,  ..., -2.9662e-01,\n",
            "           -5.7995e-01, -3.2381e-01]],\n",
            "\n",
            "         [[ 1.4917e+00, -5.4206e-01,  1.2012e-01,  ...,  1.2855e-01,\n",
            "            9.2303e-01, -1.7327e+00],\n",
            "          [-7.3116e-01, -5.8673e-01,  2.7364e-01,  ...,  4.0635e-01,\n",
            "           -1.9585e+00,  1.7352e+00],\n",
            "          [-8.5458e-01, -2.3381e-01, -4.3489e-01,  ..., -1.6102e-01,\n",
            "            6.0025e-01,  1.3209e+00],\n",
            "          ...,\n",
            "          [-5.6528e-01, -1.5640e+00,  1.2431e+00,  ...,  1.1329e+00,\n",
            "            4.0888e-02,  2.3457e+00],\n",
            "          [ 1.9385e-01, -3.4588e-01,  3.9040e-01,  ...,  1.2407e+00,\n",
            "            2.9868e-01, -9.9948e-02],\n",
            "          [ 7.3792e-02,  7.8585e-01,  1.2442e-01,  ...,  6.0577e-01,\n",
            "           -5.6008e-01, -2.7788e+00]],\n",
            "\n",
            "         [[ 1.7390e-01, -5.2988e-02,  1.7528e-01,  ...,  7.2219e-01,\n",
            "            1.1864e-01, -1.0966e+00],\n",
            "          [-1.1709e+00, -4.4825e-01,  9.4303e-01,  ...,  3.8282e-01,\n",
            "            4.4864e-01,  4.0797e-02],\n",
            "          [-9.2429e-02,  5.4551e-01, -4.6664e-01,  ...,  7.3132e-01,\n",
            "           -5.6200e-02, -1.1352e+00],\n",
            "          ...,\n",
            "          [-9.6803e-01, -7.8742e-01, -1.5898e-01,  ..., -6.3243e-01,\n",
            "           -2.5666e-01,  8.4745e-01],\n",
            "          [ 1.4100e+00, -2.5172e-01,  2.9913e-01,  ...,  5.1044e-01,\n",
            "            1.5299e+00,  4.1384e-01],\n",
            "          [ 7.8867e-01,  9.4290e-01,  4.1134e-01,  ..., -1.3039e+00,\n",
            "            9.3420e-01, -1.1048e+00]],\n",
            "\n",
            "         ...,\n",
            "\n",
            "         [[-1.0537e+00,  1.2312e+00, -1.0427e+00,  ..., -1.5050e+00,\n",
            "           -1.7354e+00, -1.0249e-01],\n",
            "          [-2.1224e-01, -5.3433e-01, -2.1835e+00,  ...,  1.0324e+00,\n",
            "           -5.2063e-01, -2.6395e-02],\n",
            "          [ 8.5353e-01,  5.0493e-01,  1.2710e+00,  ..., -6.2072e-02,\n",
            "            3.5831e-01,  1.8497e-01],\n",
            "          ...,\n",
            "          [ 1.8847e-01, -1.9093e+00,  3.8681e-01,  ..., -1.5562e-01,\n",
            "           -6.0855e-01,  1.1210e+00],\n",
            "          [ 5.2230e-01, -1.3075e+00,  1.3586e+00,  ..., -8.7739e-01,\n",
            "           -2.2085e-01,  4.8409e-01],\n",
            "          [-4.5805e-01,  2.2332e-01, -3.8155e-02,  ...,  1.2086e+00,\n",
            "            1.6998e+00, -8.4489e-04]],\n",
            "\n",
            "         [[-9.0862e-01, -7.7003e-01, -4.1683e-01,  ..., -5.1457e-01,\n",
            "           -1.1199e+00, -2.8770e+00],\n",
            "          [ 1.5776e+00, -1.2757e+00, -1.4027e+00,  ...,  1.0077e-01,\n",
            "           -8.3021e-02, -1.6285e+00],\n",
            "          [ 3.1325e-01,  3.7488e-01,  1.6852e+00,  ...,  9.5254e-02,\n",
            "            1.3950e+00, -2.5486e-01],\n",
            "          ...,\n",
            "          [-8.9212e-01,  8.3164e-01,  2.5737e-01,  ..., -7.4567e-01,\n",
            "            1.5686e+00,  5.2109e-01],\n",
            "          [-3.6301e-01,  1.0545e+00, -1.3826e-01,  ..., -5.3656e-01,\n",
            "            3.5370e-01,  7.8819e-01],\n",
            "          [-7.8120e-01,  7.3394e-01,  6.0593e-01,  ...,  4.8322e-02,\n",
            "           -1.3055e+00, -3.3640e-01]],\n",
            "\n",
            "         [[ 1.3758e+00,  5.5941e-02,  1.6552e+00,  ...,  5.8464e-01,\n",
            "            3.2249e-01,  1.8567e-01],\n",
            "          [-1.9024e-01, -1.1914e-01,  1.1158e+00,  ..., -1.3058e+00,\n",
            "           -5.2993e-01,  2.0916e+00],\n",
            "          [-3.6415e-01, -9.3778e-01,  2.0261e-01,  ...,  1.2638e+00,\n",
            "           -1.8426e-01, -9.5907e-02],\n",
            "          ...,\n",
            "          [-6.9574e-01,  4.5633e-01,  1.1620e+00,  ...,  4.5239e-01,\n",
            "           -1.2684e+00,  1.3330e+00],\n",
            "          [-1.3966e+00,  2.0077e+00, -5.7382e-01,  ..., -3.1653e-01,\n",
            "           -9.7801e-01, -7.9564e-01],\n",
            "          [ 1.7804e-01, -3.2473e-01, -7.7557e-01,  ..., -5.8944e-01,\n",
            "            1.1057e+00,  8.7956e-01]]],\n",
            "\n",
            "\n",
            "        [[[ 4.2833e-02,  9.7767e-01,  2.3574e-01,  ...,  1.3002e-01,\n",
            "            1.4297e-01, -1.0382e+00],\n",
            "          [-8.8642e-01, -1.0454e+00,  1.1750e+00,  ..., -6.1758e-01,\n",
            "           -5.7266e-01, -1.8507e+00],\n",
            "          [-3.6310e-01, -4.5918e-01,  2.2547e-01,  ..., -1.5827e+00,\n",
            "            1.7772e-01, -1.0755e+00],\n",
            "          ...,\n",
            "          [-1.4346e-01,  5.6689e-01, -1.1918e-01,  ...,  1.1890e+00,\n",
            "           -9.9445e-02, -1.2905e+00],\n",
            "          [ 1.4426e+00, -5.4722e-01,  1.6703e+00,  ..., -1.0214e+00,\n",
            "           -5.4987e-01,  1.1408e+00],\n",
            "          [ 7.7173e-01,  1.1009e+00, -1.2681e+00,  ..., -7.3543e-01,\n",
            "           -1.0072e+00, -6.4258e-01]],\n",
            "\n",
            "         [[-6.8001e-01, -1.0348e-01,  2.6829e-01,  ...,  4.2908e-01,\n",
            "           -7.0585e-01,  5.8524e-01],\n",
            "          [ 1.0424e+00, -2.7528e-01,  1.9255e+00,  ...,  1.0598e+00,\n",
            "           -1.2731e-01,  1.1005e+00],\n",
            "          [ 1.3811e+00, -8.2975e-01, -1.6024e-01,  ..., -7.5984e-01,\n",
            "           -1.5938e+00,  6.8788e-01],\n",
            "          ...,\n",
            "          [-8.0902e-01, -2.6876e-01,  1.8901e+00,  ..., -1.1918e+00,\n",
            "           -5.7779e-01,  6.4835e-01],\n",
            "          [-5.3291e-01,  5.2126e-01,  4.1755e-01,  ...,  6.4575e-01,\n",
            "           -7.7892e-01, -1.3532e+00],\n",
            "          [ 1.7271e+00, -4.5491e-01,  5.5677e-01,  ...,  5.6837e-01,\n",
            "            2.0784e+00, -8.2339e-01]],\n",
            "\n",
            "         [[-6.8929e-01,  4.6805e-01, -9.1462e-01,  ...,  3.8718e-01,\n",
            "            5.7831e-01, -3.0790e-01],\n",
            "          [-1.4044e+00,  2.3031e-02, -2.0556e-01,  ..., -5.2564e-01,\n",
            "           -1.2365e+00, -2.2890e-01],\n",
            "          [ 7.7351e-01,  8.1089e-01,  1.1005e+00,  ...,  1.3746e+00,\n",
            "           -1.6576e+00, -8.0204e-01],\n",
            "          ...,\n",
            "          [ 3.3653e-01, -6.3096e-01, -5.5353e-01,  ...,  5.6950e-01,\n",
            "            1.2031e+00,  3.7116e-01],\n",
            "          [-3.2935e-01, -5.7859e-02,  6.0197e-01,  ...,  3.3288e-01,\n",
            "           -2.7983e-01, -1.7009e-01],\n",
            "          [-8.7816e-02,  1.9997e+00, -5.5811e-01,  ...,  4.0140e-01,\n",
            "           -9.5020e-01, -6.4313e-01]],\n",
            "\n",
            "         ...,\n",
            "\n",
            "         [[ 5.2892e-01, -4.2693e-01,  1.5813e+00,  ..., -1.5666e-01,\n",
            "            2.0051e-01,  1.5683e+00],\n",
            "          [-1.7689e+00, -1.3547e+00,  6.7197e-01,  ...,  7.5390e-01,\n",
            "           -1.2157e+00, -2.3514e-01],\n",
            "          [ 6.6668e-02, -1.0846e+00,  2.0510e-01,  ...,  7.8974e-01,\n",
            "           -3.5618e-01,  1.0031e+00],\n",
            "          ...,\n",
            "          [-4.0910e-01,  1.8036e+00,  1.9238e-01,  ..., -2.3215e-01,\n",
            "           -2.1025e-01, -7.9258e-01],\n",
            "          [-6.8391e-01, -1.3367e+00,  9.7560e-02,  ..., -1.9294e-01,\n",
            "            1.6413e+00, -1.9871e+00],\n",
            "          [ 1.8313e-02, -1.1767e+00, -2.7139e-01,  ...,  3.1197e-01,\n",
            "            6.9664e-01,  4.9162e-01]],\n",
            "\n",
            "         [[ 4.0742e-01,  3.0267e-01,  3.6217e-01,  ...,  2.9567e-01,\n",
            "            2.3990e-01,  4.5831e-01],\n",
            "          [-2.1180e+00, -5.5842e-01,  8.7588e-01,  ...,  9.9833e-01,\n",
            "            6.9582e-01, -1.2775e+00],\n",
            "          [ 1.1686e+00,  2.4185e-01,  6.0705e-01,  ..., -2.6928e-01,\n",
            "            1.5425e+00,  5.0923e-01],\n",
            "          ...,\n",
            "          [ 5.9749e-01, -9.4120e-01, -7.2695e-01,  ...,  1.8971e-01,\n",
            "            2.3385e+00, -4.9104e-01],\n",
            "          [ 1.0882e+00,  8.7557e-01,  4.8225e-01,  ...,  6.7830e-01,\n",
            "            1.3254e+00, -4.5052e-02],\n",
            "          [-2.5763e-01, -3.9286e-01, -1.0548e+00,  ..., -3.3951e+00,\n",
            "            1.1189e+00,  2.8569e-01]],\n",
            "\n",
            "         [[ 1.1791e+00,  1.0272e+00, -9.3180e-01,  ..., -8.8265e-01,\n",
            "           -4.2557e-02,  7.0270e-01],\n",
            "          [-8.0341e-01, -1.8366e-01, -3.9458e-01,  ..., -2.5858e-01,\n",
            "            8.1661e-01, -1.2986e+00],\n",
            "          [-1.4027e+00,  5.4540e-01,  9.8199e-01,  ..., -1.0663e+00,\n",
            "            9.7684e-02,  2.1262e-01],\n",
            "          ...,\n",
            "          [ 5.1532e-01,  1.4397e+00, -6.5860e-01,  ..., -8.8226e-01,\n",
            "           -1.1102e+00,  2.7081e-01],\n",
            "          [-6.8344e-03, -9.2839e-02,  1.1221e+00,  ...,  2.6756e-01,\n",
            "            1.0032e+00,  6.5892e-01],\n",
            "          [-8.9635e-01,  5.1389e-04, -2.9961e-01,  ..., -1.0556e+00,\n",
            "            5.7594e-01,  1.8026e+00]]],\n",
            "\n",
            "\n",
            "        ...,\n",
            "\n",
            "\n",
            "        [[[ 2.5550e-01, -1.1021e+00,  9.3759e-01,  ...,  5.3398e-01,\n",
            "           -4.9703e-01,  4.0779e-01],\n",
            "          [-3.1017e-01, -9.5384e-01, -1.5239e+00,  ...,  3.1421e-01,\n",
            "           -2.5901e-01,  2.2338e+00],\n",
            "          [ 1.1586e+00,  5.0075e-01, -5.0196e-03,  ...,  5.4060e-01,\n",
            "           -1.7304e+00, -1.8732e+00],\n",
            "          ...,\n",
            "          [ 9.3019e-01, -7.6876e-01, -1.3424e+00,  ...,  1.2963e+00,\n",
            "            1.4722e-01, -1.2712e+00],\n",
            "          [-1.1062e+00, -1.2170e+00,  5.4619e-01,  ..., -7.4119e-02,\n",
            "            5.2392e-01, -6.9769e-01],\n",
            "          [ 1.0460e+00, -2.6716e-01,  1.8180e+00,  ..., -1.7059e-01,\n",
            "           -1.6457e+00, -5.9206e-01]],\n",
            "\n",
            "         [[ 3.8162e-01,  9.4363e-01, -7.9576e-02,  ..., -6.1899e-01,\n",
            "           -6.7597e-01,  3.7044e-01],\n",
            "          [ 7.1518e-01, -8.1527e-02, -8.2430e-01,  ..., -5.0527e-01,\n",
            "           -1.9615e+00,  2.0731e+00],\n",
            "          [ 1.6955e-01,  1.8025e+00,  3.5932e-01,  ...,  1.3964e+00,\n",
            "            3.7993e-02,  1.0621e+00],\n",
            "          ...,\n",
            "          [-5.5542e-01,  6.9352e-02,  1.7071e-01,  ...,  7.7550e-01,\n",
            "           -3.6685e-01, -9.0850e-01],\n",
            "          [ 1.1747e+00,  6.7327e-03, -1.6041e+00,  ..., -1.8870e+00,\n",
            "           -8.7027e-01, -1.6602e+00],\n",
            "          [-1.3531e+00, -1.7596e-01,  9.7940e-01,  ...,  1.1075e-01,\n",
            "           -8.1852e-02,  2.2077e-01]],\n",
            "\n",
            "         [[-7.0817e-01, -3.9127e-01,  7.4543e-01,  ..., -4.7190e-01,\n",
            "            1.1771e+00,  1.0738e-01],\n",
            "          [ 4.5877e-01,  4.3589e-01, -2.0916e+00,  ...,  5.0232e-01,\n",
            "           -7.9152e-01, -1.7684e+00],\n",
            "          [ 1.2472e+00, -1.4898e-01, -5.1188e-01,  ..., -5.4617e-01,\n",
            "            6.0196e-02,  1.0819e+00],\n",
            "          ...,\n",
            "          [-1.0732e+00,  7.2998e-01,  1.0619e+00,  ..., -2.7632e-01,\n",
            "           -1.9434e+00, -1.7661e+00],\n",
            "          [ 2.5991e-01,  4.9755e-01, -1.3032e+00,  ..., -5.8106e-01,\n",
            "            2.5956e-01, -5.4489e-01],\n",
            "          [-1.3040e+00,  2.9706e-01, -2.6345e-01,  ...,  1.7011e+00,\n",
            "            9.2037e-01, -8.2778e-01]],\n",
            "\n",
            "         ...,\n",
            "\n",
            "         [[ 1.5564e+00,  1.1007e+00, -1.2743e+00,  ..., -1.0337e+00,\n",
            "           -1.9282e+00, -3.7928e-01],\n",
            "          [ 6.8935e-01, -1.1668e-01,  2.4230e-01,  ..., -1.1868e+00,\n",
            "           -7.0052e-01, -9.5953e-01],\n",
            "          [-8.7346e-01, -4.4460e-01,  1.2846e-01,  ...,  1.3392e+00,\n",
            "           -7.3446e-01, -3.0671e-01],\n",
            "          ...,\n",
            "          [-3.1300e-01,  2.1282e+00,  1.1976e+00,  ...,  9.4980e-01,\n",
            "            2.0866e-01,  5.9979e-02],\n",
            "          [ 9.1823e-01, -9.0229e-01, -8.4510e-01,  ...,  3.8607e-02,\n",
            "           -1.7498e+00,  4.0247e-01],\n",
            "          [ 1.6385e+00, -7.2722e-01, -1.0927e+00,  ...,  7.5543e-01,\n",
            "           -2.3726e-01, -6.1490e-01]],\n",
            "\n",
            "         [[ 3.4743e-01, -9.2934e-01, -4.4647e-01,  ..., -8.9497e-01,\n",
            "           -6.9744e-02,  1.7606e-02],\n",
            "          [-6.6351e-01, -5.5381e-01,  1.6215e-01,  ..., -1.6180e-01,\n",
            "           -6.4255e-02, -1.6061e-01],\n",
            "          [-1.2738e+00, -2.9560e-02,  8.3647e-01,  ..., -4.5692e-01,\n",
            "            7.9371e-02, -1.4402e-01],\n",
            "          ...,\n",
            "          [ 8.8851e-01,  8.6859e-03,  1.7439e+00,  ..., -3.8932e-01,\n",
            "           -1.4507e+00,  4.6319e-01],\n",
            "          [-7.9595e-01, -6.3243e-01, -7.7085e-01,  ...,  8.7429e-01,\n",
            "            2.6708e-01, -4.1242e-01],\n",
            "          [ 2.4094e-01,  2.4638e+00,  2.1981e-01,  ..., -1.8941e+00,\n",
            "           -2.2621e-01, -3.5481e-01]],\n",
            "\n",
            "         [[-1.4567e+00,  1.0054e+00, -2.3208e-01,  ...,  2.9043e-01,\n",
            "            7.4857e-01,  1.2647e-01],\n",
            "          [ 5.3642e-01,  1.2547e+00,  2.1821e+00,  ...,  8.1164e-01,\n",
            "            1.2040e+00,  1.1282e+00],\n",
            "          [-1.8679e+00, -1.5718e+00, -1.2578e+00,  ..., -1.0229e+00,\n",
            "            6.6917e-01,  1.0084e+00],\n",
            "          ...,\n",
            "          [-4.9634e-01,  6.8378e-02, -3.6402e-01,  ...,  8.9987e-01,\n",
            "            2.0608e+00, -4.8505e-02],\n",
            "          [ 1.1490e+00, -4.7714e-01, -2.6425e-01,  ...,  5.4253e-01,\n",
            "           -4.5390e-01,  8.7975e-01],\n",
            "          [-7.5532e-01,  3.1305e-01,  7.3056e-01,  ..., -1.3788e+00,\n",
            "           -5.0953e-01,  5.0215e-01]]],\n",
            "\n",
            "\n",
            "        [[[-8.2136e-01,  4.2039e-01,  9.9748e-01,  ...,  2.0148e-01,\n",
            "           -1.2980e+00,  1.7469e+00],\n",
            "          [-8.5236e-01,  1.7260e-02,  2.4041e+00,  ...,  4.0469e-01,\n",
            "           -1.7575e+00, -3.3906e-01],\n",
            "          [-1.6155e+00,  5.7778e-01, -7.8527e-03,  ..., -1.0572e-01,\n",
            "            4.3720e-02, -7.6536e-01],\n",
            "          ...,\n",
            "          [-4.8454e-01,  7.6614e-01,  5.7048e-01,  ...,  1.3231e-01,\n",
            "            1.4790e+00, -7.8945e-01],\n",
            "          [ 1.1450e+00, -9.2805e-01,  1.1046e+00,  ..., -1.4234e+00,\n",
            "           -1.6137e+00,  1.6143e+00],\n",
            "          [ 1.3991e+00, -9.1741e-01, -1.6253e+00,  ..., -9.9138e-01,\n",
            "            1.6289e+00, -5.2960e-01]],\n",
            "\n",
            "         [[-7.8047e-01,  1.0561e+00,  8.4394e-01,  ..., -1.3600e-01,\n",
            "           -9.4049e-01, -1.8400e-02],\n",
            "          [ 3.2406e-01, -2.4806e+00,  1.2579e+00,  ..., -1.1729e+00,\n",
            "           -1.0378e+00,  2.0360e-01],\n",
            "          [-2.9981e-01, -9.6961e-01,  6.9825e-01,  ...,  1.0419e+00,\n",
            "           -7.1573e-01,  1.5724e+00],\n",
            "          ...,\n",
            "          [-6.3406e-01,  5.8962e-01, -1.6226e-01,  ...,  7.3553e-01,\n",
            "           -1.0982e+00, -5.4942e-01],\n",
            "          [-6.4564e-01, -1.5638e+00,  1.3933e+00,  ...,  1.0834e+00,\n",
            "            5.9429e-01,  1.1334e+00],\n",
            "          [ 8.9207e-04, -1.3643e+00,  1.4367e-01,  ...,  2.2852e+00,\n",
            "           -1.2671e+00,  1.0021e+00]],\n",
            "\n",
            "         [[-3.0119e-01,  7.7725e-01,  8.9070e-01,  ..., -1.1372e+00,\n",
            "            4.7465e-01,  1.5379e+00],\n",
            "          [ 5.1623e-01, -1.8180e+00, -1.3177e+00,  ..., -1.4587e+00,\n",
            "            1.1051e+00, -2.4134e+00],\n",
            "          [-2.2237e+00, -1.6387e+00, -1.4524e+00,  ...,  1.8059e+00,\n",
            "           -7.5039e-01,  2.7980e-01],\n",
            "          ...,\n",
            "          [-2.2125e-01, -1.4153e+00,  2.8408e-02,  ..., -1.2558e+00,\n",
            "           -2.0839e+00, -1.4676e+00],\n",
            "          [ 2.4846e-01, -9.8375e-01, -2.2191e-01,  ...,  2.1689e-01,\n",
            "           -8.1673e-01,  4.7505e-01],\n",
            "          [-3.1183e+00,  7.9755e-01, -1.5681e+00,  ...,  9.7426e-01,\n",
            "           -9.3353e-01, -7.2154e-02]],\n",
            "\n",
            "         ...,\n",
            "\n",
            "         [[ 1.1401e+00, -4.9044e-01, -7.1657e-01,  ..., -1.3027e+00,\n",
            "            1.5321e+00, -8.1384e-01],\n",
            "          [-8.2139e-01, -1.4452e+00, -1.8157e+00,  ...,  5.2873e-01,\n",
            "            1.0772e-01, -1.9304e-01],\n",
            "          [-8.3690e-01,  8.8092e-01, -6.7349e-01,  ...,  5.6029e-01,\n",
            "            1.4292e+00,  1.4989e-01],\n",
            "          ...,\n",
            "          [-5.8489e-01,  2.0001e-01,  6.4021e-01,  ...,  1.4825e-01,\n",
            "            1.8858e-01, -2.1957e-01],\n",
            "          [ 3.1885e-01,  8.3987e-01,  1.2925e-01,  ..., -1.3489e+00,\n",
            "            3.1308e-01, -6.7111e-01],\n",
            "          [ 8.0886e-01,  1.4712e-01, -1.8948e+00,  ...,  2.8155e-01,\n",
            "           -5.8084e-01, -5.2802e-01]],\n",
            "\n",
            "         [[ 1.8732e+00,  6.0488e-01,  5.0684e-01,  ...,  5.6199e-02,\n",
            "            2.4653e+00, -4.1770e-01],\n",
            "          [ 7.9928e-01,  1.6113e+00, -9.4021e-01,  ...,  5.5737e-01,\n",
            "            1.4521e+00, -1.3741e+00],\n",
            "          [ 7.7169e-01, -2.7387e-01, -1.4644e+00,  ...,  3.7405e-02,\n",
            "           -1.0735e+00, -1.2159e+00],\n",
            "          ...,\n",
            "          [ 2.4574e+00, -7.6273e-01,  3.3156e-01,  ...,  5.3501e-01,\n",
            "           -1.1295e+00,  2.6706e-01],\n",
            "          [-2.3316e+00,  1.1416e-01,  1.5853e+00,  ...,  2.5446e-01,\n",
            "            9.3381e-01,  1.4190e+00],\n",
            "          [-4.8213e-01, -6.1697e-01,  5.1135e-02,  ..., -4.8003e-01,\n",
            "            5.0930e-01, -5.0683e-01]],\n",
            "\n",
            "         [[-2.5908e-01, -2.9183e+00, -6.6292e-02,  ..., -2.0143e+00,\n",
            "            4.3323e-01,  8.7783e-01],\n",
            "          [-5.4551e-03, -6.3976e-01, -5.1736e-01,  ...,  3.7227e-01,\n",
            "            1.7228e+00, -6.7722e-01],\n",
            "          [-2.0426e+00,  4.2513e-01, -9.2248e-01,  ..., -6.3948e-01,\n",
            "            9.8321e-01,  1.4489e+00],\n",
            "          ...,\n",
            "          [-2.2588e-01, -2.2218e-01,  8.4089e-01,  ..., -8.7804e-01,\n",
            "           -1.0871e+00, -4.9759e-01],\n",
            "          [-9.7177e-01, -1.2836e+00, -2.9788e-01,  ...,  3.5472e-01,\n",
            "            5.7312e-01, -2.0753e+00],\n",
            "          [-4.2880e-01, -1.5734e-01,  2.5365e+00,  ...,  4.6116e-01,\n",
            "           -1.0460e+00,  7.2785e-01]]],\n",
            "\n",
            "\n",
            "        [[[ 9.8394e-01, -1.8317e+00,  1.0643e-01,  ...,  9.1381e-01,\n",
            "           -2.1274e-01, -6.9789e-01],\n",
            "          [ 4.8657e-01, -1.4399e-02, -1.1706e-01,  ...,  9.8358e-01,\n",
            "           -2.5506e-01, -1.0840e-01],\n",
            "          [ 7.5566e-01,  1.5455e-01,  3.4768e-01,  ...,  1.1601e-01,\n",
            "            1.1771e+00,  1.6877e+00],\n",
            "          ...,\n",
            "          [-4.1994e-01,  6.1371e-03,  7.3523e-01,  ...,  6.2102e-01,\n",
            "           -7.0741e-01, -3.7048e-01],\n",
            "          [ 2.1916e-02,  1.1335e+00, -3.6324e-01,  ...,  7.4744e-01,\n",
            "           -1.6880e+00, -7.9447e-01],\n",
            "          [ 7.6017e-01,  1.5663e+00,  1.0267e+00,  ...,  6.1234e-01,\n",
            "            1.7989e+00,  3.6683e-02]],\n",
            "\n",
            "         [[ 7.1739e-01, -9.9602e-01, -1.0655e+00,  ...,  2.6272e-03,\n",
            "            6.0377e-01,  3.0762e-01],\n",
            "          [ 5.4423e-01,  2.0753e-01, -6.2817e-01,  ...,  4.0777e-01,\n",
            "           -7.6489e-01, -3.3268e-01],\n",
            "          [-4.5995e-01,  1.5189e-01, -1.6773e+00,  ...,  8.8730e-01,\n",
            "            6.3683e-01, -4.8166e-01],\n",
            "          ...,\n",
            "          [ 4.2741e-01,  5.1172e-01,  1.1081e+00,  ...,  6.6877e-01,\n",
            "           -2.8423e-01,  4.4628e-01],\n",
            "          [ 4.3250e-01, -1.0634e+00,  4.5525e-01,  ...,  4.5892e-01,\n",
            "           -1.1573e+00,  6.8855e-01],\n",
            "          [-7.4510e-01, -1.0099e+00,  2.0393e+00,  ..., -4.9334e-01,\n",
            "            1.6548e+00, -1.0300e+00]],\n",
            "\n",
            "         [[ 1.2787e+00, -3.2908e-01, -1.6523e+00,  ..., -2.3536e+00,\n",
            "            1.3196e+00, -8.6890e-01],\n",
            "          [ 5.5670e-01, -2.1648e+00, -1.3231e+00,  ..., -6.3517e-01,\n",
            "            2.3912e+00,  5.4249e-01],\n",
            "          [-1.4149e+00,  6.0876e-01,  9.3200e-01,  ...,  7.4626e-01,\n",
            "            8.7616e-01, -1.4308e+00],\n",
            "          ...,\n",
            "          [ 5.7541e-01, -7.6472e-01, -3.1657e-01,  ..., -1.9272e-01,\n",
            "           -9.2374e-01,  2.6385e+00],\n",
            "          [-4.6732e-01, -1.2125e+00, -4.0470e-01,  ...,  8.6677e-01,\n",
            "           -5.9627e-01,  1.3518e-01],\n",
            "          [ 1.4489e-01, -8.7241e-01,  1.3245e+00,  ..., -1.6174e+00,\n",
            "           -5.7050e-01, -1.2524e+00]],\n",
            "\n",
            "         ...,\n",
            "\n",
            "         [[-2.0500e+00, -3.8749e-01, -5.6066e-01,  ...,  1.9484e-01,\n",
            "            1.6311e-01,  1.6354e+00],\n",
            "          [ 1.2373e+00,  7.7670e-01,  7.7587e-01,  ..., -1.1950e+00,\n",
            "            2.3828e+00,  5.2499e-01],\n",
            "          [ 2.4206e+00, -7.7979e-01, -3.7922e-01,  ...,  5.2043e-01,\n",
            "           -3.2304e-01, -1.2952e+00],\n",
            "          ...,\n",
            "          [ 3.8153e-01,  1.6345e-01,  1.8010e+00,  ...,  2.3471e+00,\n",
            "           -1.7107e-01, -7.6104e-01],\n",
            "          [ 2.4668e+00, -1.0732e+00, -1.5364e-01,  ..., -1.2230e+00,\n",
            "            1.7446e+00,  9.8917e-01],\n",
            "          [-9.6946e-01, -1.3907e-01, -1.9615e+00,  ..., -3.2870e-02,\n",
            "            5.6658e-01,  1.2758e+00]],\n",
            "\n",
            "         [[ 2.2555e-02, -1.4214e+00, -6.4298e-01,  ...,  9.5130e-01,\n",
            "            1.0764e+00,  1.4460e+00],\n",
            "          [ 6.7594e-01,  5.7539e-01,  1.0527e+00,  ..., -6.2295e-01,\n",
            "            5.2113e-01, -7.4821e-01],\n",
            "          [-7.1532e-01,  2.6792e-01, -6.5456e-01,  ..., -6.6886e-02,\n",
            "            3.3150e-01,  1.6616e+00],\n",
            "          ...,\n",
            "          [-6.6485e-01, -6.0565e-01,  9.1502e-01,  ..., -1.5507e+00,\n",
            "            2.0035e+00, -1.0263e+00],\n",
            "          [-5.8021e-01, -8.9517e-01, -2.8255e-01,  ...,  3.1955e-01,\n",
            "           -6.2019e-01,  7.3886e-01],\n",
            "          [-9.6731e-01, -8.0302e-01, -4.3351e-01,  ...,  8.5554e-01,\n",
            "            6.4682e-01, -1.2901e-01]],\n",
            "\n",
            "         [[-1.2384e+00, -1.4582e-01,  1.2022e+00,  ..., -2.1302e-01,\n",
            "            1.1582e-01, -1.3057e+00],\n",
            "          [ 9.0974e-01, -2.0729e+00, -7.4231e-01,  ...,  7.3689e-03,\n",
            "           -7.7256e-01,  1.6816e+00],\n",
            "          [-1.6343e+00,  1.8443e-01, -8.4327e-01,  ..., -2.6379e-01,\n",
            "           -1.2557e+00, -1.8883e+00],\n",
            "          ...,\n",
            "          [-1.1885e+00,  8.0285e-01,  4.2113e-01,  ...,  2.8678e-01,\n",
            "           -3.5589e-01, -6.8247e-01],\n",
            "          [ 6.2634e-01,  4.2952e-01,  5.6072e-01,  ...,  6.4083e-01,\n",
            "            9.0870e-01,  4.4239e-01],\n",
            "          [ 1.9302e-01,  6.3864e-01, -1.1829e+00,  ..., -5.3472e-01,\n",
            "           -1.6793e+00,  1.5015e+00]]]])\n",
            "tensor([[[[-2.0722e-01,  2.8055e-01, -2.3564e-01,  ...,  1.6657e-01,\n",
            "            1.7899e-01, -1.4743e-01],\n",
            "          [ 4.6453e-02, -3.3901e-01,  2.0126e-01,  ...,  9.8639e-02,\n",
            "           -2.5360e-01,  5.0519e-01],\n",
            "          [ 2.1149e-01, -5.0652e-01,  1.3790e+00,  ..., -4.4758e-01,\n",
            "           -2.2703e-01,  2.9860e-01],\n",
            "          ...,\n",
            "          [ 1.6035e-01,  1.1335e-01,  3.4420e-01,  ...,  5.8226e-01,\n",
            "           -2.1290e-01,  3.5591e-01],\n",
            "          [ 3.8734e-01, -2.5230e-01, -5.5657e-01,  ...,  6.7903e-01,\n",
            "            2.9292e-01,  3.9316e-01],\n",
            "          [ 6.2605e-01,  2.1523e-01, -3.0695e-01,  ...,  3.5130e-01,\n",
            "            2.0968e-01,  1.1521e-01]],\n",
            "\n",
            "         [[-6.6403e-02,  9.8654e-01, -1.9634e-01,  ...,  4.4460e-03,\n",
            "            4.5827e-01,  4.2200e-02],\n",
            "          [-9.7997e-02,  3.1350e-01,  7.3741e-02,  ..., -3.0266e-01,\n",
            "            7.3789e-01, -4.8679e-01],\n",
            "          [-1.3761e-01,  4.8274e-02,  4.2377e-02,  ..., -5.0611e-01,\n",
            "            7.2725e-01,  2.6083e-01],\n",
            "          ...,\n",
            "          [ 7.0381e-01, -3.2155e-01,  4.2972e-01,  ..., -2.4809e-01,\n",
            "            4.5805e-01, -1.3115e-01],\n",
            "          [ 1.5486e-03,  1.3588e-01, -6.5188e-01,  ...,  4.0545e-02,\n",
            "            2.5987e-02,  7.9442e-02],\n",
            "          [-1.7830e-01, -4.1176e-01, -5.0615e-01,  ..., -2.4261e-01,\n",
            "            3.2240e-01, -1.0409e-01]],\n",
            "\n",
            "         [[-4.2219e-01,  2.8643e-01,  2.9924e-01,  ...,  1.4744e-01,\n",
            "           -6.6252e-02,  1.5733e-01],\n",
            "          [-1.7706e-01,  6.3951e-01,  5.0789e-01,  ...,  1.1713e-01,\n",
            "            4.7409e-01, -2.4440e-01],\n",
            "          [-7.2786e-01, -4.7557e-01, -5.6038e-01,  ..., -8.5230e-01,\n",
            "           -8.0542e-02, -1.1468e+00],\n",
            "          ...,\n",
            "          [ 3.7664e-01,  8.5406e-01,  8.0893e-01,  ..., -2.9325e-01,\n",
            "           -1.2275e-01,  4.2498e-01],\n",
            "          [-1.4880e-01,  8.0305e-01, -1.0654e-02,  ..., -7.5895e-03,\n",
            "           -3.2267e-02, -3.8436e-01],\n",
            "          [ 5.0200e-01,  1.2701e+00, -2.1131e-01,  ...,  4.3344e-01,\n",
            "           -8.2787e-01,  7.8472e-01]],\n",
            "\n",
            "         ...,\n",
            "\n",
            "         [[ 4.1731e-01,  3.0946e-01,  1.7930e-01,  ..., -5.1810e-01,\n",
            "            3.6180e-01,  3.2197e-01],\n",
            "          [-5.3539e-01, -5.9048e-01, -2.4140e-01,  ...,  1.6938e-01,\n",
            "           -4.8977e-01, -4.2960e-01],\n",
            "          [ 2.7581e-01,  1.3693e-01, -3.7185e-01,  ...,  1.2296e-01,\n",
            "            2.9823e-01,  3.3613e-01],\n",
            "          ...,\n",
            "          [-4.3433e-01,  2.2330e-01,  4.3085e-01,  ...,  1.4262e-02,\n",
            "           -2.5697e-01,  2.2112e-01],\n",
            "          [ 4.9583e-02,  3.2523e-02, -3.3636e-01,  ..., -4.1332e-01,\n",
            "           -2.6815e-01, -4.7695e-01],\n",
            "          [ 1.6658e-01,  5.2414e-01, -3.2116e-01,  ..., -1.3455e-01,\n",
            "           -6.0821e-01,  5.0330e-01]],\n",
            "\n",
            "         [[-4.4769e-01, -5.0581e-01,  1.9870e-01,  ...,  1.4875e-01,\n",
            "            8.8857e-02, -4.6969e-02],\n",
            "          [ 2.7875e-01,  2.7557e-01, -9.2220e-01,  ...,  2.7816e-02,\n",
            "            6.8421e-01, -2.7947e-01],\n",
            "          [-3.0827e-01,  1.6281e-02,  2.2188e-02,  ...,  2.7229e-01,\n",
            "           -1.7313e-01, -6.9719e-01],\n",
            "          ...,\n",
            "          [ 3.5181e-02,  3.1803e-01,  3.5515e-01,  ..., -3.1831e-01,\n",
            "           -4.5828e-01,  7.8041e-02],\n",
            "          [-3.8874e-01,  2.0168e-01,  5.5993e-02,  ...,  6.2177e-01,\n",
            "           -1.9008e-01, -1.7017e-01],\n",
            "          [-6.2429e-02,  4.1916e-02, -1.0725e-01,  ...,  5.1488e-01,\n",
            "            2.6042e-01,  3.3284e-01]],\n",
            "\n",
            "         [[-1.9259e-01, -3.4286e-02, -2.9423e-01,  ...,  8.2556e-01,\n",
            "            6.9264e-01, -2.1622e-01],\n",
            "          [ 5.7235e-01, -3.6199e-01,  3.3221e-02,  ...,  2.9422e-02,\n",
            "            6.4489e-01,  2.1516e-01],\n",
            "          [ 3.8178e-01, -6.5665e-01,  3.2488e-01,  ..., -1.1813e+00,\n",
            "            5.9872e-01,  2.8392e-01],\n",
            "          ...,\n",
            "          [ 7.7409e-02, -1.1502e+00, -2.5514e-01,  ...,  4.1492e-01,\n",
            "           -3.1951e-01,  9.6886e-01],\n",
            "          [-3.1355e-01,  4.7303e-01,  1.2079e-02,  ...,  1.7563e-01,\n",
            "           -4.5791e-01, -1.1243e-01],\n",
            "          [-3.8057e-01, -2.8894e-02,  1.2238e+00,  ...,  4.2201e-01,\n",
            "           -3.4435e-01, -5.0213e-01]]],\n",
            "\n",
            "\n",
            "        [[[ 2.0997e-01,  2.5812e-01, -6.7253e-01,  ...,  6.1766e-01,\n",
            "           -3.4172e-01,  1.3756e-01],\n",
            "          [ 3.3092e-02,  4.8532e-01, -4.8406e-01,  ..., -5.9788e-01,\n",
            "           -7.2188e-01,  7.6873e-01],\n",
            "          [ 4.2492e-02,  2.1899e-02, -6.4059e-01,  ...,  1.2863e-01,\n",
            "           -7.0330e-02, -4.3365e-01],\n",
            "          ...,\n",
            "          [-4.5445e-01, -3.3304e-01,  5.7866e-01,  ...,  4.3656e-02,\n",
            "            2.2050e-01, -7.0242e-01],\n",
            "          [-3.1130e-01, -4.5915e-01, -1.4513e-01,  ..., -5.9614e-01,\n",
            "           -3.0672e-01, -1.9624e-02],\n",
            "          [-1.8967e-01, -4.1596e-01,  3.3292e-01,  ...,  9.8003e-01,\n",
            "            5.4296e-02,  1.2728e-01]],\n",
            "\n",
            "         [[ 4.3193e-01,  2.1034e-01,  5.6602e-01,  ..., -2.0271e-01,\n",
            "           -2.8288e-02,  1.3291e-01],\n",
            "          [-1.5576e-01,  2.9037e-01, -2.0131e-01,  ..., -5.2638e-01,\n",
            "            5.4047e-01, -1.2388e-01],\n",
            "          [-4.9402e-03,  7.6443e-02, -3.2172e-01,  ..., -5.4415e-01,\n",
            "           -1.2577e-01, -4.9400e-01],\n",
            "          ...,\n",
            "          [-7.1244e-01, -2.7888e-02, -2.1522e-01,  ...,  5.6007e-01,\n",
            "            3.4760e-02, -3.8503e-01],\n",
            "          [-1.2005e-01,  1.9830e-01, -2.4994e-02,  ..., -2.2456e-01,\n",
            "            3.9054e-01, -1.1231e-01],\n",
            "          [-5.3026e-01,  1.5932e-01,  4.3270e-01,  ..., -1.8979e-01,\n",
            "            2.9114e-02,  6.5807e-01]],\n",
            "\n",
            "         [[-9.3160e-01,  2.4279e-01,  6.3142e-02,  ..., -2.3625e-01,\n",
            "            2.5254e-01,  3.6372e-02],\n",
            "          [-4.8461e-01, -1.1467e+00,  9.6707e-01,  ..., -7.5473e-02,\n",
            "           -8.4557e-01, -3.8586e-02],\n",
            "          [ 2.7591e-01,  5.3986e-01, -2.0649e-01,  ...,  2.3345e-01,\n",
            "            1.2431e+00,  1.0975e+00],\n",
            "          ...,\n",
            "          [ 5.5949e-01,  9.2470e-01,  2.5743e-01,  ...,  6.9060e-01,\n",
            "            1.6520e-01, -5.7074e-01],\n",
            "          [-6.5427e-01,  6.5942e-02,  1.0947e-01,  ..., -7.6708e-01,\n",
            "           -4.0749e-01, -1.2237e-01],\n",
            "          [-3.6626e-02, -2.1997e-01, -6.0210e-02,  ..., -7.2169e-01,\n",
            "           -1.1901e+00, -1.9648e-02]],\n",
            "\n",
            "         ...,\n",
            "\n",
            "         [[ 9.5590e-02, -6.7169e-01, -1.5580e-01,  ...,  2.7785e-01,\n",
            "           -1.4248e-01, -3.5800e-01],\n",
            "          [ 2.5019e-01, -4.3034e-01,  7.1072e-02,  ..., -2.5980e-01,\n",
            "            2.7378e-03, -4.4233e-01],\n",
            "          [ 4.2085e-02, -5.1424e-01,  4.9509e-02,  ..., -1.8120e-01,\n",
            "           -7.1145e-01,  5.1831e-01],\n",
            "          ...,\n",
            "          [-3.7474e-01, -1.0014e+00,  4.4242e-01,  ...,  9.8561e-01,\n",
            "            4.7533e-01, -7.3451e-01],\n",
            "          [-3.0270e-02,  1.0718e+00, -8.8261e-02,  ...,  5.2506e-01,\n",
            "            4.7787e-01, -5.0658e-03],\n",
            "          [ 1.5578e-01,  1.5162e-01, -2.3607e-01,  ...,  4.4434e-01,\n",
            "           -8.7645e-01,  7.3372e-03]],\n",
            "\n",
            "         [[-5.4889e-02, -8.8698e-02, -6.3954e-02,  ..., -5.6495e-01,\n",
            "            4.6170e-03, -5.1492e-02],\n",
            "          [-1.7550e-01, -7.7435e-02, -3.9628e-01,  ..., -9.1247e-01,\n",
            "            3.9153e-01, -1.2015e-01],\n",
            "          [-3.9248e-01, -6.4947e-01, -3.2458e-01,  ..., -3.5410e-01,\n",
            "           -2.0151e-02, -4.5992e-01],\n",
            "          ...,\n",
            "          [-2.5548e-01, -1.1506e+00, -4.4922e-01,  ..., -1.2062e-01,\n",
            "            1.1899e-01,  6.4839e-01],\n",
            "          [ 4.1407e-02, -1.6555e-01,  3.8891e-01,  ..., -3.6027e-01,\n",
            "           -3.8209e-01,  1.3902e-01],\n",
            "          [ 1.4031e-01,  1.7721e-01, -2.5905e-01,  ..., -1.1859e+00,\n",
            "            3.1855e-01,  1.6340e-01]],\n",
            "\n",
            "         [[-9.6922e-02,  8.1371e-01, -3.2076e-01,  ...,  5.5020e-02,\n",
            "           -1.0209e-01, -2.3353e-01],\n",
            "          [-7.0056e-01,  9.5822e-02, -3.8915e-01,  ..., -6.1613e-01,\n",
            "            3.2467e-01,  2.8980e-01],\n",
            "          [ 3.8834e-01,  1.7040e-01, -4.7865e-01,  ...,  1.4611e-01,\n",
            "            5.0584e-01,  5.5520e-01],\n",
            "          ...,\n",
            "          [ 1.9017e-01, -1.6117e-01,  1.0862e-01,  ...,  8.4891e-02,\n",
            "            5.5908e-01,  1.4877e-01],\n",
            "          [ 1.1359e-02, -2.1644e-01,  1.2103e-01,  ...,  2.3195e-01,\n",
            "           -3.0834e-01,  5.0756e-02],\n",
            "          [ 1.9077e-01, -2.2487e-01,  6.7456e-01,  ...,  7.2766e-01,\n",
            "           -1.1832e-01,  5.7514e-01]]],\n",
            "\n",
            "\n",
            "        [[[-7.8530e-02,  4.6002e-04, -2.8879e-01,  ..., -1.1766e-01,\n",
            "            6.6974e-01,  6.9276e-02],\n",
            "          [-1.6750e-01, -3.2580e-01,  1.1090e-01,  ...,  1.0829e-01,\n",
            "           -7.8743e-03, -4.3720e-01],\n",
            "          [ 3.7035e-01,  2.8770e-01, -1.1167e+00,  ...,  7.3046e-02,\n",
            "           -3.2732e-01,  9.7734e-02],\n",
            "          ...,\n",
            "          [ 3.6516e-01, -4.6119e-01, -5.7383e-01,  ...,  2.1936e-01,\n",
            "           -5.4514e-01, -3.5774e-02],\n",
            "          [ 1.9269e-01,  2.9843e-01,  6.9966e-01,  ..., -2.8469e-01,\n",
            "           -1.3794e-01, -2.0118e-01],\n",
            "          [-3.1743e-01,  1.6958e-01,  1.8720e-01,  ..., -5.6584e-01,\n",
            "            3.3729e-01,  4.4982e-01]],\n",
            "\n",
            "         [[-3.2901e-01, -4.1519e-02, -2.4988e-01,  ...,  6.8521e-01,\n",
            "            6.1022e-01, -2.7923e-01],\n",
            "          [-4.9776e-01, -5.5369e-01, -2.9720e-03,  ...,  1.1339e+00,\n",
            "           -3.4288e-01,  5.7312e-01],\n",
            "          [ 3.1362e-01, -2.5083e-01, -6.3599e-01,  ..., -7.9313e-01,\n",
            "           -1.3529e-01, -2.1252e-01],\n",
            "          ...,\n",
            "          [-4.4526e-01, -2.3965e-01, -8.1023e-01,  ..., -2.5290e-01,\n",
            "            1.0506e+00, -7.2729e-01],\n",
            "          [ 2.9377e-01, -1.6266e-01,  5.2986e-01,  ..., -3.9066e-01,\n",
            "            1.0211e+00,  4.1159e-01],\n",
            "          [ 3.8632e-02,  2.7973e-01,  2.1121e-01,  ..., -3.9815e-01,\n",
            "           -2.9328e-01, -4.3792e-02]],\n",
            "\n",
            "         [[-2.6900e-01, -1.7337e-01, -1.5732e-01,  ...,  8.9632e-01,\n",
            "           -1.1617e-01,  4.2594e-01],\n",
            "          [ 3.1048e-01,  2.5841e-01,  1.0401e+00,  ..., -9.9051e-01,\n",
            "           -3.1286e-01,  2.1360e-01],\n",
            "          [ 1.2605e-01,  5.0771e-01, -1.9077e-01,  ...,  1.3298e-01,\n",
            "            1.1986e-01, -1.4754e-01],\n",
            "          ...,\n",
            "          [-6.5499e-01, -6.0773e-01,  2.4396e-01,  ..., -2.0498e-01,\n",
            "           -2.1415e-01,  9.4531e-01],\n",
            "          [-2.0200e-01, -9.5009e-02,  1.2126e+00,  ..., -1.2135e-01,\n",
            "           -5.9265e-01,  5.3065e-01],\n",
            "          [ 2.6941e-01,  6.8596e-01,  5.4087e-01,  ..., -3.5300e-01,\n",
            "           -3.4026e-01, -5.2179e-01]],\n",
            "\n",
            "         ...,\n",
            "\n",
            "         [[ 5.0358e-01,  2.6479e-01, -6.7932e-02,  ..., -8.3895e-01,\n",
            "           -1.9772e-01, -2.9719e-01],\n",
            "          [ 1.3342e-01,  6.6948e-01, -3.8051e-01,  ..., -3.4828e-01,\n",
            "           -3.9960e-01,  2.2325e-01],\n",
            "          [ 1.2665e-01,  3.6448e-01, -2.9070e-01,  ...,  2.7511e-01,\n",
            "           -2.4858e-01, -8.5720e-02],\n",
            "          ...,\n",
            "          [ 4.7924e-01,  4.9142e-01,  9.0401e-01,  ..., -1.4064e+00,\n",
            "           -1.3426e+00, -2.2158e-01],\n",
            "          [-5.0938e-01, -5.5257e-01,  1.0529e+00,  ..., -4.1289e-01,\n",
            "            8.8384e-02, -4.5536e-01],\n",
            "          [ 1.0454e-01, -5.9485e-01,  2.4539e-02,  ..., -8.4864e-01,\n",
            "           -5.5581e-02, -7.7607e-02]],\n",
            "\n",
            "         [[ 1.2817e-01,  4.1349e-01, -2.0588e-01,  ...,  2.5321e-01,\n",
            "           -6.4867e-02,  4.5497e-02],\n",
            "          [ 6.2779e-01, -1.7833e-01,  5.9968e-01,  ...,  9.7935e-03,\n",
            "            9.8704e-01, -2.7585e-01],\n",
            "          [ 3.4249e-01,  1.6385e-01, -4.7486e-01,  ...,  3.8255e-01,\n",
            "            1.7002e-01, -3.5917e-01],\n",
            "          ...,\n",
            "          [-4.3993e-01,  3.9300e-01,  1.7162e-01,  ..., -8.6709e-01,\n",
            "            3.4265e-01, -2.7996e-01],\n",
            "          [ 2.0882e-01,  1.6171e-01, -4.5163e-01,  ...,  5.0638e-01,\n",
            "           -5.9543e-01,  2.2455e-02],\n",
            "          [-3.0046e-01, -4.2373e-01, -7.9485e-02,  ...,  3.6431e-01,\n",
            "           -6.8888e-01, -1.1827e-01]],\n",
            "\n",
            "         [[ 1.8296e-02,  4.2545e-01,  5.7438e-01,  ...,  6.8505e-01,\n",
            "            5.0707e-01, -1.6504e-01],\n",
            "          [-6.7632e-01, -5.6843e-01,  4.6482e-01,  ...,  2.9529e-01,\n",
            "           -1.1906e+00,  5.0058e-01],\n",
            "          [ 3.7408e-01, -6.6503e-01,  3.0805e-01,  ...,  5.6665e-01,\n",
            "            7.5901e-01, -1.5478e-01],\n",
            "          ...,\n",
            "          [ 1.4598e-01, -6.4438e-02,  4.3673e-01,  ..., -5.4905e-01,\n",
            "           -2.6585e-01,  6.9138e-01],\n",
            "          [ 4.8265e-01,  3.7612e-01,  3.0555e-02,  ..., -5.8646e-02,\n",
            "            2.4761e-01,  1.9275e-01],\n",
            "          [ 1.8797e-02, -5.6554e-01, -2.8201e-01,  ...,  6.5549e-01,\n",
            "            7.1813e-01,  4.9375e-01]]],\n",
            "\n",
            "\n",
            "        ...,\n",
            "\n",
            "\n",
            "        [[[-1.0427e-01, -7.7671e-01,  1.3404e-01,  ..., -1.0563e-01,\n",
            "           -2.6195e-02, -3.3073e-02],\n",
            "          [ 2.1665e-01, -1.6246e-01,  2.2907e-01,  ..., -1.3590e-01,\n",
            "            3.5119e-02,  3.5954e-01],\n",
            "          [ 4.6564e-01, -2.4338e-01,  2.3356e-01,  ...,  6.2405e-01,\n",
            "           -5.0589e-01, -1.9516e-01],\n",
            "          ...,\n",
            "          [ 1.0892e+00, -1.8642e-01, -4.4957e-01,  ...,  1.7539e-01,\n",
            "            1.2214e-01,  4.6852e-01],\n",
            "          [ 6.1915e-01,  3.2699e-01,  1.0904e-01,  ..., -7.2673e-01,\n",
            "            2.5599e-01, -8.8130e-02],\n",
            "          [ 5.7685e-01,  6.3408e-02, -5.1916e-01,  ..., -1.1640e-01,\n",
            "           -2.5274e-01,  5.6925e-01]],\n",
            "\n",
            "         [[ 1.4531e-01, -4.9170e-03, -2.1071e-01,  ..., -3.1449e-01,\n",
            "            1.1074e-01, -7.4854e-02],\n",
            "          [-6.5853e-02,  1.0545e-02,  1.3037e-01,  ..., -2.8743e-01,\n",
            "            1.5565e-01, -1.1268e-02],\n",
            "          [ 6.3681e-01,  6.2440e-01,  2.6725e-01,  ..., -2.2096e-01,\n",
            "           -9.4343e-01,  7.7543e-01],\n",
            "          ...,\n",
            "          [ 2.3983e-01, -5.1364e-01, -6.8246e-01,  ...,  4.4426e-01,\n",
            "            9.7198e-02,  3.7491e-01],\n",
            "          [-1.1931e-01, -2.0934e-01, -6.4276e-02,  ..., -3.4252e-01,\n",
            "           -1.4903e-01, -5.5319e-01],\n",
            "          [ 1.8353e-02,  7.1450e-01, -2.5277e-01,  ..., -4.9320e-01,\n",
            "            3.9253e-01, -2.2060e-01]],\n",
            "\n",
            "         [[-6.9229e-02,  1.1397e-01, -5.7745e-01,  ..., -2.0119e-01,\n",
            "           -1.1161e-01,  2.8955e-01],\n",
            "          [-2.8256e-01, -1.1296e+00,  3.5438e-01,  ..., -3.8406e-01,\n",
            "           -9.7526e-02, -3.3039e-01],\n",
            "          [ 7.3691e-01,  4.1718e-01,  6.1062e-01,  ..., -1.9716e-01,\n",
            "            7.1747e-01,  4.9552e-01],\n",
            "          ...,\n",
            "          [ 2.8512e-01,  2.6829e-02, -1.3651e+00,  ..., -6.9987e-01,\n",
            "           -1.5604e-01, -3.0561e-01],\n",
            "          [-3.2264e-01, -5.7208e-01, -3.2515e-01,  ...,  1.3968e-01,\n",
            "           -4.6402e-01, -4.5269e-02],\n",
            "          [-2.7893e-01,  1.3822e-01, -8.4485e-01,  ..., -7.7667e-01,\n",
            "           -4.4538e-01, -6.4441e-01]],\n",
            "\n",
            "         ...,\n",
            "\n",
            "         [[-1.1428e-01, -8.0758e-02, -3.7384e-01,  ..., -7.7536e-02,\n",
            "            1.7257e-01,  4.7885e-02],\n",
            "          [ 3.8329e-01,  9.3708e-03, -9.8549e-02,  ...,  5.3848e-01,\n",
            "            1.3636e-01, -3.6496e-01],\n",
            "          [ 4.2981e-01, -4.3634e-01,  1.3489e-01,  ...,  5.2129e-01,\n",
            "            1.2747e-01,  4.6376e-01],\n",
            "          ...,\n",
            "          [ 3.1170e-01, -5.6241e-01, -8.3950e-01,  ..., -4.4656e-01,\n",
            "           -1.3878e-01, -3.4643e-01],\n",
            "          [ 2.4447e-01,  3.1810e-01,  6.0476e-01,  ...,  1.7652e-02,\n",
            "           -1.7194e-01,  4.7412e-01],\n",
            "          [ 4.7531e-01, -3.1602e-01, -1.2351e+00,  ...,  2.3473e-01,\n",
            "            1.8661e-02, -7.2373e-01]],\n",
            "\n",
            "         [[ 1.8717e-01,  3.3404e-01,  3.1620e-01,  ..., -3.4341e-02,\n",
            "           -5.8539e-02, -2.9402e-01],\n",
            "          [-4.2975e-01,  9.0964e-01,  2.5134e-01,  ...,  2.8311e-01,\n",
            "            2.0967e-01,  3.5576e-01],\n",
            "          [-5.6077e-01,  6.3642e-01,  7.0815e-02,  ...,  3.0207e-01,\n",
            "            6.6099e-02,  3.6987e-02],\n",
            "          ...,\n",
            "          [-1.7146e-01,  9.4096e-01, -3.0110e-01,  ..., -3.2506e-01,\n",
            "            3.4503e-01,  2.8736e-02],\n",
            "          [ 6.8802e-01, -6.5499e-01, -6.9008e-01,  ...,  6.3083e-01,\n",
            "           -4.4843e-02,  3.8856e-02],\n",
            "          [-6.6961e-01,  3.0225e-01, -3.9908e-01,  ..., -1.6982e-01,\n",
            "           -3.2817e-01, -7.1981e-01]],\n",
            "\n",
            "         [[ 2.8644e-02, -8.4243e-02,  2.9063e-01,  ..., -7.1027e-01,\n",
            "            5.9238e-02,  6.8247e-02],\n",
            "          [-5.6827e-02,  1.2842e+00,  7.4181e-01,  ...,  1.2503e-01,\n",
            "            8.9348e-02,  3.8480e-01],\n",
            "          [ 3.4162e-01, -2.1442e-01, -7.5017e-01,  ...,  9.8322e-01,\n",
            "           -4.1396e-01,  1.0260e-02],\n",
            "          ...,\n",
            "          [-4.0075e-02,  1.0150e-01, -3.7148e-01,  ...,  9.9661e-01,\n",
            "           -3.5177e-01, -2.2545e-01],\n",
            "          [ 4.7499e-01, -6.4286e-02, -5.2385e-01,  ..., -4.4988e-01,\n",
            "           -6.6662e-02,  1.2862e-01],\n",
            "          [ 3.1853e-01, -1.5225e-01,  3.3029e-01,  ..., -4.8603e-01,\n",
            "            5.4564e-02,  3.4343e-01]]],\n",
            "\n",
            "\n",
            "        [[[-1.3625e-01,  5.9820e-01, -5.1944e-01,  ..., -2.8290e-03,\n",
            "           -1.0297e-01, -1.8863e-01],\n",
            "          [-8.7000e-02, -1.8185e-01, -2.6469e-02,  ..., -1.1854e-01,\n",
            "           -3.3002e-01, -2.4842e-01],\n",
            "          [ 7.3675e-02, -3.7165e-01, -4.6285e-02,  ...,  4.3216e-02,\n",
            "            5.8217e-01, -5.1120e-01],\n",
            "          ...,\n",
            "          [-1.0389e-01, -5.8555e-01,  7.0374e-01,  ...,  1.2076e+00,\n",
            "           -7.4004e-01, -2.1429e-02],\n",
            "          [ 4.1077e-01,  5.1787e-01, -2.4193e-01,  ...,  3.7151e-01,\n",
            "            6.8056e-01,  4.5894e-01],\n",
            "          [ 4.8209e-01,  7.4674e-02, -4.4075e-01,  ..., -2.5535e-01,\n",
            "           -3.1482e-01,  5.4077e-01]],\n",
            "\n",
            "         [[-1.7384e-01, -2.7916e-01,  4.8729e-01,  ...,  6.0049e-01,\n",
            "           -3.2099e-01, -1.3814e-01],\n",
            "          [ 2.4854e-01,  4.5239e-01,  2.8058e-01,  ...,  6.8203e-01,\n",
            "           -8.8857e-02, -6.1969e-01],\n",
            "          [-1.6768e-01, -1.5577e-02, -1.2716e+00,  ..., -4.7902e-01,\n",
            "           -1.0806e+00,  4.4441e-01],\n",
            "          ...,\n",
            "          [-1.8021e-01, -4.9017e-01, -4.8821e-01,  ..., -2.6662e-01,\n",
            "            1.5207e-01, -1.8914e-01],\n",
            "          [ 4.8932e-01, -2.4409e-01,  3.7651e-02,  ..., -4.6914e-01,\n",
            "            2.7752e-01, -8.7644e-02],\n",
            "          [-4.6075e-02, -3.4893e-01,  6.1012e-01,  ..., -5.8939e-01,\n",
            "            3.9269e-01,  3.9755e-01]],\n",
            "\n",
            "         [[ 8.2054e-02, -8.1154e-02,  2.1596e-01,  ...,  4.0528e-01,\n",
            "            1.7891e-01,  4.1702e-01],\n",
            "          [ 1.5420e-01,  1.5503e-02, -1.4393e-01,  ..., -2.9342e-03,\n",
            "            2.1799e-01,  4.4684e-01],\n",
            "          [ 4.9730e-02, -4.4410e-01,  2.0756e-01,  ...,  6.1206e-01,\n",
            "            1.6540e-01,  3.9370e-01],\n",
            "          ...,\n",
            "          [ 3.0666e-01, -3.9894e-01, -2.8799e-01,  ..., -6.1875e-01,\n",
            "           -9.9121e-02, -3.3054e-01],\n",
            "          [-4.2489e-02, -1.4832e-01, -1.3720e-01,  ..., -4.9659e-01,\n",
            "           -1.0971e+00, -8.0197e-01],\n",
            "          [-1.9180e-01,  1.7395e-02,  1.1761e-02,  ..., -5.6837e-01,\n",
            "            2.6469e-01,  4.5653e-01]],\n",
            "\n",
            "         ...,\n",
            "\n",
            "         [[-6.6650e-02, -2.7873e-01, -1.6096e-01,  ..., -4.5875e-01,\n",
            "           -1.0961e-01, -1.2679e-01],\n",
            "          [-7.3292e-01, -1.4204e-01, -2.9374e-01,  ...,  7.9028e-01,\n",
            "            6.5195e-01,  9.2404e-01],\n",
            "          [-5.4368e-01, -9.6825e-01, -3.1985e-01,  ...,  6.2064e-01,\n",
            "            1.8880e-01, -2.3897e-01],\n",
            "          ...,\n",
            "          [ 4.0706e-01,  3.0461e-01,  1.5371e-01,  ...,  2.9373e-01,\n",
            "           -1.1161e-01,  2.2339e-01],\n",
            "          [ 3.8245e-01, -3.4407e-01, -1.0268e-01,  ..., -9.3209e-03,\n",
            "            3.0860e-01, -3.5530e-01],\n",
            "          [ 2.0918e-01,  6.2457e-01, -4.8250e-01,  ..., -2.5272e-01,\n",
            "           -5.0767e-02, -1.4740e-01]],\n",
            "\n",
            "         [[ 1.8739e-01, -9.4147e-02,  4.6780e-02,  ...,  1.0079e-02,\n",
            "            3.5242e-01,  1.9191e-01],\n",
            "          [-6.3260e-01,  1.2489e+00,  6.7313e-01,  ..., -1.7390e-01,\n",
            "            7.2359e-01,  2.2940e-01],\n",
            "          [-3.8765e-01,  1.0833e+00,  2.4739e-01,  ...,  9.1806e-01,\n",
            "           -5.7743e-01, -2.1344e-02],\n",
            "          ...,\n",
            "          [ 8.3480e-02, -2.2671e-01,  3.2707e-01,  ..., -6.6913e-01,\n",
            "           -1.1301e-01, -7.0220e-02],\n",
            "          [ 8.0651e-02,  4.3281e-01, -6.8560e-01,  ...,  8.4854e-01,\n",
            "            3.3824e-02, -1.4411e-01],\n",
            "          [-4.9007e-01,  8.9822e-02,  4.8526e-01,  ...,  3.9994e-01,\n",
            "           -2.7166e-01,  1.8947e-01]],\n",
            "\n",
            "         [[ 1.8849e-01,  1.1822e-01,  2.1254e-01,  ...,  6.1789e-02,\n",
            "           -2.6648e-01,  1.6348e-01],\n",
            "          [-1.4263e-01,  5.1445e-01,  5.1987e-01,  ..., -1.1300e+00,\n",
            "           -8.8724e-02, -2.9555e-01],\n",
            "          [ 1.4678e-01, -7.9590e-02,  3.9346e-01,  ..., -5.5929e-02,\n",
            "            4.6350e-01,  5.9146e-01],\n",
            "          ...,\n",
            "          [ 4.2851e-01, -1.4030e-01, -3.5908e-01,  ..., -9.1947e-01,\n",
            "            6.1291e-01,  2.3984e-01],\n",
            "          [ 6.0937e-01,  2.3108e-01,  2.4107e-01,  ..., -8.1887e-01,\n",
            "           -1.6839e-01,  2.3098e-01],\n",
            "          [-9.4738e-02, -4.1098e-01,  2.9084e-01,  ..., -5.8786e-01,\n",
            "            3.8651e-01,  1.9101e-01]]],\n",
            "\n",
            "\n",
            "        [[[-1.1495e-01, -8.4703e-02, -1.7577e-01,  ..., -2.7847e-01,\n",
            "            1.1772e-01,  2.7852e-01],\n",
            "          [-2.3926e-01,  1.0115e+00,  6.3935e-01,  ..., -9.7977e-01,\n",
            "            8.9530e-01, -2.2562e-01],\n",
            "          [-5.2782e-01,  4.3682e-01,  1.4258e-01,  ...,  9.8175e-02,\n",
            "           -5.9185e-01, -3.8392e-01],\n",
            "          ...,\n",
            "          [-6.0577e-02, -2.5139e-01, -2.9151e-02,  ...,  3.9296e-01,\n",
            "           -5.1779e-01, -8.1192e-02],\n",
            "          [ 5.4556e-02,  1.6945e-02, -2.0155e-01,  ...,  2.3998e-02,\n",
            "            2.1558e-01,  4.4649e-01],\n",
            "          [ 6.2699e-02,  5.4118e-01, -2.6814e-01,  ...,  2.8116e-01,\n",
            "            7.9616e-01,  3.0324e-01]],\n",
            "\n",
            "         [[-1.0551e-01, -4.1464e-01,  8.5397e-02,  ...,  2.1198e-01,\n",
            "           -8.3267e-02, -4.9033e-01],\n",
            "          [-1.0886e-01,  1.3866e-01, -1.1986e-01,  ...,  7.4228e-02,\n",
            "           -3.0165e-01,  8.2020e-02],\n",
            "          [ 2.0672e-01, -1.1876e-01, -7.1999e-01,  ..., -7.2822e-01,\n",
            "           -9.2905e-01, -1.3080e-01],\n",
            "          ...,\n",
            "          [ 3.9468e-01, -3.7507e-01, -8.5509e-01,  ..., -1.3043e-01,\n",
            "            2.0624e-01, -5.5570e-02],\n",
            "          [-2.9572e-01, -7.3564e-02, -1.2723e-01,  ..., -2.0617e-01,\n",
            "            7.1425e-02,  3.3617e-01],\n",
            "          [-8.8052e-02,  4.3798e-02, -1.3585e-01,  ...,  4.2676e-01,\n",
            "           -3.1156e-01,  9.3128e-01]],\n",
            "\n",
            "         [[ 1.2384e-01,  5.0023e-02,  6.6729e-02,  ...,  2.1997e-01,\n",
            "            2.9152e-01, -6.6867e-01],\n",
            "          [ 2.8009e-01,  1.6706e-01, -5.1470e-01,  ..., -6.5691e-01,\n",
            "            7.6830e-02,  4.6794e-01],\n",
            "          [ 1.6126e-01, -9.7479e-02, -7.2220e-02,  ...,  2.2795e-01,\n",
            "            4.3666e-02, -1.9067e-01],\n",
            "          ...,\n",
            "          [ 6.2083e-04, -3.8788e-01, -5.7697e-02,  ..., -8.1025e-01,\n",
            "            5.7301e-02,  4.7090e-01],\n",
            "          [ 1.3569e-01, -1.1180e-01,  8.6976e-03,  ..., -1.0818e-01,\n",
            "            2.1981e-01,  3.8609e-01],\n",
            "          [ 1.7187e-02,  4.1205e-01,  2.7646e-01,  ...,  1.1094e-01,\n",
            "            2.2190e-01, -8.5800e-01]],\n",
            "\n",
            "         ...,\n",
            "\n",
            "         [[-4.2664e-01,  2.0157e-01, -8.1158e-01,  ...,  3.6072e-01,\n",
            "           -4.4340e-01, -5.1560e-01],\n",
            "          [-1.0340e-01,  4.5200e-01, -6.0329e-02,  ..., -1.4151e-01,\n",
            "            9.0846e-01, -1.6508e-01],\n",
            "          [ 6.0155e-01, -1.5451e-01,  1.6358e-01,  ...,  7.1110e-01,\n",
            "            8.7925e-01,  6.0665e-01],\n",
            "          ...,\n",
            "          [ 6.1539e-01, -3.4271e-01,  5.9194e-01,  ...,  4.1597e-01,\n",
            "            5.2540e-01, -3.2632e-01],\n",
            "          [ 1.9697e-01, -2.2263e-02, -4.2568e-01,  ..., -4.8600e-01,\n",
            "            1.7938e-01, -4.8392e-01],\n",
            "          [-7.1991e-01, -6.5642e-01, -6.8393e-01,  ...,  2.6198e-01,\n",
            "            7.0238e-01, -1.1134e+00]],\n",
            "\n",
            "         [[ 5.8528e-01, -4.0446e-01, -3.0143e-01,  ..., -1.2388e-01,\n",
            "            6.6103e-02,  2.7881e-01],\n",
            "          [ 1.2675e-01,  5.7929e-01,  1.8770e-01,  ...,  6.5751e-01,\n",
            "           -2.9649e-01,  1.8437e-01],\n",
            "          [-1.8620e-02,  1.3698e-01, -1.3629e-01,  ...,  7.8152e-01,\n",
            "            1.4702e-01, -3.3712e-01],\n",
            "          ...,\n",
            "          [ 4.9677e-01, -4.9137e-02, -1.1219e-01,  ...,  7.0800e-02,\n",
            "            5.9433e-01, -2.1407e-01],\n",
            "          [ 1.2562e-01,  4.3154e-01,  2.5378e-01,  ..., -6.5791e-01,\n",
            "            5.3531e-02,  7.4141e-02],\n",
            "          [-2.0018e-01,  1.2392e-02, -5.7044e-02,  ...,  1.2152e-01,\n",
            "           -8.7693e-02,  2.5679e-01]],\n",
            "\n",
            "         [[-1.0023e-01, -3.8393e-01,  8.4861e-01,  ...,  3.1511e-02,\n",
            "            1.9106e-01,  2.3408e-02],\n",
            "          [-5.1148e-01, -1.6134e-01, -2.3140e-02,  ..., -4.3353e-01,\n",
            "           -3.5358e-01, -5.7774e-01],\n",
            "          [-1.0386e+00,  9.3866e-01,  6.5571e-02,  ..., -4.5726e-02,\n",
            "           -3.6231e-01, -5.7241e-01],\n",
            "          ...,\n",
            "          [-9.9639e-01,  6.3797e-01, -3.6194e-02,  ...,  1.0808e-03,\n",
            "            1.3720e-01,  4.3504e-01],\n",
            "          [-2.6396e-01, -3.4738e-01,  4.1708e-01,  ...,  8.3011e-01,\n",
            "           -4.4138e-01, -6.7938e-02],\n",
            "          [ 8.9146e-02,  4.2385e-01,  5.9906e-01,  ...,  5.2487e-01,\n",
            "           -4.6536e-01,  5.3836e-01]]]], grad_fn=<MkldnnConvolutionBackward0>)\n"
          ]
        }
      ]
    },
    {
      "cell_type": "code",
      "metadata": {
        "colab": {
          "base_uri": "https://localhost:8080/"
        },
        "id": "-COep4hhy5bD",
        "outputId": "1e997306-4482-4e78-f4a7-fd29eebdf737"
      },
      "source": [
        "output.shape"
      ],
      "execution_count": 41,
      "outputs": [
        {
          "output_type": "execute_result",
          "data": {
            "text/plain": [
              "torch.Size([20, 33, 26, 100])"
            ]
          },
          "metadata": {},
          "execution_count": 41
        }
      ]
    },
    {
      "cell_type": "markdown",
      "metadata": {
        "id": "Rrk5SHtJBdgM"
      },
      "source": [
        "# nn.functional 패키지\n",
        "### 가중치를 직접 선언하여 인자로 넣어줘야 함."
      ]
    },
    {
      "cell_type": "code",
      "metadata": {
        "id": "JE--bicKy7Yf"
      },
      "source": [
        "import torch\n",
        "import torch.nn.functional as F"
      ],
      "execution_count": 1,
      "outputs": []
    },
    {
      "cell_type": "code",
      "metadata": {
        "colab": {
          "base_uri": "https://localhost:8080/"
        },
        "id": "1qIzJzUXBtz6",
        "outputId": "d618259e-57c7-495c-e4db-90882aa1ea78"
      },
      "source": [
        "#Convolution Layer 예시\n",
        "filters = torch.randn(8,4,3,3)\n",
        "inputs = torch.randn(1,4,5,5)\n",
        "conv = F.conv2d(inputs, filters, padding=1)\n",
        "conv.shape"
      ],
      "execution_count": 3,
      "outputs": [
        {
          "output_type": "execute_result",
          "data": {
            "text/plain": [
              "torch.Size([1, 8, 5, 5])"
            ]
          },
          "metadata": {},
          "execution_count": 3
        }
      ]
    },
    {
      "cell_type": "markdown",
      "metadata": {
        "id": "6u-jZvTwCHnE"
      },
      "source": [
        "# Torchvision\n",
        "### transforms: 전처리할 때 사용하는 메소드\n",
        "### transforms에서 제공하는 클래스 이외에 일반적으로 클래스를 따로 만들어 전처리 단계를 진행"
      ]
    },
    {
      "cell_type": "code",
      "metadata": {
        "id": "amEL8KPwB9ds"
      },
      "source": [
        "import torch\n",
        "import torchvision\n",
        "import torchvision.transforms as transforms"
      ],
      "execution_count": 4,
      "outputs": []
    },
    {
      "cell_type": "markdown",
      "metadata": {
        "id": "5QcXRNEeCwHE"
      },
      "source": [
        "#### 예시)\n",
        "### DataLoader의 인자로 들어갈 transform을 미리 정의할 수 있음\n",
        "### Compose를 통해 리스트 안에 순서대로 전처리 진행\n",
        "### 대표적인 예로, ToTensor()를 하는 이유는\n",
        "### torchvision이 PIL Image형태로만 입력을 받기 때문에 데이터 처리를 위해서 Tensor형으로 변환해야함."
      ]
    },
    {
      "cell_type": "code",
      "metadata": {
        "id": "mDLDD8JsCtUA"
      },
      "source": [
        "transform = transforms.Compose([transforms.ToTensor(),\n",
        "                                transforms.Normalize(mean=(0.5,), std=(0.5,))])"
      ],
      "execution_count": 5,
      "outputs": []
    },
    {
      "cell_type": "markdown",
      "metadata": {
        "id": "I7zY1vBCDdfJ"
      },
      "source": [
        "# utils.data\n",
        "### Dataset에는 다양한 데이터셋이 존재(MNIST, CiFAR10, ...)\n",
        "### DataLoader, Dataser을 통해\n",
        "### batch_size, train 여부, tranform등을 인자로 넣어 데이터를 어떻게 load할 것인지 정해줄 수 있음"
      ]
    },
    {
      "cell_type": "code",
      "metadata": {
        "id": "UVUf_e5rDcfs"
      },
      "source": [
        "import torch\n",
        "from torch.utils.data import Dataset, DataLoader\n",
        "\n",
        "import torchvision\n",
        "import torchvision.transforms as transforms"
      ],
      "execution_count": 7,
      "outputs": []
    },
    {
      "cell_type": "code",
      "metadata": {
        "id": "WzNYFQiSD88L"
      },
      "source": [
        "trainset = torchvision.datasets.MNIST(root='/content/',\n",
        "                                      train=True, # trainset으로 받아옴\n",
        "                                      download=True,\n",
        "                                      transform=transform)\n",
        "\n",
        "testset = torchvision.datasets.MNIST(root='/content/',\n",
        "                                      train=False, #testset으로 받아옴\n",
        "                                      download=True,\n",
        "                                      transform=transform)"
      ],
      "execution_count": 9,
      "outputs": []
    },
    {
      "cell_type": "code",
      "metadata": {
        "id": "nBZp41asEQoI"
      },
      "source": [
        "train_loader = DataLoader(trainset, batch_size=8, shuffle=True, num_workers=2)\n",
        "test_loader = DataLoader(testset, batch_size=8, shuffle=False, num_workers=2)"
      ],
      "execution_count": 10,
      "outputs": []
    },
    {
      "cell_type": "markdown",
      "metadata": {
        "id": "i3-cQFr0E1TV"
      },
      "source": [
        "#### batch_size만큼 데이터를 하나씩 가져옴"
      ]
    },
    {
      "cell_type": "code",
      "metadata": {
        "colab": {
          "base_uri": "https://localhost:8080/"
        },
        "id": "T876loK-EzSu",
        "outputId": "7e81f061-aefc-46da-d164-c2f44f8d798c"
      },
      "source": [
        "dataiter = iter(train_loader)\n",
        "images, labels = dataiter.next() #데이터 배치사이즈만큼 하나 가져옴.\n",
        "images.shape, labels.shape "
      ],
      "execution_count": 11,
      "outputs": [
        {
          "output_type": "execute_result",
          "data": {
            "text/plain": [
              "(torch.Size([8, 1, 28, 28]), torch.Size([8]))"
            ]
          },
          "metadata": {},
          "execution_count": 11
        }
      ]
    },
    {
      "cell_type": "markdown",
      "metadata": {
        "id": "-yYBsQ9-Fc8M"
      },
      "source": [
        "# 데이터 확인"
      ]
    },
    {
      "cell_type": "code",
      "metadata": {
        "id": "WY-8s9rGFFLN"
      },
      "source": [
        "import matplotlib.pyplot as plt\n",
        "plt.style.use('seaborn-white')"
      ],
      "execution_count": 12,
      "outputs": []
    },
    {
      "cell_type": "code",
      "metadata": {
        "colab": {
          "base_uri": "https://localhost:8080/"
        },
        "id": "O91ps6m_FmSy",
        "outputId": "1dcad906-149d-4337-cf8a-e466abcaca26"
      },
      "source": [
        "#차원축소\n",
        "torch_image = torch.squeeze(images[0])\n",
        "torch_image.shape"
      ],
      "execution_count": 13,
      "outputs": [
        {
          "output_type": "execute_result",
          "data": {
            "text/plain": [
              "torch.Size([28, 28])"
            ]
          },
          "metadata": {},
          "execution_count": 13
        }
      ]
    },
    {
      "cell_type": "code",
      "metadata": {
        "colab": {
          "base_uri": "https://localhost:8080/"
        },
        "id": "UZVVe9C2Fs38",
        "outputId": "fbf46455-ad17-4fca-f65c-0a876b15b4d1"
      },
      "source": [
        "#tensor -> numpy로 변경\n",
        "image = torch_image.numpy()\n",
        "image.shape"
      ],
      "execution_count": 14,
      "outputs": [
        {
          "output_type": "execute_result",
          "data": {
            "text/plain": [
              "(28, 28)"
            ]
          },
          "metadata": {},
          "execution_count": 14
        }
      ]
    },
    {
      "cell_type": "code",
      "metadata": {
        "colab": {
          "base_uri": "https://localhost:8080/"
        },
        "id": "6xGrHsoSFx1g",
        "outputId": "dbaec616-6efe-4ce4-eb3f-8addd6799872"
      },
      "source": [
        "label = labels[0].numpy()\n",
        "label.shape"
      ],
      "execution_count": 16,
      "outputs": [
        {
          "output_type": "execute_result",
          "data": {
            "text/plain": [
              "()"
            ]
          },
          "metadata": {},
          "execution_count": 16
        }
      ]
    },
    {
      "cell_type": "code",
      "metadata": {
        "colab": {
          "base_uri": "https://localhost:8080/"
        },
        "id": "QxeEgng4F8WO",
        "outputId": "3b748b98-860d-4f87-b1ad-b9a585fd16be"
      },
      "source": [
        "label"
      ],
      "execution_count": 17,
      "outputs": [
        {
          "output_type": "execute_result",
          "data": {
            "text/plain": [
              "array(8)"
            ]
          },
          "metadata": {},
          "execution_count": 17
        }
      ]
    },
    {
      "cell_type": "code",
      "metadata": {
        "colab": {
          "base_uri": "https://localhost:8080/",
          "height": 277
        },
        "id": "P0Nvoq3zF_h8",
        "outputId": "af0f3f45-32d5-4694-dd37-8d9819c762cc"
      },
      "source": [
        "plt.title(label)\n",
        "plt.imshow(image, 'gray')\n",
        "plt.show(_)"
      ],
      "execution_count": 18,
      "outputs": [
        {
          "output_type": "display_data",
          "data": {
            "image/png": "[encoded data removed]",
            "text/plain": [
              "<Figure size 432x288 with 1 Axes>"
            ]
          },
          "metadata": {}
        }
      ]
    },
    {
      "cell_type": "markdown",
      "metadata": {
        "id": "015Dc9qEGPjg"
      },
      "source": [
        "# 각 Layer설명"
      ]
    },
    {
      "cell_type": "code",
      "metadata": {
        "id": "Yxu5M40EGKtH"
      },
      "source": [
        "import torch\n",
        "import torch.nn as nn\n",
        "import torch.nn.functional as F\n",
        "import torch.optim as optim"
      ],
      "execution_count": 19,
      "outputs": []
    },
    {
      "cell_type": "markdown",
      "metadata": {
        "id": "tcQP1Mm-GdDV"
      },
      "source": [
        "# nn.Conv2d\n",
        "### in_channels: channel의 개수\n",
        "### out_channels: 출력 채널의 개수\n",
        "### kernel_size: 커널(필터) 사이즈\n",
        "### 텐서플로우, 케라스와 다르게 레이어의 input인자에도 값을 집어 넣어줘야 함."
      ]
    },
    {
      "cell_type": "code",
      "metadata": {
        "colab": {
          "base_uri": "https://localhost:8080/"
        },
        "id": "WiB-7ePVGcN9",
        "outputId": "fcaed24a-24a9-40c5-c180-1aa900da2b31"
      },
      "source": [
        "nn.Conv2d(in_channels=1, out_channels=20, kernel_size=5, stride=1)"
      ],
      "execution_count": 20,
      "outputs": [
        {
          "output_type": "execute_result",
          "data": {
            "text/plain": [
              "Conv2d(1, 20, kernel_size=(5, 5), stride=(1, 1))"
            ]
          },
          "metadata": {},
          "execution_count": 20
        }
      ]
    },
    {
      "cell_type": "code",
      "metadata": {
        "colab": {
          "base_uri": "https://localhost:8080/"
        },
        "id": "me45tcizG5__",
        "outputId": "3a40b85a-d908-4499-9f47-c1ebd7bc5a19"
      },
      "source": [
        "layer = nn.Conv2d(1, 20, 5, 1).to(torch.device('cpu'))\n",
        "layer"
      ],
      "execution_count": 21,
      "outputs": [
        {
          "output_type": "execute_result",
          "data": {
            "text/plain": [
              "Conv2d(1, 20, kernel_size=(5, 5), stride=(1, 1))"
            ]
          },
          "metadata": {},
          "execution_count": 21
        }
      ]
    },
    {
      "cell_type": "code",
      "metadata": {
        "colab": {
          "base_uri": "https://localhost:8080/"
        },
        "id": "e-ND6vJRHCco",
        "outputId": "0db422a5-744a-4576-8bf3-0d4740e927e4"
      },
      "source": [
        "weight = layer.weight\n",
        "weight.shape"
      ],
      "execution_count": 22,
      "outputs": [
        {
          "output_type": "execute_result",
          "data": {
            "text/plain": [
              "torch.Size([20, 1, 5, 5])"
            ]
          },
          "metadata": {},
          "execution_count": 22
        }
      ]
    },
    {
      "cell_type": "code",
      "metadata": {
        "id": "8GItkGPcHHQF"
      },
      "source": [
        "# weight는 detach()를 통해 꺼내줘야 numpy()로 변환이 가능\n",
        "weight = weight.detach()"
      ],
      "execution_count": 24,
      "outputs": []
    },
    {
      "cell_type": "code",
      "metadata": {
        "colab": {
          "base_uri": "https://localhost:8080/"
        },
        "id": "vyRB9B7RHRhU",
        "outputId": "9926e935-5449-4849-db7b-8ff00f5bec13"
      },
      "source": [
        "weight = weight.numpy()\n",
        "weight.shape"
      ],
      "execution_count": 25,
      "outputs": [
        {
          "output_type": "execute_result",
          "data": {
            "text/plain": [
              "(20, 1, 5, 5)"
            ]
          },
          "metadata": {},
          "execution_count": 25
        }
      ]
    },
    {
      "cell_type": "code",
      "metadata": {
        "colab": {
          "base_uri": "https://localhost:8080/",
          "height": 262
        },
        "id": "7d4cp3_5HYWA",
        "outputId": "9a011c89-a416-4448-c563-b20a4ed524ec"
      },
      "source": [
        "plt.imshow(weight[0,0,:,:],'jet')\n",
        "plt.colorbar()\n",
        "plt.show()"
      ],
      "execution_count": 27,
      "outputs": [
        {
          "output_type": "display_data",
          "data": {
            "image/png": "[encoded data removed]",
            "text/plain": [
              "<Figure size 432x288 with 2 Axes>"
            ]
          },
          "metadata": {}
        }
      ]
    },
    {
      "cell_type": "code",
      "metadata": {
        "colab": {
          "base_uri": "https://localhost:8080/"
        },
        "id": "rPMoO12zHfn4",
        "outputId": "5fa16bf8-a4e9-4c3e-903b-f63ebd241728"
      },
      "source": [
        "print(images.shape)"
      ],
      "execution_count": 28,
      "outputs": [
        {
          "output_type": "stream",
          "name": "stdout",
          "text": [
            "torch.Size([8, 1, 28, 28])\n"
          ]
        }
      ]
    },
    {
      "cell_type": "code",
      "metadata": {
        "id": "sgBT2jHHHpQC"
      },
      "source": [
        "input_image = torch.unsqueeze(images[0], dim=0) #차원 생성\n"
      ],
      "execution_count": 29,
      "outputs": []
    },
    {
      "cell_type": "code",
      "metadata": {
        "id": "0WRgQ60TH3fG"
      },
      "source": [
        "output_data = layer(input_image)"
      ],
      "execution_count": 30,
      "outputs": []
    },
    {
      "cell_type": "code",
      "metadata": {
        "id": "pyoSKGg3H7BK"
      },
      "source": [
        "output = output_data.data"
      ],
      "execution_count": 31,
      "outputs": []
    },
    {
      "cell_type": "code",
      "metadata": {
        "colab": {
          "base_uri": "https://localhost:8080/"
        },
        "id": "OUNaLgYrH9R2",
        "outputId": "261911f0-45ef-41cb-d67c-13fbc9f3e02c"
      },
      "source": [
        "output_arr =output.numpy()\n",
        "output_arr.shape"
      ],
      "execution_count": 32,
      "outputs": [
        {
          "output_type": "execute_result",
          "data": {
            "text/plain": [
              "(1, 20, 24, 24)"
            ]
          },
          "metadata": {},
          "execution_count": 32
        }
      ]
    },
    {
      "cell_type": "code",
      "metadata": {
        "colab": {
          "base_uri": "https://localhost:8080/",
          "height": 306
        },
        "id": "MgnJx6VBIAmc",
        "outputId": "3f3412f5-cbd0-410e-f2c3-27c22cb16f23"
      },
      "source": [
        "plt.figure(figsize=(15,30))\n",
        "\n",
        "plt.subplot(131)\n",
        "plt.title('Input')\n",
        "plt.imshow(image, 'gray')\n",
        "\n",
        "plt.subplot(132)\n",
        "plt.title('Weight')\n",
        "plt.imshow(weight[0,0,:,:], 'jet')\n",
        "\n",
        "plt.subplot(133)\n",
        "plt.title('Output')\n",
        "plt.imshow(output_arr[0,0,:,:], 'gray')\n",
        "\n",
        "plt.show()"
      ],
      "execution_count": 33,
      "outputs": [
        {
          "output_type": "display_data",
          "data": {
            "image/png": "[encoded data removed]",
            "text/plain": [
              "<Figure size 1080x2160 with 3 Axes>"
            ]
          },
          "metadata": {}
        }
      ]
    },
    {
      "cell_type": "markdown",
      "metadata": {
        "id": "4EQCd37rIqd4"
      },
      "source": [
        "# Pooling\n"
      ]
    },
    {
      "cell_type": "code",
      "metadata": {
        "colab": {
          "base_uri": "https://localhost:8080/"
        },
        "id": "LEH1IZM5Ig9r",
        "outputId": "e1e03d0d-e52d-4310-ea07-1cd34b4f20f7"
      },
      "source": [
        "image.shape"
      ],
      "execution_count": 34,
      "outputs": [
        {
          "output_type": "execute_result",
          "data": {
            "text/plain": [
              "(28, 28)"
            ]
          },
          "metadata": {},
          "execution_count": 34
        }
      ]
    },
    {
      "cell_type": "code",
      "metadata": {
        "colab": {
          "base_uri": "https://localhost:8080/"
        },
        "id": "BLtPZ_PIIuvq",
        "outputId": "171de3b4-3184-45ba-959a-a7710d00ba3d"
      },
      "source": [
        "pool = F.max_pool2d(output, 2, 2)\n",
        "pool.shape"
      ],
      "execution_count": 35,
      "outputs": [
        {
          "output_type": "execute_result",
          "data": {
            "text/plain": [
              "torch.Size([1, 20, 12, 12])"
            ]
          },
          "metadata": {},
          "execution_count": 35
        }
      ]
    },
    {
      "cell_type": "markdown",
      "metadata": {
        "id": "HE01MQ7OI321"
      },
      "source": [
        "### MaxPool Layer은 weight가 없기 때문에 바로 numpy()로 변환가능"
      ]
    },
    {
      "cell_type": "code",
      "metadata": {
        "colab": {
          "base_uri": "https://localhost:8080/"
        },
        "id": "hOTbNTw5I0tn",
        "outputId": "bbee0f1c-6166-48e4-c67f-81395f9f7dc9"
      },
      "source": [
        "pool_arr = pool.numpy()\n",
        "pool_arr.shape"
      ],
      "execution_count": 36,
      "outputs": [
        {
          "output_type": "execute_result",
          "data": {
            "text/plain": [
              "(1, 20, 12, 12)"
            ]
          },
          "metadata": {},
          "execution_count": 36
        }
      ]
    },
    {
      "cell_type": "code",
      "metadata": {
        "colab": {
          "base_uri": "https://localhost:8080/",
          "height": 313
        },
        "id": "y4QKN2R4JEo8",
        "outputId": "ffb7ecb5-27b4-48b6-9e9f-ba4fae682ea3"
      },
      "source": [
        "plt.figure(figsize=(10,15))\n",
        "plt.subplot(121)\n",
        "plt.title('Input')\n",
        "plt.imshow(image, 'gray')\n",
        "plt.subplot(122)\n",
        "plt.title('Output')\n",
        "plt.imshow(pool_arr[0,0,:,:], 'gray')\n",
        "plt.show()"
      ],
      "execution_count": 37,
      "outputs": [
        {
          "output_type": "display_data",
          "data": {
            "image/png": "[encoded data removed]",
            "text/plain": [
              "<Figure size 720x1080 with 2 Axes>"
            ]
          },
          "metadata": {}
        }
      ]
    },
    {
      "cell_type": "markdown",
      "metadata": {
        "id": "00QKTSojJhqK"
      },
      "source": [
        "# Linear"
      ]
    },
    {
      "cell_type": "code",
      "metadata": {
        "colab": {
          "base_uri": "https://localhost:8080/"
        },
        "id": "lQnOqOM_JX_o",
        "outputId": "aacaeab0-7f88-4125-d3fc-fb2d3d355c0e"
      },
      "source": [
        "numpy -> tensor로 변경\n",
        "image = torch.from_numpy(image)\n",
        "image.shape"
      ],
      "execution_count": 38,
      "outputs": [
        {
          "output_type": "execute_result",
          "data": {
            "text/plain": [
              "torch.Size([28, 28])"
            ]
          },
          "metadata": {},
          "execution_count": 38
        }
      ]
    },
    {
      "cell_type": "code",
      "metadata": {
        "colab": {
          "base_uri": "https://localhost:8080/"
        },
        "id": "zNrVcuoyJoMG",
        "outputId": "2aa3ec44-f52c-435a-c03f-c541668e7e5a"
      },
      "source": [
        "flatten = image.view(1, 28*28)\n",
        "flatten.shape"
      ],
      "execution_count": 39,
      "outputs": [
        {
          "output_type": "execute_result",
          "data": {
            "text/plain": [
              "torch.Size([1, 784])"
            ]
          },
          "metadata": {},
          "execution_count": 39
        }
      ]
    },
    {
      "cell_type": "code",
      "metadata": {
        "colab": {
          "base_uri": "https://localhost:8080/"
        },
        "id": "89o4A5lUJyWE",
        "outputId": "1a1a6f90-eee0-4d82-aaa1-4c9736bfc200"
      },
      "source": [
        "lin = nn.Linear(784, 10)(flatten)\n",
        "lin.shape"
      ],
      "execution_count": 40,
      "outputs": [
        {
          "output_type": "execute_result",
          "data": {
            "text/plain": [
              "torch.Size([1, 10])"
            ]
          },
          "metadata": {},
          "execution_count": 40
        }
      ]
    },
    {
      "cell_type": "code",
      "metadata": {
        "colab": {
          "base_uri": "https://localhost:8080/"
        },
        "id": "TxOjijKOJ4q9",
        "outputId": "41f0a3df-3c16-4499-cce9-4df837af3e11"
      },
      "source": [
        "lin"
      ],
      "execution_count": 41,
      "outputs": [
        {
          "output_type": "execute_result",
          "data": {
            "text/plain": [
              "tensor([[-0.2076, -0.0218,  1.1180,  0.3311,  0.5338,  0.5229,  0.0552,  1.0577,\n",
              "         -0.1871,  0.9157]], grad_fn=<AddmmBackward0>)"
            ]
          },
          "metadata": {},
          "execution_count": 41
        }
      ]
    },
    {
      "cell_type": "code",
      "metadata": {
        "colab": {
          "base_uri": "https://localhost:8080/",
          "height": 253
        },
        "id": "kWWjO-fQJ7Sc",
        "outputId": "d6a210c7-1d5a-48b3-9d07-0953a70c662b"
      },
      "source": [
        "plt.imshow(lin.detach().numpy(), 'jet')\n",
        "plt.colorbar()\n",
        "plt.show()"
      ],
      "execution_count": 42,
      "outputs": [
        {
          "output_type": "display_data",
          "data": {
            "image/png": "[encoded data removed]",
            "text/plain": [
              "<Figure size 432x288 with 2 Axes>"
            ]
          },
          "metadata": {}
        }
      ]
    },
    {
      "cell_type": "markdown",
      "metadata": {
        "id": "KHbw4dcTKGRd"
      },
      "source": [
        "# Softmax"
      ]
    },
    {
      "cell_type": "code",
      "metadata": {
        "id": "zFr1WSW8KDiV"
      },
      "source": [
        "with torch.no_grad():\n",
        "  flatten = image.view(1, 28*28)\n",
        "  lin = nn.Linear(784, 10)(flatten)\n",
        "  softmax = F.softmax(lin, dim=1)"
      ],
      "execution_count": 43,
      "outputs": []
    },
    {
      "cell_type": "code",
      "metadata": {
        "colab": {
          "base_uri": "https://localhost:8080/"
        },
        "id": "2163EjKRKY9m",
        "outputId": "64107d84-c4bb-4957-d237-63fcfc84dd29"
      },
      "source": [
        "softmax"
      ],
      "execution_count": 44,
      "outputs": [
        {
          "output_type": "execute_result",
          "data": {
            "text/plain": [
              "tensor([[0.0491, 0.1635, 0.0843, 0.0614, 0.1359, 0.0458, 0.1438, 0.1400, 0.0816,\n",
              "         0.0947]])"
            ]
          },
          "metadata": {},
          "execution_count": 44
        }
      ]
    },
    {
      "cell_type": "code",
      "metadata": {
        "id": "xAXFTGG1KgIm"
      },
      "source": [
        "import numpy as np"
      ],
      "execution_count": 46,
      "outputs": []
    },
    {
      "cell_type": "code",
      "metadata": {
        "colab": {
          "base_uri": "https://localhost:8080/"
        },
        "id": "pjGLoAmgKZ8b",
        "outputId": "da049c2c-abbd-412f-e20e-5d8e85ca343c"
      },
      "source": [
        "np.sum(softmax.numpy())"
      ],
      "execution_count": 47,
      "outputs": [
        {
          "output_type": "execute_result",
          "data": {
            "text/plain": [
              "1.0"
            ]
          },
          "metadata": {},
          "execution_count": 47
        }
      ]
    },
    {
      "cell_type": "markdown",
      "metadata": {
        "id": "1dl6hAaqKmuz"
      },
      "source": [
        "# F.relu"
      ]
    },
    {
      "cell_type": "code",
      "metadata": {
        "colab": {
          "base_uri": "https://localhost:8080/"
        },
        "id": "-6TwL7PrKdEX",
        "outputId": "db52b5de-9caf-4fe7-f6d6-885e5e0a10b3"
      },
      "source": [
        "device = torch.device('cuda' if torch.cuda.is_available() else 'cpu')\n",
        "inputs = torch.randn(4,3,28,28).to(device)\n",
        "inputs.shape"
      ],
      "execution_count": 50,
      "outputs": [
        {
          "output_type": "execute_result",
          "data": {
            "text/plain": [
              "torch.Size([4, 3, 28, 28])"
            ]
          },
          "metadata": {},
          "execution_count": 50
        }
      ]
    },
    {
      "cell_type": "code",
      "metadata": {
        "colab": {
          "base_uri": "https://localhost:8080/"
        },
        "id": "GMK1HS7aKtHs",
        "outputId": "98d13418-9280-4f37-b724-604054231ed4"
      },
      "source": [
        "layer = nn.Conv2d(3,20,5,1).to(device)\n",
        "output = F.relu(layer(inputs))\n",
        "output.shape"
      ],
      "execution_count": 51,
      "outputs": [
        {
          "output_type": "execute_result",
          "data": {
            "text/plain": [
              "torch.Size([4, 20, 24, 24])"
            ]
          },
          "metadata": {},
          "execution_count": 51
        }
      ]
    },
    {
      "cell_type": "markdown",
      "metadata": {
        "id": "3RZEIzPBLWk3"
      },
      "source": [
        "# Optimizer\n",
        "### import torch.optim as optim\n",
        "### model의 파라미터를 업데이터\n",
        "### 예시)\n",
        "##### optimizer = torch.optim.Adam(model.parameters(), lr=le-4, weight_decay=1e-5)\n",
        "##### optimizer = optim.SGD(model.parameters(), lr=0.001)\n",
        "\n",
        "### .zero_grad()로 초기화\n",
        "### .step()으로 업데이트"
      ]
    },
    {
      "cell_type": "code",
      "metadata": {
        "id": "IMs9_CddLTDU"
      },
      "source": [
        ""
      ],
      "execution_count": null,
      "outputs": []
    }
  ]
}