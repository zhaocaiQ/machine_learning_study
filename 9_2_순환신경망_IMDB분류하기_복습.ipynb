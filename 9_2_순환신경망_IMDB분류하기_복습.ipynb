{
  "nbformat": 4,
  "nbformat_minor": 0,
  "metadata": {
    "colab": {
      "name": "9-2_순환신경망_IMDB분류하기_복습.ipynb",
      "provenance": [],
      "authorship_tag": "ABX9TyPeU8h4vUzLb9P/mtQig8aT",
      "include_colab_link": true
    },
    "kernelspec": {
      "name": "python3",
      "display_name": "Python 3"
    },
    "language_info": {
      "name": "python"
    }
  },
  "cells": [
    {
      "cell_type": "markdown",
      "metadata": {
        "id": "view-in-github",
        "colab_type": "text"
      },
      "source": [
        "<a href=\"https://colab.research.google.com/github/zhaocaiQ/machine_learning_study/blob/master/9_2_%EC%88%9C%ED%99%98%EC%8B%A0%EA%B2%BD%EB%A7%9D_IMDB%EB%B6%84%EB%A5%98%ED%95%98%EA%B8%B0_%EB%B3%B5%EC%8A%B5.ipynb\" target=\"_parent\"><img src=\"https://colab.research.google.com/assets/colab-badge.svg\" alt=\"Open In Colab\"/></a>"
      ]
    },
    {
      "cell_type": "code",
      "metadata": {
        "colab": {
          "base_uri": "https://localhost:8080/"
        },
        "id": "s2dXXhCl9jKf",
        "outputId": "366285f0-978a-4ab3-8dda-b3e9d0e18bd6"
      },
      "source": [
        "from tensorflow.keras.datasets import imdb\n",
        "(train_input, train_target), (test_input, test_target) = imdb.load_data(num_words=500)"
      ],
      "execution_count": 1,
      "outputs": [
        {
          "output_type": "stream",
          "name": "stdout",
          "text": [
            "Downloading data from https://storage.googleapis.com/tensorflow/tf-keras-datasets/imdb.npz\n",
            "17465344/17464789 [==============================] - 0s 0us/step\n",
            "17473536/17464789 [==============================] - 0s 0us/step\n"
          ]
        }
      ]
    },
    {
      "cell_type": "code",
      "metadata": {
        "colab": {
          "base_uri": "https://localhost:8080/"
        },
        "id": "YHOb3K249_0f",
        "outputId": "3bb5c5f0-71ca-4048-f2aa-8c1f5a6f9806"
      },
      "source": [
        "print(train_input.shape, test_input.shape)"
      ],
      "execution_count": 2,
      "outputs": [
        {
          "output_type": "stream",
          "name": "stdout",
          "text": [
            "(25000,) (25000,)\n"
          ]
        }
      ]
    },
    {
      "cell_type": "code",
      "metadata": {
        "colab": {
          "base_uri": "https://localhost:8080/"
        },
        "id": "hl0GFgei-G5R",
        "outputId": "f9adb01f-3d67-4c8b-a5f3-5e2f83b2fdf6"
      },
      "source": [
        "print(len(train_input[0]))"
      ],
      "execution_count": 3,
      "outputs": [
        {
          "output_type": "stream",
          "name": "stdout",
          "text": [
            "218\n"
          ]
        }
      ]
    },
    {
      "cell_type": "code",
      "metadata": {
        "colab": {
          "base_uri": "https://localhost:8080/"
        },
        "id": "kNvGHWrE-NO0",
        "outputId": "1de74f71-fbfa-4a30-c140-1b134f684804"
      },
      "source": [
        "print(len(train_input[1]))"
      ],
      "execution_count": 4,
      "outputs": [
        {
          "output_type": "stream",
          "name": "stdout",
          "text": [
            "189\n"
          ]
        }
      ]
    },
    {
      "cell_type": "code",
      "metadata": {
        "colab": {
          "base_uri": "https://localhost:8080/"
        },
        "id": "foUP3VJP-P1D",
        "outputId": "7cd64389-dd33-4fb3-de9f-79214523e22a"
      },
      "source": [
        "print(train_input[0])"
      ],
      "execution_count": 5,
      "outputs": [
        {
          "output_type": "stream",
          "name": "stdout",
          "text": [
            "[1, 14, 22, 16, 43, 2, 2, 2, 2, 65, 458, 2, 66, 2, 4, 173, 36, 256, 5, 25, 100, 43, 2, 112, 50, 2, 2, 9, 35, 480, 284, 5, 150, 4, 172, 112, 167, 2, 336, 385, 39, 4, 172, 2, 2, 17, 2, 38, 13, 447, 4, 192, 50, 16, 6, 147, 2, 19, 14, 22, 4, 2, 2, 469, 4, 22, 71, 87, 12, 16, 43, 2, 38, 76, 15, 13, 2, 4, 22, 17, 2, 17, 12, 16, 2, 18, 2, 5, 62, 386, 12, 8, 316, 8, 106, 5, 4, 2, 2, 16, 480, 66, 2, 33, 4, 130, 12, 16, 38, 2, 5, 25, 124, 51, 36, 135, 48, 25, 2, 33, 6, 22, 12, 215, 28, 77, 52, 5, 14, 407, 16, 82, 2, 8, 4, 107, 117, 2, 15, 256, 4, 2, 7, 2, 5, 2, 36, 71, 43, 2, 476, 26, 400, 317, 46, 7, 4, 2, 2, 13, 104, 88, 4, 381, 15, 297, 98, 32, 2, 56, 26, 141, 6, 194, 2, 18, 4, 226, 22, 21, 134, 476, 26, 480, 5, 144, 30, 2, 18, 51, 36, 28, 224, 92, 25, 104, 4, 226, 65, 16, 38, 2, 88, 12, 16, 283, 5, 16, 2, 113, 103, 32, 15, 16, 2, 19, 178, 32]\n"
          ]
        }
      ]
    },
    {
      "cell_type": "code",
      "metadata": {
        "colab": {
          "base_uri": "https://localhost:8080/"
        },
        "id": "TIdJ0WyA-Uc1",
        "outputId": "9fd4b106-b9c4-4d31-d33c-733145fdded7"
      },
      "source": [
        "print(train_target[:20])"
      ],
      "execution_count": 6,
      "outputs": [
        {
          "output_type": "stream",
          "name": "stdout",
          "text": [
            "[1 0 0 1 0 0 1 0 1 0 1 0 0 0 0 0 1 1 0 1]\n"
          ]
        }
      ]
    },
    {
      "cell_type": "code",
      "metadata": {
        "id": "aLdX9IYy-cOp"
      },
      "source": [
        "from sklearn.model_selection import train_test_split\n",
        "train_input, val_input, train_target, val_target = train_test_split(\n",
        "    train_input, train_target, test_size=0.2, random_state=42\n",
        ")"
      ],
      "execution_count": 7,
      "outputs": []
    },
    {
      "cell_type": "code",
      "metadata": {
        "id": "cJjKvWjj-swH"
      },
      "source": [
        "import numpy as np\n",
        "lengths = np.array([len(x) for x in train_input])"
      ],
      "execution_count": 8,
      "outputs": []
    },
    {
      "cell_type": "code",
      "metadata": {
        "colab": {
          "base_uri": "https://localhost:8080/"
        },
        "id": "haDTePQL-2kr",
        "outputId": "addff384-4e65-4ecc-9f0c-44674d4ffc07"
      },
      "source": [
        "print(np.mean(lengths), np.median(lengths))"
      ],
      "execution_count": 10,
      "outputs": [
        {
          "output_type": "stream",
          "name": "stdout",
          "text": [
            "239.00925 178.0\n"
          ]
        }
      ]
    },
    {
      "cell_type": "code",
      "metadata": {
        "colab": {
          "base_uri": "https://localhost:8080/",
          "height": 279
        },
        "id": "-8vbO0fs-8Cz",
        "outputId": "6613a8b0-9bf1-4fad-c448-90e1cb59ee04"
      },
      "source": [
        "import matplotlib.pyplot as plt\n",
        "plt.hist(lengths)\n",
        "plt.xlabel('lengths')\n",
        "plt.ylabel('frequency')\n",
        "plt.show()"
      ],
      "execution_count": 11,
      "outputs": [
        {
          "output_type": "display_data",
          "data": {
            "image/png": "[encoded data removed]",
            "text/plain": [
              "<Figure size 432x288 with 1 Axes>"
            ]
          },
          "metadata": {
            "needs_background": "light"
          }
        }
      ]
    },
    {
      "cell_type": "code",
      "metadata": {
        "id": "L6_QYnhP_K2s"
      },
      "source": [
        "from tensorflow.keras.preprocessing.sequence import pad_sequences\n",
        "train_seq = pad_sequences(train_input, maxlen=100)"
      ],
      "execution_count": 12,
      "outputs": []
    },
    {
      "cell_type": "code",
      "metadata": {
        "colab": {
          "base_uri": "https://localhost:8080/"
        },
        "id": "tRP3GAzS_bZT",
        "outputId": "3b8ff48b-1ad5-4584-8c0e-489691463071"
      },
      "source": [
        "print(train_seq.shape)"
      ],
      "execution_count": 13,
      "outputs": [
        {
          "output_type": "stream",
          "name": "stdout",
          "text": [
            "(20000, 100)\n"
          ]
        }
      ]
    },
    {
      "cell_type": "code",
      "metadata": {
        "colab": {
          "base_uri": "https://localhost:8080/"
        },
        "id": "h35ayckh_duH",
        "outputId": "652c7ff9-880b-4bdd-f1ee-317b71be5149"
      },
      "source": [
        "print(train_seq[0])"
      ],
      "execution_count": 14,
      "outputs": [
        {
          "output_type": "stream",
          "name": "stdout",
          "text": [
            "[ 10   4  20   9   2 364 352   5  45   6   2   2  33 269   8   2 142   2\n",
            "   5   2  17  73  17 204   5   2  19  55   2   2  92  66 104  14  20  93\n",
            "  76   2 151  33   4  58  12 188   2 151  12 215  69 224 142  73 237   6\n",
            "   2   7   2   2 188   2 103  14  31  10  10 451   7   2   5   2  80  91\n",
            "   2  30   2  34  14  20 151  50  26 131  49   2  84  46  50  37  80  79\n",
            "   6   2  46   7  14  20  10  10 470 158]\n"
          ]
        }
      ]
    },
    {
      "cell_type": "code",
      "metadata": {
        "colab": {
          "base_uri": "https://localhost:8080/"
        },
        "id": "vhl4o14m_jnN",
        "outputId": "b3242fdc-464c-48f5-d24f-453b4b2ef31b"
      },
      "source": [
        "print(train_seq[0][:-10])"
      ],
      "execution_count": 15,
      "outputs": [
        {
          "output_type": "stream",
          "name": "stdout",
          "text": [
            "[ 10   4  20   9   2 364 352   5  45   6   2   2  33 269   8   2 142   2\n",
            "   5   2  17  73  17 204   5   2  19  55   2   2  92  66 104  14  20  93\n",
            "  76   2 151  33   4  58  12 188   2 151  12 215  69 224 142  73 237   6\n",
            "   2   7   2   2 188   2 103  14  31  10  10 451   7   2   5   2  80  91\n",
            "   2  30   2  34  14  20 151  50  26 131  49   2  84  46  50  37  80  79]\n"
          ]
        }
      ]
    },
    {
      "cell_type": "code",
      "metadata": {
        "colab": {
          "base_uri": "https://localhost:8080/"
        },
        "id": "KHIQpCeN_nkn",
        "outputId": "5aa56124-0109-46a5-ab31-73c442ad1ed6"
      },
      "source": [
        "print(train_seq[5])"
      ],
      "execution_count": 16,
      "outputs": [
        {
          "output_type": "stream",
          "name": "stdout",
          "text": [
            "[  0   0   0   0   1   2 195  19  49   2   2 190   4   2 352   2 183  10\n",
            "  10  13  82  79   4   2  36  71 269   8   2  25  19  49   7   4   2   2\n",
            "   2   2   2  10  10  48  25  40   2  11   2   2  40   2   2   5   4   2\n",
            "   2  95  14 238  56 129   2  10  10  21   2  94 364 352   2   2  11 190\n",
            "  24 484   2   7  94 205 405  10  10  87   2  34  49   2   7   2   2   2\n",
            "   2   2 290   2  46  48  64  18   4   2]\n"
          ]
        }
      ]
    },
    {
      "cell_type": "code",
      "metadata": {
        "id": "69wQV5aE_thN"
      },
      "source": [
        "val_seq = pad_sequences(val_input, maxlen=100)"
      ],
      "execution_count": 17,
      "outputs": []
    },
    {
      "cell_type": "code",
      "metadata": {
        "id": "j0eyWIql_1QE"
      },
      "source": [
        "from tensorflow import keras\n",
        "model = keras.Sequential()\n",
        "model.add(keras.layers.SimpleRNN(8, input_shape=(100,500)))\n",
        "model.add(keras.layers.Dense(1, activation='sigmoid'))"
      ],
      "execution_count": 19,
      "outputs": []
    },
    {
      "cell_type": "code",
      "metadata": {
        "id": "bPtfi82CAL3A"
      },
      "source": [
        "train_oh = keras.utils.to_categorical(train_seq)"
      ],
      "execution_count": 20,
      "outputs": []
    },
    {
      "cell_type": "code",
      "metadata": {
        "colab": {
          "base_uri": "https://localhost:8080/"
        },
        "id": "2QVuY1zFAmnJ",
        "outputId": "5f511a29-378e-4645-e2fd-3fb0137c2dc1"
      },
      "source": [
        "print(train_oh.shape)"
      ],
      "execution_count": 21,
      "outputs": [
        {
          "output_type": "stream",
          "name": "stdout",
          "text": [
            "(20000, 100, 500)\n"
          ]
        }
      ]
    },
    {
      "cell_type": "code",
      "metadata": {
        "colab": {
          "base_uri": "https://localhost:8080/"
        },
        "id": "imb2IHL5ApZp",
        "outputId": "5bb3a898-d8f0-4ee9-f684-b4062e09c8a1"
      },
      "source": [
        "print(train_oh[0][0][:12])"
      ],
      "execution_count": 22,
      "outputs": [
        {
          "output_type": "stream",
          "name": "stdout",
          "text": [
            "[0. 0. 0. 0. 0. 0. 0. 0. 0. 0. 1. 0.]\n"
          ]
        }
      ]
    },
    {
      "cell_type": "code",
      "metadata": {
        "colab": {
          "base_uri": "https://localhost:8080/"
        },
        "id": "tY4W9-LeAzwu",
        "outputId": "aba717a4-2dcb-40b9-80b5-70445d74a132"
      },
      "source": [
        "print(np.sum(train_oh[0][0]))"
      ],
      "execution_count": 23,
      "outputs": [
        {
          "output_type": "stream",
          "name": "stdout",
          "text": [
            "1.0\n"
          ]
        }
      ]
    },
    {
      "cell_type": "code",
      "metadata": {
        "id": "FMxdezQeA6v_"
      },
      "source": [
        "val_oh = keras.utils.to_categorical(val_seq)"
      ],
      "execution_count": 25,
      "outputs": []
    },
    {
      "cell_type": "code",
      "metadata": {
        "colab": {
          "base_uri": "https://localhost:8080/"
        },
        "id": "ep__DM8rA_hV",
        "outputId": "aed265be-2f7f-4379-aa2f-d1d4a79bae44"
      },
      "source": [
        "model.summary()"
      ],
      "execution_count": 26,
      "outputs": [
        {
          "output_type": "stream",
          "name": "stdout",
          "text": [
            "Model: \"sequential\"\n",
            "_________________________________________________________________\n",
            " Layer (type)                Output Shape              Param #   \n",
            "=================================================================\n",
            " simple_rnn (SimpleRNN)      (None, 8)                 4072      \n",
            "                                                                 \n",
            " dense (Dense)               (None, 1)                 9         \n",
            "                                                                 \n",
            "=================================================================\n",
            "Total params: 4,081\n",
            "Trainable params: 4,081\n",
            "Non-trainable params: 0\n",
            "_________________________________________________________________\n"
          ]
        }
      ]
    },
    {
      "cell_type": "code",
      "metadata": {
        "colab": {
          "base_uri": "https://localhost:8080/"
        },
        "id": "nBnnfh4gBDYh",
        "outputId": "eb257c7f-0733-4176-bde1-91fbed377182"
      },
      "source": [
        "rmsprop = keras.optimizers.RMSprop(learning_rate=1e-4)\n",
        "model.compile(optimizer=rmsprop, loss='binary_crossentropy', \n",
        "              metrics=['accuracy'])\n",
        "checkpoint_cb = keras.callbacks.ModelCheckpoint('best-simplernn-model.h5', save_best_only=True)\n",
        "early_stopping_cb = keras.callbacks.EarlyStopping(patience=3, restore_best_weights=True)\n",
        "history = model.fit(train_oh, train_target, epochs=100, batch_size=64,\n",
        "                    validation_data=(val_oh, val_target),\n",
        "                    callbacks=[checkpoint_cb, early_stopping_cb])"
      ],
      "execution_count": 28,
      "outputs": [
        {
          "output_type": "stream",
          "name": "stdout",
          "text": [
            "Epoch 1/100\n",
            "313/313 [==============================] - 14s 40ms/step - loss: 0.6965 - accuracy: 0.5191 - val_loss: 0.6896 - val_accuracy: 0.5356\n",
            "Epoch 2/100\n",
            "313/313 [==============================] - 12s 39ms/step - loss: 0.6793 - accuracy: 0.5688 - val_loss: 0.6698 - val_accuracy: 0.5910\n",
            "Epoch 3/100\n",
            "313/313 [==============================] - 12s 39ms/step - loss: 0.6484 - accuracy: 0.6316 - val_loss: 0.6378 - val_accuracy: 0.6440\n",
            "Epoch 4/100\n",
            "313/313 [==============================] - 12s 39ms/step - loss: 0.6200 - accuracy: 0.6744 - val_loss: 0.6103 - val_accuracy: 0.6862\n",
            "Epoch 5/100\n",
            "313/313 [==============================] - 13s 41ms/step - loss: 0.5947 - accuracy: 0.7060 - val_loss: 0.5989 - val_accuracy: 0.6930\n",
            "Epoch 6/100\n",
            "313/313 [==============================] - 13s 41ms/step - loss: 0.5784 - accuracy: 0.7214 - val_loss: 0.5795 - val_accuracy: 0.7214\n",
            "Epoch 7/100\n",
            "313/313 [==============================] - 13s 42ms/step - loss: 0.5639 - accuracy: 0.7362 - val_loss: 0.5666 - val_accuracy: 0.7336\n",
            "Epoch 8/100\n",
            "313/313 [==============================] - 12s 39ms/step - loss: 0.5509 - accuracy: 0.7473 - val_loss: 0.5553 - val_accuracy: 0.7360\n",
            "Epoch 9/100\n",
            "313/313 [==============================] - 12s 39ms/step - loss: 0.5395 - accuracy: 0.7564 - val_loss: 0.5446 - val_accuracy: 0.7444\n",
            "Epoch 10/100\n",
            "313/313 [==============================] - 12s 39ms/step - loss: 0.5297 - accuracy: 0.7634 - val_loss: 0.5365 - val_accuracy: 0.7524\n",
            "Epoch 11/100\n",
            "313/313 [==============================] - 12s 39ms/step - loss: 0.5200 - accuracy: 0.7700 - val_loss: 0.5278 - val_accuracy: 0.7534\n",
            "Epoch 12/100\n",
            "313/313 [==============================] - 12s 39ms/step - loss: 0.5116 - accuracy: 0.7740 - val_loss: 0.5216 - val_accuracy: 0.7622\n",
            "Epoch 13/100\n",
            "313/313 [==============================] - 12s 39ms/step - loss: 0.5036 - accuracy: 0.7772 - val_loss: 0.5122 - val_accuracy: 0.7642\n",
            "Epoch 14/100\n",
            "313/313 [==============================] - 12s 38ms/step - loss: 0.4958 - accuracy: 0.7837 - val_loss: 0.5105 - val_accuracy: 0.7646\n",
            "Epoch 15/100\n",
            "313/313 [==============================] - 12s 39ms/step - loss: 0.4896 - accuracy: 0.7858 - val_loss: 0.5021 - val_accuracy: 0.7690\n",
            "Epoch 16/100\n",
            "313/313 [==============================] - 12s 39ms/step - loss: 0.4836 - accuracy: 0.7893 - val_loss: 0.4963 - val_accuracy: 0.7740\n",
            "Epoch 17/100\n",
            "313/313 [==============================] - 12s 39ms/step - loss: 0.4779 - accuracy: 0.7924 - val_loss: 0.4939 - val_accuracy: 0.7708\n",
            "Epoch 18/100\n",
            "313/313 [==============================] - 12s 39ms/step - loss: 0.4729 - accuracy: 0.7936 - val_loss: 0.4918 - val_accuracy: 0.7726\n",
            "Epoch 19/100\n",
            "313/313 [==============================] - 12s 40ms/step - loss: 0.4682 - accuracy: 0.7961 - val_loss: 0.4848 - val_accuracy: 0.7766\n",
            "Epoch 20/100\n",
            "313/313 [==============================] - 12s 40ms/step - loss: 0.4639 - accuracy: 0.7978 - val_loss: 0.4833 - val_accuracy: 0.7774\n",
            "Epoch 21/100\n",
            "313/313 [==============================] - 12s 39ms/step - loss: 0.4601 - accuracy: 0.7990 - val_loss: 0.4800 - val_accuracy: 0.7802\n",
            "Epoch 22/100\n",
            "313/313 [==============================] - 12s 39ms/step - loss: 0.4562 - accuracy: 0.8016 - val_loss: 0.4789 - val_accuracy: 0.7778\n",
            "Epoch 23/100\n",
            "313/313 [==============================] - 13s 42ms/step - loss: 0.4528 - accuracy: 0.8015 - val_loss: 0.4742 - val_accuracy: 0.7810\n",
            "Epoch 24/100\n",
            "313/313 [==============================] - 14s 43ms/step - loss: 0.4491 - accuracy: 0.8063 - val_loss: 0.4724 - val_accuracy: 0.7818\n",
            "Epoch 25/100\n",
            "313/313 [==============================] - 14s 46ms/step - loss: 0.4466 - accuracy: 0.8055 - val_loss: 0.4692 - val_accuracy: 0.7830\n",
            "Epoch 26/100\n",
            "313/313 [==============================] - 14s 46ms/step - loss: 0.4430 - accuracy: 0.8080 - val_loss: 0.4715 - val_accuracy: 0.7832\n",
            "Epoch 27/100\n",
            "313/313 [==============================] - 14s 45ms/step - loss: 0.4411 - accuracy: 0.8077 - val_loss: 0.4685 - val_accuracy: 0.7832\n",
            "Epoch 28/100\n",
            "313/313 [==============================] - 13s 41ms/step - loss: 0.4382 - accuracy: 0.8094 - val_loss: 0.4691 - val_accuracy: 0.7816\n",
            "Epoch 29/100\n",
            "313/313 [==============================] - 12s 39ms/step - loss: 0.4368 - accuracy: 0.8099 - val_loss: 0.4645 - val_accuracy: 0.7820\n",
            "Epoch 30/100\n",
            "313/313 [==============================] - 12s 39ms/step - loss: 0.4344 - accuracy: 0.8123 - val_loss: 0.4638 - val_accuracy: 0.7850\n",
            "Epoch 31/100\n",
            "313/313 [==============================] - 12s 39ms/step - loss: 0.4325 - accuracy: 0.8116 - val_loss: 0.4678 - val_accuracy: 0.7788\n",
            "Epoch 32/100\n",
            "313/313 [==============================] - 12s 39ms/step - loss: 0.4305 - accuracy: 0.8140 - val_loss: 0.4627 - val_accuracy: 0.7856\n",
            "Epoch 33/100\n",
            "313/313 [==============================] - 12s 39ms/step - loss: 0.4280 - accuracy: 0.8145 - val_loss: 0.4672 - val_accuracy: 0.7794\n",
            "Epoch 34/100\n",
            "313/313 [==============================] - 12s 39ms/step - loss: 0.4267 - accuracy: 0.8155 - val_loss: 0.4603 - val_accuracy: 0.7870\n",
            "Epoch 35/100\n",
            "313/313 [==============================] - 12s 39ms/step - loss: 0.4251 - accuracy: 0.8161 - val_loss: 0.4621 - val_accuracy: 0.7862\n",
            "Epoch 36/100\n",
            "313/313 [==============================] - 12s 39ms/step - loss: 0.4234 - accuracy: 0.8164 - val_loss: 0.4620 - val_accuracy: 0.7872\n",
            "Epoch 37/100\n",
            "313/313 [==============================] - 13s 40ms/step - loss: 0.4220 - accuracy: 0.8170 - val_loss: 0.4606 - val_accuracy: 0.7828\n"
          ]
        }
      ]
    },
    {
      "cell_type": "code",
      "metadata": {
        "colab": {
          "base_uri": "https://localhost:8080/",
          "height": 279
        },
        "id": "V6p417oUCIVs",
        "outputId": "e6b4c26c-cbb9-4d8b-d9f7-1c695b31940e"
      },
      "source": [
        "import matplotlib.pyplot as plt\n",
        "plt.plot(history.history['loss'])\n",
        "plt.plot(history.history['val_loss'])\n",
        "plt.xlabel('epoch')\n",
        "plt.ylabel('loss')\n",
        "plt.legend(['train','val'])\n",
        "plt.show()"
      ],
      "execution_count": 29,
      "outputs": [
        {
          "output_type": "display_data",
          "data": {
            "image/png": "[encoded data removed]",
            "text/plain": [
              "<Figure size 432x288 with 1 Axes>"
            ]
          },
          "metadata": {
            "needs_background": "light"
          }
        }
      ]
    },
    {
      "cell_type": "code",
      "metadata": {
        "colab": {
          "base_uri": "https://localhost:8080/"
        },
        "id": "cmfyLRPEDAkw",
        "outputId": "38614647-df86-45ca-ea8e-464a78a77b38"
      },
      "source": [
        "print(train_seq.nbytes, train_oh.nbytes)"
      ],
      "execution_count": 30,
      "outputs": [
        {
          "output_type": "stream",
          "name": "stdout",
          "text": [
            "8000000 4000000000\n"
          ]
        }
      ]
    },
    {
      "cell_type": "code",
      "metadata": {
        "id": "0gJ4OkO2DR2D"
      },
      "source": [
        "model2 = keras.Sequential()\n",
        "model2.add(keras.layers.Embedding(500,16,input_length=100))\n",
        "model2.add(keras.layers.SimpleRNN(8))\n",
        "model2.add(keras.layers.Dense(1, activation='sigmoid'))"
      ],
      "execution_count": 31,
      "outputs": []
    },
    {
      "cell_type": "code",
      "metadata": {
        "colab": {
          "base_uri": "https://localhost:8080/"
        },
        "id": "V6LXNLhrD6on",
        "outputId": "fe6bff82-e7d9-48bd-b054-78b13a97396e"
      },
      "source": [
        "model2.summary()"
      ],
      "execution_count": 32,
      "outputs": [
        {
          "output_type": "stream",
          "name": "stdout",
          "text": [
            "Model: \"sequential_1\"\n",
            "_________________________________________________________________\n",
            " Layer (type)                Output Shape              Param #   \n",
            "=================================================================\n",
            " embedding (Embedding)       (None, 100, 16)           8000      \n",
            "                                                                 \n",
            " simple_rnn_1 (SimpleRNN)    (None, 8)                 200       \n",
            "                                                                 \n",
            " dense_1 (Dense)             (None, 1)                 9         \n",
            "                                                                 \n",
            "=================================================================\n",
            "Total params: 8,209\n",
            "Trainable params: 8,209\n",
            "Non-trainable params: 0\n",
            "_________________________________________________________________\n"
          ]
        }
      ]
    },
    {
      "cell_type": "code",
      "metadata": {
        "colab": {
          "base_uri": "https://localhost:8080/"
        },
        "id": "BDJxIwSKD9qE",
        "outputId": "2b65a023-9a9d-474e-983e-f38325834c8e"
      },
      "source": [
        "rmsprop = keras.optimizers.RMSprop(learning_rate=1e-4)\n",
        "model2.compile(optimizer=rmsprop, loss='binary_crossentropy', metrics=['accuracy'])\n",
        "checkpoint_cb = keras.callbacks.ModelCheckpoint('best-embedding-model.h5', save_best_only=True)\n",
        "early_stopping_cb = keras.callbacks.EarlyStopping(patience=3, restore_best_weights=True)\n",
        "history = model2.fit(train_seq, train_target, epochs=100, batch_size=64,\n",
        "                     validation_data=(val_seq, val_target),\n",
        "                     callbacks=[checkpoint_cb, early_stopping_cb])"
      ],
      "execution_count": 34,
      "outputs": [
        {
          "output_type": "stream",
          "name": "stdout",
          "text": [
            "Epoch 1/100\n",
            "313/313 [==============================] - 8s 23ms/step - loss: 0.6969 - accuracy: 0.5013 - val_loss: 0.6922 - val_accuracy: 0.5248\n",
            "Epoch 2/100\n",
            "313/313 [==============================] - 7s 22ms/step - loss: 0.6878 - accuracy: 0.5399 - val_loss: 0.6854 - val_accuracy: 0.5562\n",
            "Epoch 3/100\n",
            "313/313 [==============================] - 7s 22ms/step - loss: 0.6777 - accuracy: 0.5819 - val_loss: 0.6724 - val_accuracy: 0.5982\n",
            "Epoch 4/100\n",
            "313/313 [==============================] - 7s 22ms/step - loss: 0.6321 - accuracy: 0.6769 - val_loss: 0.6104 - val_accuracy: 0.7052\n",
            "Epoch 5/100\n",
            "313/313 [==============================] - 7s 22ms/step - loss: 0.5851 - accuracy: 0.7270 - val_loss: 0.5764 - val_accuracy: 0.7324\n",
            "Epoch 6/100\n",
            "313/313 [==============================] - 7s 22ms/step - loss: 0.5556 - accuracy: 0.7471 - val_loss: 0.5529 - val_accuracy: 0.7424\n",
            "Epoch 7/100\n",
            "313/313 [==============================] - 7s 22ms/step - loss: 0.5329 - accuracy: 0.7622 - val_loss: 0.5342 - val_accuracy: 0.7548\n",
            "Epoch 8/100\n",
            "313/313 [==============================] - 7s 22ms/step - loss: 0.5155 - accuracy: 0.7701 - val_loss: 0.5221 - val_accuracy: 0.7594\n",
            "Epoch 9/100\n",
            "313/313 [==============================] - 7s 22ms/step - loss: 0.5014 - accuracy: 0.7792 - val_loss: 0.5166 - val_accuracy: 0.7630\n",
            "Epoch 10/100\n",
            "313/313 [==============================] - 7s 23ms/step - loss: 0.4914 - accuracy: 0.7813 - val_loss: 0.5046 - val_accuracy: 0.7656\n",
            "Epoch 11/100\n",
            "313/313 [==============================] - 7s 22ms/step - loss: 0.4831 - accuracy: 0.7853 - val_loss: 0.5023 - val_accuracy: 0.7670\n",
            "Epoch 12/100\n",
            "313/313 [==============================] - 7s 22ms/step - loss: 0.4749 - accuracy: 0.7898 - val_loss: 0.4954 - val_accuracy: 0.7700\n",
            "Epoch 13/100\n",
            "313/313 [==============================] - 7s 22ms/step - loss: 0.4677 - accuracy: 0.7923 - val_loss: 0.4914 - val_accuracy: 0.7712\n",
            "Epoch 14/100\n",
            "313/313 [==============================] - 7s 22ms/step - loss: 0.4648 - accuracy: 0.7954 - val_loss: 0.4872 - val_accuracy: 0.7746\n",
            "Epoch 15/100\n",
            "313/313 [==============================] - 7s 21ms/step - loss: 0.4589 - accuracy: 0.7986 - val_loss: 0.4879 - val_accuracy: 0.7722\n",
            "Epoch 16/100\n",
            "313/313 [==============================] - 7s 22ms/step - loss: 0.4552 - accuracy: 0.8004 - val_loss: 0.4947 - val_accuracy: 0.7684\n",
            "Epoch 17/100\n",
            "313/313 [==============================] - 7s 21ms/step - loss: 0.4539 - accuracy: 0.7992 - val_loss: 0.4815 - val_accuracy: 0.7746\n",
            "Epoch 18/100\n",
            "313/313 [==============================] - 7s 22ms/step - loss: 0.4504 - accuracy: 0.8015 - val_loss: 0.4825 - val_accuracy: 0.7700\n",
            "Epoch 19/100\n",
            "313/313 [==============================] - 7s 22ms/step - loss: 0.4479 - accuracy: 0.8033 - val_loss: 0.4812 - val_accuracy: 0.7748\n",
            "Epoch 20/100\n",
            "313/313 [==============================] - 8s 25ms/step - loss: 0.4457 - accuracy: 0.8055 - val_loss: 0.4812 - val_accuracy: 0.7708\n",
            "Epoch 21/100\n",
            "313/313 [==============================] - 8s 25ms/step - loss: 0.4431 - accuracy: 0.8063 - val_loss: 0.4791 - val_accuracy: 0.7742\n",
            "Epoch 22/100\n",
            "313/313 [==============================] - 7s 24ms/step - loss: 0.4411 - accuracy: 0.8068 - val_loss: 0.4774 - val_accuracy: 0.7760\n",
            "Epoch 23/100\n",
            "313/313 [==============================] - 8s 24ms/step - loss: 0.4399 - accuracy: 0.8094 - val_loss: 0.4765 - val_accuracy: 0.7752\n",
            "Epoch 24/100\n",
            "313/313 [==============================] - 8s 24ms/step - loss: 0.4381 - accuracy: 0.8086 - val_loss: 0.4740 - val_accuracy: 0.7746\n",
            "Epoch 25/100\n",
            "313/313 [==============================] - 8s 24ms/step - loss: 0.4355 - accuracy: 0.8108 - val_loss: 0.4712 - val_accuracy: 0.7766\n",
            "Epoch 26/100\n",
            "313/313 [==============================] - 8s 24ms/step - loss: 0.4346 - accuracy: 0.8119 - val_loss: 0.4718 - val_accuracy: 0.7742\n",
            "Epoch 27/100\n",
            "313/313 [==============================] - 8s 24ms/step - loss: 0.4327 - accuracy: 0.8120 - val_loss: 0.4711 - val_accuracy: 0.7764\n",
            "Epoch 28/100\n",
            "313/313 [==============================] - 8s 25ms/step - loss: 0.4304 - accuracy: 0.8146 - val_loss: 0.4729 - val_accuracy: 0.7762\n",
            "Epoch 29/100\n",
            "313/313 [==============================] - 8s 24ms/step - loss: 0.4301 - accuracy: 0.8130 - val_loss: 0.4679 - val_accuracy: 0.7780\n",
            "Epoch 30/100\n",
            "313/313 [==============================] - 8s 24ms/step - loss: 0.4283 - accuracy: 0.8145 - val_loss: 0.4712 - val_accuracy: 0.7762\n",
            "Epoch 31/100\n",
            "313/313 [==============================] - 8s 24ms/step - loss: 0.4270 - accuracy: 0.8144 - val_loss: 0.4696 - val_accuracy: 0.7802\n",
            "Epoch 32/100\n",
            "313/313 [==============================] - 8s 24ms/step - loss: 0.4260 - accuracy: 0.8153 - val_loss: 0.4670 - val_accuracy: 0.7784\n",
            "Epoch 33/100\n",
            "313/313 [==============================] - 8s 25ms/step - loss: 0.4244 - accuracy: 0.8167 - val_loss: 0.4649 - val_accuracy: 0.7798\n",
            "Epoch 34/100\n",
            "313/313 [==============================] - 8s 25ms/step - loss: 0.4232 - accuracy: 0.8169 - val_loss: 0.4692 - val_accuracy: 0.7820\n",
            "Epoch 35/100\n",
            "313/313 [==============================] - 8s 26ms/step - loss: 0.4223 - accuracy: 0.8159 - val_loss: 0.4659 - val_accuracy: 0.7792\n",
            "Epoch 36/100\n",
            "313/313 [==============================] - 8s 26ms/step - loss: 0.4219 - accuracy: 0.8176 - val_loss: 0.4646 - val_accuracy: 0.7782\n",
            "Epoch 37/100\n",
            "313/313 [==============================] - 9s 29ms/step - loss: 0.4204 - accuracy: 0.8174 - val_loss: 0.4704 - val_accuracy: 0.7786\n",
            "Epoch 38/100\n",
            "313/313 [==============================] - 9s 28ms/step - loss: 0.4191 - accuracy: 0.8181 - val_loss: 0.4613 - val_accuracy: 0.7808\n",
            "Epoch 39/100\n",
            "313/313 [==============================] - 9s 28ms/step - loss: 0.4175 - accuracy: 0.8188 - val_loss: 0.4614 - val_accuracy: 0.7794\n",
            "Epoch 40/100\n",
            "313/313 [==============================] - 8s 25ms/step - loss: 0.4163 - accuracy: 0.8192 - val_loss: 0.4650 - val_accuracy: 0.7786\n",
            "Epoch 41/100\n",
            "313/313 [==============================] - 8s 25ms/step - loss: 0.4151 - accuracy: 0.8211 - val_loss: 0.4601 - val_accuracy: 0.7798\n",
            "Epoch 42/100\n",
            "313/313 [==============================] - 8s 26ms/step - loss: 0.4139 - accuracy: 0.8209 - val_loss: 0.4618 - val_accuracy: 0.7800\n",
            "Epoch 43/100\n",
            "313/313 [==============================] - 8s 26ms/step - loss: 0.4120 - accuracy: 0.8228 - val_loss: 0.4599 - val_accuracy: 0.7800\n",
            "Epoch 44/100\n",
            "313/313 [==============================] - 8s 25ms/step - loss: 0.4109 - accuracy: 0.8227 - val_loss: 0.4654 - val_accuracy: 0.7820\n",
            "Epoch 45/100\n",
            "313/313 [==============================] - 8s 24ms/step - loss: 0.4099 - accuracy: 0.8231 - val_loss: 0.4609 - val_accuracy: 0.7800\n",
            "Epoch 46/100\n",
            "313/313 [==============================] - 8s 25ms/step - loss: 0.4078 - accuracy: 0.8260 - val_loss: 0.4610 - val_accuracy: 0.7814\n"
          ]
        }
      ]
    },
    {
      "cell_type": "code",
      "metadata": {
        "id": "8wXcCftUE-Al"
      },
      "source": [
        "plt.plot(history.history['loss'])\n",
        "plt.plot(history.history['val_loss'])\n",
        "plt.xlabel('epoch')\n",
        "plt.ylabel('loss')\n",
        "plt.legend(['train', 'val'])\n",
        "plt.show()"
      ],
      "execution_count": null,
      "outputs": []
    }
  ]
}