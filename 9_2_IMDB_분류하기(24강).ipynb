{
  "nbformat": 4,
  "nbformat_minor": 0,
  "metadata": {
    "colab": {
      "name": "9-2_IMDB_분류하기(24강).ipynb",
      "provenance": [],
      "authorship_tag": "ABX9TyOmGl7Mq1gd2D9YvgHGnbPg",
      "include_colab_link": true
    },
    "kernelspec": {
      "name": "python3",
      "display_name": "Python 3"
    },
    "language_info": {
      "name": "python"
    }
  },
  "cells": [
    {
      "cell_type": "markdown",
      "metadata": {
        "id": "view-in-github",
        "colab_type": "text"
      },
      "source": [
        "<a href=\"https://colab.research.google.com/github/zhaocaiQ/machine_learning_study/blob/master/9_2_IMDB_%EB%B6%84%EB%A5%98%ED%95%98%EA%B8%B0(24%EA%B0%95).ipynb\" target=\"_parent\"><img src=\"https://colab.research.google.com/assets/colab-badge.svg\" alt=\"Open In Colab\"/></a>"
      ]
    },
    {
      "cell_type": "code",
      "metadata": {
        "colab": {
          "base_uri": "https://localhost:8080/"
        },
        "id": "tbNkM_LxAInB",
        "outputId": "a0840fdb-63e1-49c4-f2b9-be80c825e799"
      },
      "source": [
        " from tensorflow.keras.datasets import imdb\n",
        " #num_words매개변수를 설정하여 자주 등장하는 단어의 사용개수를 지정할 수 있음.\n",
        " (train_input, train_target), (test_input, test_target) = imdb.load_data(num_words=500)"
      ],
      "execution_count": 1,
      "outputs": [
        {
          "output_type": "stream",
          "name": "stdout",
          "text": [
            "Downloading data from https://storage.googleapis.com/tensorflow/tf-keras-datasets/imdb.npz\n",
            "17465344/17464789 [==============================] - 0s 0us/step\n",
            "17473536/17464789 [==============================] - 0s 0us/step\n"
          ]
        }
      ]
    },
    {
      "cell_type": "code",
      "metadata": {
        "colab": {
          "base_uri": "https://localhost:8080/"
        },
        "id": "TcZDEbZeAwh_",
        "outputId": "9c41328e-05e1-43e8-b790-998b65df36ec"
      },
      "source": [
        "print(train_input.shape, test_input.shape)"
      ],
      "execution_count": 2,
      "outputs": [
        {
          "output_type": "stream",
          "name": "stdout",
          "text": [
            "(25000,) (25000,)\n"
          ]
        }
      ]
    },
    {
      "cell_type": "code",
      "metadata": {
        "colab": {
          "base_uri": "https://localhost:8080/"
        },
        "id": "4e36JPWUA2nV",
        "outputId": "09be4520-98e4-4372-829f-1e181afa99b1"
      },
      "source": [
        "print(train_input[0])"
      ],
      "execution_count": 3,
      "outputs": [
        {
          "output_type": "stream",
          "name": "stdout",
          "text": [
            "[1, 14, 22, 16, 43, 2, 2, 2, 2, 65, 458, 2, 66, 2, 4, 173, 36, 256, 5, 25, 100, 43, 2, 112, 50, 2, 2, 9, 35, 480, 284, 5, 150, 4, 172, 112, 167, 2, 336, 385, 39, 4, 172, 2, 2, 17, 2, 38, 13, 447, 4, 192, 50, 16, 6, 147, 2, 19, 14, 22, 4, 2, 2, 469, 4, 22, 71, 87, 12, 16, 43, 2, 38, 76, 15, 13, 2, 4, 22, 17, 2, 17, 12, 16, 2, 18, 2, 5, 62, 386, 12, 8, 316, 8, 106, 5, 4, 2, 2, 16, 480, 66, 2, 33, 4, 130, 12, 16, 38, 2, 5, 25, 124, 51, 36, 135, 48, 25, 2, 33, 6, 22, 12, 215, 28, 77, 52, 5, 14, 407, 16, 82, 2, 8, 4, 107, 117, 2, 15, 256, 4, 2, 7, 2, 5, 2, 36, 71, 43, 2, 476, 26, 400, 317, 46, 7, 4, 2, 2, 13, 104, 88, 4, 381, 15, 297, 98, 32, 2, 56, 26, 141, 6, 194, 2, 18, 4, 226, 22, 21, 134, 476, 26, 480, 5, 144, 30, 2, 18, 51, 36, 28, 224, 92, 25, 104, 4, 226, 65, 16, 38, 2, 88, 12, 16, 283, 5, 16, 2, 113, 103, 32, 15, 16, 2, 19, 178, 32]\n"
          ]
        }
      ]
    },
    {
      "cell_type": "code",
      "metadata": {
        "colab": {
          "base_uri": "https://localhost:8080/"
        },
        "id": "d_bOYgjxCNQW",
        "outputId": "7373b56c-fd3f-40b9-8672-5e1703f5d004"
      },
      "source": [
        "print(train_target[:20])"
      ],
      "execution_count": 4,
      "outputs": [
        {
          "output_type": "stream",
          "name": "stdout",
          "text": [
            "[1 0 0 1 0 0 1 0 1 0 1 0 0 0 0 0 1 1 0 1]\n"
          ]
        }
      ]
    },
    {
      "cell_type": "markdown",
      "metadata": {
        "id": "VAOohSBpECcG"
      },
      "source": [
        "#### 훈련세트 준비"
      ]
    },
    {
      "cell_type": "code",
      "metadata": {
        "id": "iw__4aquDwQn"
      },
      "source": [
        "from sklearn.model_selection import train_test_split\n",
        "#훈련세트와 검증세트로 나누기\n",
        "train_input, val_input, train_target, val_target = train_test_split(\n",
        "    train_input, train_target, test_size=0.2, random_state=42\n",
        ")"
      ],
      "execution_count": 5,
      "outputs": []
    },
    {
      "cell_type": "markdown",
      "metadata": {
        "id": "HnywutL9F0y0"
      },
      "source": [
        "#### 훈련세트에 있는 리뷰 길이의 평균과 중간 값 구함."
      ]
    },
    {
      "cell_type": "code",
      "metadata": {
        "id": "V2Ae2ufBEei0"
      },
      "source": [
        "import numpy as np\n",
        "lengths = np.array([len(x) for x in train_input])"
      ],
      "execution_count": 6,
      "outputs": []
    },
    {
      "cell_type": "code",
      "metadata": {
        "colab": {
          "base_uri": "https://localhost:8080/"
        },
        "id": "ZTCCsuVzE9d3",
        "outputId": "ae661863-ceb7-4cba-f478-242da103f6e0"
      },
      "source": [
        "print(np.mean(lengths), np.median(lengths))"
      ],
      "execution_count": 7,
      "outputs": [
        {
          "output_type": "stream",
          "name": "stdout",
          "text": [
            "239.00925 178.0\n"
          ]
        }
      ]
    },
    {
      "cell_type": "code",
      "metadata": {
        "colab": {
          "base_uri": "https://localhost:8080/",
          "height": 278
        },
        "id": "E_5xOAZtFEEE",
        "outputId": "b7c5f911-fb97-4b02-ef94-8275a2c1aac4"
      },
      "source": [
        "import matplotlib.pyplot as plt\n",
        "plt.hist(lengths)\n",
        "plt.xlabel('lengths')\n",
        "plt.ylabel('frquency')\n",
        "plt.show()"
      ],
      "execution_count": 8,
      "outputs": [
        {
          "output_type": "display_data",
          "data": {
            "image/png": "[encoded data removed]",
            "text/plain": [
              "<Figure size 432x288 with 1 Axes>"
            ]
          },
          "metadata": {
            "needs_background": "light"
          }
        }
      ]
    },
    {
      "cell_type": "markdown",
      "metadata": {
        "id": "KZcU07exGaQE"
      },
      "source": [
        "#### 리뷰 길이를 100으로 잘라냄, 100미만인 경우 패딩(0)으로 채움"
      ]
    },
    {
      "cell_type": "code",
      "metadata": {
        "id": "BDRKPyEUFwps"
      },
      "source": [
        "from tensorflow.keras.preprocessing.sequence import pad_sequences\n",
        "train_seq = pad_sequences(train_input, maxlen=100)"
      ],
      "execution_count": 9,
      "outputs": []
    },
    {
      "cell_type": "code",
      "metadata": {
        "colab": {
          "base_uri": "https://localhost:8080/"
        },
        "id": "XYpv-IArGvjE",
        "outputId": "ecd80af0-4355-41fe-da90-5984b605063f"
      },
      "source": [
        "print(train_seq.shape)"
      ],
      "execution_count": 10,
      "outputs": [
        {
          "output_type": "stream",
          "name": "stdout",
          "text": [
            "(20000, 100)\n"
          ]
        }
      ]
    },
    {
      "cell_type": "markdown",
      "metadata": {
        "id": "-HP5cZXkMIpM"
      },
      "source": [
        "#### 리뷰를 앞부분을 잘랐는지, 뒷부분을 잘랐는지 확인"
      ]
    },
    {
      "cell_type": "markdown",
      "metadata": {
        "id": "llvMt9dNMMui"
      },
      "source": [
        "##### 앞부분을 자른걸 알 수 있음"
      ]
    },
    {
      "cell_type": "code",
      "metadata": {
        "colab": {
          "base_uri": "https://localhost:8080/"
        },
        "id": "w9Rkw6_KGz36",
        "outputId": "de95c409-bc0b-4326-a9bd-5dd3dfede945"
      },
      "source": [
        "print(train_seq[0])"
      ],
      "execution_count": 11,
      "outputs": [
        {
          "output_type": "stream",
          "name": "stdout",
          "text": [
            "[ 10   4  20   9   2 364 352   5  45   6   2   2  33 269   8   2 142   2\n",
            "   5   2  17  73  17 204   5   2  19  55   2   2  92  66 104  14  20  93\n",
            "  76   2 151  33   4  58  12 188   2 151  12 215  69 224 142  73 237   6\n",
            "   2   7   2   2 188   2 103  14  31  10  10 451   7   2   5   2  80  91\n",
            "   2  30   2  34  14  20 151  50  26 131  49   2  84  46  50  37  80  79\n",
            "   6   2  46   7  14  20  10  10 470 158]\n"
          ]
        }
      ]
    },
    {
      "cell_type": "code",
      "metadata": {
        "colab": {
          "base_uri": "https://localhost:8080/"
        },
        "id": "yjePtTSZKuMr",
        "outputId": "b132dd1c-7c32-42da-db90-98af4ba91919"
      },
      "source": [
        "print(train_input[0][-10:])"
      ],
      "execution_count": 12,
      "outputs": [
        {
          "output_type": "stream",
          "name": "stdout",
          "text": [
            "[6, 2, 46, 7, 14, 20, 10, 10, 470, 158]\n"
          ]
        }
      ]
    },
    {
      "cell_type": "markdown",
      "metadata": {
        "id": "a9Nq2hVWMlhS"
      },
      "source": [
        "#### 앞부분에 패딩으로 채움\n",
        "##### 시퀀스의 마지막에 있는 단어가 셀의 은닉 상태에 가장 큰영향을 미치므로"
      ]
    },
    {
      "cell_type": "code",
      "metadata": {
        "colab": {
          "base_uri": "https://localhost:8080/"
        },
        "id": "-FHIN26PKxsM",
        "outputId": "62cc1838-ab6b-484a-9ec8-8ceb6d5296c5"
      },
      "source": [
        "print(train_seq[5])"
      ],
      "execution_count": 13,
      "outputs": [
        {
          "output_type": "stream",
          "name": "stdout",
          "text": [
            "[  0   0   0   0   1   2 195  19  49   2   2 190   4   2 352   2 183  10\n",
            "  10  13  82  79   4   2  36  71 269   8   2  25  19  49   7   4   2   2\n",
            "   2   2   2  10  10  48  25  40   2  11   2   2  40   2   2   5   4   2\n",
            "   2  95  14 238  56 129   2  10  10  21   2  94 364 352   2   2  11 190\n",
            "  24 484   2   7  94 205 405  10  10  87   2  34  49   2   7   2   2   2\n",
            "   2   2 290   2  46  48  64  18   4   2]\n"
          ]
        }
      ]
    },
    {
      "cell_type": "code",
      "metadata": {
        "id": "N3WDIVgsMkyH"
      },
      "source": [
        "val_seq = pad_sequences(val_input, maxlen=100)"
      ],
      "execution_count": 14,
      "outputs": []
    },
    {
      "cell_type": "markdown",
      "metadata": {
        "id": "L2KEc5VCNdky"
      },
      "source": [
        "## 순환신경망 만들기"
      ]
    },
    {
      "cell_type": "code",
      "metadata": {
        "id": "PP2X99FLNcb-"
      },
      "source": [
        "from tensorflow import keras\n",
        "model = keras.Sequential()\n",
        "model.add(keras.layers.SimpleRNN(8, input_shape=(100, 500)))\n",
        "model.add(keras.layers.Dense(1, activation='sigmoid'))"
      ],
      "execution_count": 16,
      "outputs": []
    },
    {
      "cell_type": "markdown",
      "metadata": {
        "id": "re7wyEu-Rzid"
      },
      "source": [
        "#### 정숫값 원-핫인코딩으로 변경"
      ]
    },
    {
      "cell_type": "code",
      "metadata": {
        "id": "wsAkGQTeOltk"
      },
      "source": [
        "train_oh = keras.utils.to_categorical(train_seq)"
      ],
      "execution_count": 17,
      "outputs": []
    },
    {
      "cell_type": "code",
      "metadata": {
        "colab": {
          "base_uri": "https://localhost:8080/"
        },
        "id": "AFcm3LLxSBQG",
        "outputId": "f4939d12-e767-45b3-a2e4-9cb5b4a90921"
      },
      "source": [
        "print(train_oh.shape)"
      ],
      "execution_count": 19,
      "outputs": [
        {
          "output_type": "stream",
          "name": "stdout",
          "text": [
            "(20000, 100, 500)\n"
          ]
        }
      ]
    },
    {
      "cell_type": "code",
      "metadata": {
        "id": "xGFTxfPdSDKB"
      },
      "source": [
        "val_oh = keras.utils.to_categorical(val_seq)"
      ],
      "execution_count": 20,
      "outputs": []
    },
    {
      "cell_type": "code",
      "metadata": {
        "colab": {
          "base_uri": "https://localhost:8080/"
        },
        "id": "a5eekj8GUH4M",
        "outputId": "74e9dd48-1bc4-4694-e682-7f7a3eeb5cdb"
      },
      "source": [
        "model.summary()"
      ],
      "execution_count": 21,
      "outputs": [
        {
          "output_type": "stream",
          "name": "stdout",
          "text": [
            "Model: \"sequential\"\n",
            "_________________________________________________________________\n",
            " Layer (type)                Output Shape              Param #   \n",
            "=================================================================\n",
            " simple_rnn (SimpleRNN)      (None, 8)                 4072      \n",
            "                                                                 \n",
            " dense (Dense)               (None, 1)                 9         \n",
            "                                                                 \n",
            "=================================================================\n",
            "Total params: 4,081\n",
            "Trainable params: 4,081\n",
            "Non-trainable params: 0\n",
            "_________________________________________________________________\n"
          ]
        }
      ]
    },
    {
      "cell_type": "markdown",
      "metadata": {
        "id": "rFH7Zmb9VDc7"
      },
      "source": [
        "## 모델훈련하기"
      ]
    },
    {
      "cell_type": "code",
      "metadata": {
        "colab": {
          "base_uri": "https://localhost:8080/"
        },
        "id": "SvAeI11fUUod",
        "outputId": "ef27844c-8c55-444c-dc56-92ed25a33aec"
      },
      "source": [
        "rmsprop = keras.optimizers.RMSprop(learning_rate=1e-4)\n",
        "model.compile(optimizer=rmsprop, loss='binary_crossentropy', metrics=['accuracy'])\n",
        "checkpoint_cb = keras.callbacks.ModelCheckpoint('best-simplernn-model.h5', save_best_only=True)\n",
        "early_stopping_cb = keras.callbacks.EarlyStopping(patience=3, restore_best_weights=True)\n",
        "history = model.fit(train_oh, train_target, epochs=100, batch_size=64,\n",
        "                    validation_data=(val_oh, val_target),\n",
        "                    callbacks=[checkpoint_cb, early_stopping_cb])"
      ],
      "execution_count": 22,
      "outputs": [
        {
          "output_type": "stream",
          "name": "stdout",
          "text": [
            "Epoch 1/100\n",
            "313/313 [==============================] - 15s 42ms/step - loss: 0.6969 - accuracy: 0.5037 - val_loss: 0.6945 - val_accuracy: 0.5092\n",
            "Epoch 2/100\n",
            "313/313 [==============================] - 13s 41ms/step - loss: 0.6930 - accuracy: 0.5167 - val_loss: 0.6923 - val_accuracy: 0.5192\n",
            "Epoch 3/100\n",
            "313/313 [==============================] - 13s 41ms/step - loss: 0.6906 - accuracy: 0.5267 - val_loss: 0.6910 - val_accuracy: 0.5234\n",
            "Epoch 4/100\n",
            "313/313 [==============================] - 13s 40ms/step - loss: 0.6888 - accuracy: 0.5372 - val_loss: 0.6898 - val_accuracy: 0.5326\n",
            "Epoch 5/100\n",
            "313/313 [==============================] - 13s 40ms/step - loss: 0.6871 - accuracy: 0.5470 - val_loss: 0.6886 - val_accuracy: 0.5396\n",
            "Epoch 6/100\n",
            "313/313 [==============================] - 13s 41ms/step - loss: 0.6853 - accuracy: 0.5547 - val_loss: 0.6875 - val_accuracy: 0.5478\n",
            "Epoch 7/100\n",
            "313/313 [==============================] - 13s 41ms/step - loss: 0.6835 - accuracy: 0.5597 - val_loss: 0.6863 - val_accuracy: 0.5540\n",
            "Epoch 8/100\n",
            "313/313 [==============================] - 13s 41ms/step - loss: 0.6815 - accuracy: 0.5697 - val_loss: 0.6850 - val_accuracy: 0.5586\n",
            "Epoch 9/100\n",
            "313/313 [==============================] - 12s 40ms/step - loss: 0.6793 - accuracy: 0.5748 - val_loss: 0.6836 - val_accuracy: 0.5584\n",
            "Epoch 10/100\n",
            "313/313 [==============================] - 13s 40ms/step - loss: 0.6770 - accuracy: 0.5822 - val_loss: 0.6822 - val_accuracy: 0.5606\n",
            "Epoch 11/100\n",
            "313/313 [==============================] - 13s 42ms/step - loss: 0.6745 - accuracy: 0.5883 - val_loss: 0.6804 - val_accuracy: 0.5634\n",
            "Epoch 12/100\n",
            "313/313 [==============================] - 13s 41ms/step - loss: 0.6715 - accuracy: 0.5936 - val_loss: 0.6781 - val_accuracy: 0.5630\n",
            "Epoch 13/100\n",
            "313/313 [==============================] - 13s 42ms/step - loss: 0.6649 - accuracy: 0.6077 - val_loss: 0.6653 - val_accuracy: 0.6018\n",
            "Epoch 14/100\n",
            "313/313 [==============================] - 13s 42ms/step - loss: 0.6454 - accuracy: 0.6471 - val_loss: 0.6418 - val_accuracy: 0.6502\n",
            "Epoch 15/100\n",
            "313/313 [==============================] - 13s 40ms/step - loss: 0.6208 - accuracy: 0.6741 - val_loss: 0.6168 - val_accuracy: 0.6774\n",
            "Epoch 16/100\n",
            "313/313 [==============================] - 14s 43ms/step - loss: 0.5938 - accuracy: 0.6995 - val_loss: 0.5909 - val_accuracy: 0.6992\n",
            "Epoch 17/100\n",
            "313/313 [==============================] - 13s 40ms/step - loss: 0.5694 - accuracy: 0.7190 - val_loss: 0.5698 - val_accuracy: 0.7196\n",
            "Epoch 18/100\n",
            "313/313 [==============================] - 13s 42ms/step - loss: 0.5490 - accuracy: 0.7340 - val_loss: 0.5514 - val_accuracy: 0.7312\n",
            "Epoch 19/100\n",
            "313/313 [==============================] - 13s 41ms/step - loss: 0.5320 - accuracy: 0.7463 - val_loss: 0.5389 - val_accuracy: 0.7368\n",
            "Epoch 20/100\n",
            "313/313 [==============================] - 13s 42ms/step - loss: 0.5169 - accuracy: 0.7569 - val_loss: 0.5286 - val_accuracy: 0.7492\n",
            "Epoch 21/100\n",
            "313/313 [==============================] - 13s 41ms/step - loss: 0.5048 - accuracy: 0.7660 - val_loss: 0.5184 - val_accuracy: 0.7520\n",
            "Epoch 22/100\n",
            "313/313 [==============================] - 14s 43ms/step - loss: 0.4940 - accuracy: 0.7718 - val_loss: 0.5111 - val_accuracy: 0.7558\n",
            "Epoch 23/100\n",
            "313/313 [==============================] - 13s 41ms/step - loss: 0.4842 - accuracy: 0.7788 - val_loss: 0.5037 - val_accuracy: 0.7592\n",
            "Epoch 24/100\n",
            "313/313 [==============================] - 13s 42ms/step - loss: 0.4764 - accuracy: 0.7847 - val_loss: 0.4957 - val_accuracy: 0.7666\n",
            "Epoch 25/100\n",
            "313/313 [==============================] - 13s 42ms/step - loss: 0.4692 - accuracy: 0.7887 - val_loss: 0.4989 - val_accuracy: 0.7610\n",
            "Epoch 26/100\n",
            "313/313 [==============================] - 13s 41ms/step - loss: 0.4635 - accuracy: 0.7926 - val_loss: 0.4873 - val_accuracy: 0.7730\n",
            "Epoch 27/100\n",
            "313/313 [==============================] - 13s 42ms/step - loss: 0.4580 - accuracy: 0.7939 - val_loss: 0.4973 - val_accuracy: 0.7618\n",
            "Epoch 28/100\n",
            "313/313 [==============================] - 13s 42ms/step - loss: 0.4529 - accuracy: 0.7977 - val_loss: 0.4796 - val_accuracy: 0.7754\n",
            "Epoch 29/100\n",
            "313/313 [==============================] - 14s 43ms/step - loss: 0.4491 - accuracy: 0.7992 - val_loss: 0.4751 - val_accuracy: 0.7826\n",
            "Epoch 30/100\n",
            "313/313 [==============================] - 13s 41ms/step - loss: 0.4453 - accuracy: 0.8015 - val_loss: 0.4740 - val_accuracy: 0.7774\n",
            "Epoch 31/100\n",
            "313/313 [==============================] - 13s 40ms/step - loss: 0.4417 - accuracy: 0.8033 - val_loss: 0.4715 - val_accuracy: 0.7788\n",
            "Epoch 32/100\n",
            "313/313 [==============================] - 13s 41ms/step - loss: 0.4382 - accuracy: 0.8048 - val_loss: 0.4712 - val_accuracy: 0.7798\n",
            "Epoch 33/100\n",
            "313/313 [==============================] - 13s 40ms/step - loss: 0.4358 - accuracy: 0.8083 - val_loss: 0.4667 - val_accuracy: 0.7850\n",
            "Epoch 34/100\n",
            "313/313 [==============================] - 13s 40ms/step - loss: 0.4338 - accuracy: 0.8081 - val_loss: 0.4638 - val_accuracy: 0.7860\n",
            "Epoch 35/100\n",
            "313/313 [==============================] - 13s 40ms/step - loss: 0.4315 - accuracy: 0.8088 - val_loss: 0.4636 - val_accuracy: 0.7838\n",
            "Epoch 36/100\n",
            "313/313 [==============================] - 13s 42ms/step - loss: 0.4291 - accuracy: 0.8105 - val_loss: 0.4635 - val_accuracy: 0.7866\n",
            "Epoch 37/100\n",
            "313/313 [==============================] - 13s 41ms/step - loss: 0.4268 - accuracy: 0.8112 - val_loss: 0.4640 - val_accuracy: 0.7872\n",
            "Epoch 38/100\n",
            "313/313 [==============================] - 13s 42ms/step - loss: 0.4253 - accuracy: 0.8120 - val_loss: 0.4595 - val_accuracy: 0.7874\n",
            "Epoch 39/100\n",
            "313/313 [==============================] - 14s 43ms/step - loss: 0.4236 - accuracy: 0.8120 - val_loss: 0.4576 - val_accuracy: 0.7862\n",
            "Epoch 40/100\n",
            "313/313 [==============================] - 13s 43ms/step - loss: 0.4217 - accuracy: 0.8130 - val_loss: 0.4584 - val_accuracy: 0.7884\n",
            "Epoch 41/100\n",
            "313/313 [==============================] - 13s 41ms/step - loss: 0.4205 - accuracy: 0.8159 - val_loss: 0.4569 - val_accuracy: 0.7898\n",
            "Epoch 42/100\n",
            "313/313 [==============================] - 13s 42ms/step - loss: 0.4178 - accuracy: 0.8166 - val_loss: 0.4611 - val_accuracy: 0.7882\n",
            "Epoch 43/100\n",
            "313/313 [==============================] - 13s 43ms/step - loss: 0.4176 - accuracy: 0.8158 - val_loss: 0.4583 - val_accuracy: 0.7878\n",
            "Epoch 44/100\n",
            "313/313 [==============================] - 13s 42ms/step - loss: 0.4157 - accuracy: 0.8163 - val_loss: 0.4569 - val_accuracy: 0.7866\n"
          ]
        }
      ]
    },
    {
      "cell_type": "code",
      "metadata": {
        "colab": {
          "base_uri": "https://localhost:8080/"
        },
        "id": "gXeClvxPY4O9",
        "outputId": "9f77a640-26bf-47e4-9fce-d6617f2bd71f"
      },
      "source": [
        "print(early_stopping_cb.stopped_epoch)"
      ],
      "execution_count": 25,
      "outputs": [
        {
          "output_type": "stream",
          "name": "stdout",
          "text": [
            "43\n"
          ]
        }
      ]
    },
    {
      "cell_type": "code",
      "metadata": {
        "colab": {
          "base_uri": "https://localhost:8080/",
          "height": 278
        },
        "id": "8nrwbWCCV_53",
        "outputId": "1bae7825-cb85-4acb-9a07-ea65bb69e63f"
      },
      "source": [
        "plt.plot(history.history['loss'])\n",
        "plt.plot(history.history['val_loss'])\n",
        "plt.xlabel('epoch')\n",
        "plt.ylabel('loss')\n",
        "plt.legend(['train','val'])\n",
        "plt.show()"
      ],
      "execution_count": 23,
      "outputs": [
        {
          "output_type": "display_data",
          "data": {
            "image/png": "[encoded data removed]",
            "text/plain": [
              "<Figure size 432x288 with 1 Axes>"
            ]
          },
          "metadata": {
            "needs_background": "light"
          }
        }
      ]
    },
    {
      "cell_type": "code",
      "metadata": {
        "colab": {
          "base_uri": "https://localhost:8080/"
        },
        "id": "b0paVLENWyPq",
        "outputId": "36139f3f-1340-4ec2-a793-2bfd03245849"
      },
      "source": [
        "print(train_seq.nbytes, train_oh.nbytes)"
      ],
      "execution_count": 24,
      "outputs": [
        {
          "output_type": "stream",
          "name": "stdout",
          "text": [
            "8000000 4000000000\n"
          ]
        }
      ]
    },
    {
      "cell_type": "markdown",
      "metadata": {
        "id": "YcxoKJVyobkM"
      },
      "source": [
        "## 단어임베딩"
      ]
    },
    {
      "cell_type": "code",
      "metadata": {
        "id": "GV3OM5ddYacQ"
      },
      "source": [
        "model2 = keras.Sequential()\n",
        "model2.add(keras.layers.Embedding(500, 16, input_length=100))\n",
        "model2.add(keras.layers.SimpleRNN(8))\n",
        "model2.add(keras.layers.Dense(1, activation='sigmoid'))"
      ],
      "execution_count": 26,
      "outputs": []
    },
    {
      "cell_type": "code",
      "metadata": {
        "colab": {
          "base_uri": "https://localhost:8080/"
        },
        "id": "kRgmNlZMo0DZ",
        "outputId": "9af23f4c-c0fe-4477-a0e6-def9190e45da"
      },
      "source": [
        "model2.summary()"
      ],
      "execution_count": 27,
      "outputs": [
        {
          "output_type": "stream",
          "name": "stdout",
          "text": [
            "Model: \"sequential_1\"\n",
            "_________________________________________________________________\n",
            " Layer (type)                Output Shape              Param #   \n",
            "=================================================================\n",
            " embedding (Embedding)       (None, 100, 16)           8000      \n",
            "                                                                 \n",
            " simple_rnn_1 (SimpleRNN)    (None, 8)                 200       \n",
            "                                                                 \n",
            " dense_1 (Dense)             (None, 1)                 9         \n",
            "                                                                 \n",
            "=================================================================\n",
            "Total params: 8,209\n",
            "Trainable params: 8,209\n",
            "Non-trainable params: 0\n",
            "_________________________________________________________________\n"
          ]
        }
      ]
    },
    {
      "cell_type": "code",
      "metadata": {
        "colab": {
          "base_uri": "https://localhost:8080/"
        },
        "id": "ob1tuUhhppce",
        "outputId": "4452c2e6-fd04-4251-e3dc-f224de19544f"
      },
      "source": [
        "rmsprop = keras.optimizers.RMSprop(learning_rate=1e-4)\n",
        "model2.compile(optimizer=rmsprop, loss='binary_crossentropy',\n",
        "               metrics=['accuracy'])\n",
        "checkpoint_cb = keras.callbacks.ModelCheckpoint('best-embedding-model.h5', save_best_only=True)\n",
        "early_stopping_cb = keras.callbacks.EarlyStopping(patience=3, restore_best_weights=True)\n",
        "history = model2.fit(train_seq, train_target, epochs=100, batch_size=64,\n",
        "                     validation_data=(val_seq, val_target),\n",
        "                     callbacks=[checkpoint_cb, early_stopping_cb])"
      ],
      "execution_count": 28,
      "outputs": [
        {
          "output_type": "stream",
          "name": "stdout",
          "text": [
            "Epoch 1/100\n",
            "313/313 [==============================] - 9s 26ms/step - loss: 0.6786 - accuracy: 0.5733 - val_loss: 0.6558 - val_accuracy: 0.6336\n",
            "Epoch 2/100\n",
            "313/313 [==============================] - 8s 24ms/step - loss: 0.6332 - accuracy: 0.6715 - val_loss: 0.6172 - val_accuracy: 0.6934\n",
            "Epoch 3/100\n",
            "313/313 [==============================] - 8s 24ms/step - loss: 0.5977 - accuracy: 0.7196 - val_loss: 0.5923 - val_accuracy: 0.7218\n",
            "Epoch 4/100\n",
            "313/313 [==============================] - 8s 25ms/step - loss: 0.5702 - accuracy: 0.7448 - val_loss: 0.5696 - val_accuracy: 0.7408\n",
            "Epoch 5/100\n",
            "313/313 [==============================] - 8s 24ms/step - loss: 0.5464 - accuracy: 0.7624 - val_loss: 0.5476 - val_accuracy: 0.7596\n",
            "Epoch 6/100\n",
            "313/313 [==============================] - 8s 24ms/step - loss: 0.5271 - accuracy: 0.7724 - val_loss: 0.5301 - val_accuracy: 0.7656\n",
            "Epoch 7/100\n",
            "313/313 [==============================] - 8s 24ms/step - loss: 0.5097 - accuracy: 0.7822 - val_loss: 0.5223 - val_accuracy: 0.7660\n",
            "Epoch 8/100\n",
            "313/313 [==============================] - 8s 25ms/step - loss: 0.4949 - accuracy: 0.7873 - val_loss: 0.5103 - val_accuracy: 0.7686\n",
            "Epoch 9/100\n",
            "313/313 [==============================] - 8s 24ms/step - loss: 0.4816 - accuracy: 0.7929 - val_loss: 0.4971 - val_accuracy: 0.7740\n",
            "Epoch 10/100\n",
            "313/313 [==============================] - 7s 24ms/step - loss: 0.4705 - accuracy: 0.7981 - val_loss: 0.4881 - val_accuracy: 0.7794\n",
            "Epoch 11/100\n",
            "313/313 [==============================] - 7s 24ms/step - loss: 0.4607 - accuracy: 0.8020 - val_loss: 0.4796 - val_accuracy: 0.7834\n",
            "Epoch 12/100\n",
            "313/313 [==============================] - 7s 24ms/step - loss: 0.4516 - accuracy: 0.8075 - val_loss: 0.4786 - val_accuracy: 0.7788\n",
            "Epoch 13/100\n",
            "313/313 [==============================] - 8s 24ms/step - loss: 0.4442 - accuracy: 0.8096 - val_loss: 0.4716 - val_accuracy: 0.7868\n",
            "Epoch 14/100\n",
            "313/313 [==============================] - 8s 24ms/step - loss: 0.4377 - accuracy: 0.8133 - val_loss: 0.4676 - val_accuracy: 0.7866\n",
            "Epoch 15/100\n",
            "313/313 [==============================] - 8s 25ms/step - loss: 0.4318 - accuracy: 0.8114 - val_loss: 0.4844 - val_accuracy: 0.7718\n",
            "Epoch 16/100\n",
            "313/313 [==============================] - 8s 24ms/step - loss: 0.4268 - accuracy: 0.8162 - val_loss: 0.4729 - val_accuracy: 0.7782\n",
            "Epoch 17/100\n",
            "313/313 [==============================] - 8s 24ms/step - loss: 0.4224 - accuracy: 0.8183 - val_loss: 0.4569 - val_accuracy: 0.7902\n",
            "Epoch 18/100\n",
            "313/313 [==============================] - 7s 24ms/step - loss: 0.4193 - accuracy: 0.8174 - val_loss: 0.4605 - val_accuracy: 0.7898\n",
            "Epoch 19/100\n",
            "313/313 [==============================] - 7s 24ms/step - loss: 0.4161 - accuracy: 0.8181 - val_loss: 0.4562 - val_accuracy: 0.7878\n",
            "Epoch 20/100\n",
            "313/313 [==============================] - 8s 25ms/step - loss: 0.4122 - accuracy: 0.8205 - val_loss: 0.4557 - val_accuracy: 0.7888\n",
            "Epoch 21/100\n",
            "313/313 [==============================] - 8s 25ms/step - loss: 0.4093 - accuracy: 0.8220 - val_loss: 0.4524 - val_accuracy: 0.7894\n",
            "Epoch 22/100\n",
            "313/313 [==============================] - 8s 25ms/step - loss: 0.4069 - accuracy: 0.8230 - val_loss: 0.4561 - val_accuracy: 0.7836\n",
            "Epoch 23/100\n",
            "313/313 [==============================] - 8s 25ms/step - loss: 0.4039 - accuracy: 0.8245 - val_loss: 0.4543 - val_accuracy: 0.7892\n",
            "Epoch 24/100\n",
            "313/313 [==============================] - 8s 26ms/step - loss: 0.4018 - accuracy: 0.8263 - val_loss: 0.4499 - val_accuracy: 0.7886\n",
            "Epoch 25/100\n",
            "313/313 [==============================] - 7s 24ms/step - loss: 0.3995 - accuracy: 0.8257 - val_loss: 0.4519 - val_accuracy: 0.7886\n",
            "Epoch 26/100\n",
            "313/313 [==============================] - 8s 24ms/step - loss: 0.3979 - accuracy: 0.8272 - val_loss: 0.4531 - val_accuracy: 0.7882\n",
            "Epoch 27/100\n",
            "313/313 [==============================] - 8s 25ms/step - loss: 0.3957 - accuracy: 0.8288 - val_loss: 0.4576 - val_accuracy: 0.7834\n"
          ]
        }
      ]
    },
    {
      "cell_type": "code",
      "metadata": {
        "colab": {
          "base_uri": "https://localhost:8080/"
        },
        "id": "LtHQfLzfsobe",
        "outputId": "6dba66b0-a744-45e7-f5fa-481472d35ad0"
      },
      "source": [
        "print(early_stopping_cb.stopped_epoch)"
      ],
      "execution_count": 30,
      "outputs": [
        {
          "output_type": "stream",
          "name": "stdout",
          "text": [
            "26\n"
          ]
        }
      ]
    },
    {
      "cell_type": "code",
      "metadata": {
        "colab": {
          "base_uri": "https://localhost:8080/",
          "height": 278
        },
        "id": "5k00ToMdrbN1",
        "outputId": "d17e470a-7c78-40c5-ee96-b1f4e6f0690e"
      },
      "source": [
        "plt.plot(history.history['loss'])\n",
        "plt.plot(history.history['val_loss'])\n",
        "plt.xlabel('epoch')\n",
        "plt.ylabel('loss')\n",
        "plt.legend(['train','val'])\n",
        "plt.show()"
      ],
      "execution_count": 29,
      "outputs": [
        {
          "output_type": "display_data",
          "data": {
            "image/png": "[encoded data removed]",
            "text/plain": [
              "<Figure size 432x288 with 1 Axes>"
            ]
          },
          "metadata": {
            "needs_background": "light"
          }
        }
      ]
    },
    {
      "cell_type": "code",
      "metadata": {
        "id": "W2amD7rBsmKY"
      },
      "source": [
        ""
      ],
      "execution_count": null,
      "outputs": []
    }
  ]
}