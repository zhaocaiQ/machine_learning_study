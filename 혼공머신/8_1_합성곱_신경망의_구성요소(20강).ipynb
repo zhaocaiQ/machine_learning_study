{
  "nbformat": 4,
  "nbformat_minor": 0,
  "metadata": {
    "colab": {
      "name": "﻿8-1.합성곱_신경망의_구성요소(20강).ipynb",
      "provenance": [],
      "authorship_tag": "ABX9TyPuJtpPvP5NymNjb3TqUBZf",
      "include_colab_link": true
    },
    "kernelspec": {
      "name": "python3",
      "display_name": "Python 3"
    },
    "language_info": {
      "name": "python"
    }
  },
  "cells": [
    {
      "cell_type": "markdown",
      "metadata": {
        "id": "view-in-github",
        "colab_type": "text"
      },
      "source": [
        "<a href=\"https://colab.research.google.com/github/zhaocaiQ/machine_learning_study/blob/master/8_1_%ED%95%A9%EC%84%B1%EA%B3%B1_%EC%8B%A0%EA%B2%BD%EB%A7%9D%EC%9D%98_%EA%B5%AC%EC%84%B1%EC%9A%94%EC%86%8C(20%EA%B0%95).ipynb\" target=\"_parent\"><img src=\"https://colab.research.google.com/assets/colab-badge.svg\" alt=\"Open In Colab\"/></a>"
      ]
    },
    {
      "cell_type": "markdown",
      "metadata": {
        "id": "K20IuGmCCXCd"
      },
      "source": [
        "#합성곱"
      ]
    },
    {
      "cell_type": "markdown",
      "metadata": {
        "id": "4r0bT7-xBvhF"
      },
      "source": [
        "## 케라스 합성곱 층"
      ]
    },
    {
      "cell_type": "code",
      "metadata": {
        "colab": {
          "base_uri": "https://localhost:8080/"
        },
        "id": "5_7NmgRRBnsF",
        "outputId": "215fea05-529e-40ba-f211-d5821590865e"
      },
      "source": [
        "from tensorflow import keras\n",
        "keras.layers.Conv2D(10, kernel_size=(3,3), activation='relu')"
      ],
      "execution_count": 1,
      "outputs": [
        {
          "output_type": "execute_result",
          "data": {
            "text/plain": [
              "<keras.layers.convolutional.Conv2D at 0x7f9ca5a82950>"
            ]
          },
          "metadata": {},
          "execution_count": 1
        }
      ]
    },
    {
      "cell_type": "markdown",
      "metadata": {
        "id": "kIr6sdSlJMFs"
      },
      "source": [
        "### 패딩(입력 주위로 칸 늘리기)설정"
      ]
    },
    {
      "cell_type": "code",
      "metadata": {
        "id": "tSxmHAmqCixT"
      },
      "source": [
        "keras.layers.Conv2D(10, kernel_size=(3,3), activation='relu', padding='same')"
      ],
      "execution_count": null,
      "outputs": []
    },
    {
      "cell_type": "markdown",
      "metadata": {
        "id": "Mu9no16IJN_l"
      },
      "source": [
        "### 스트라이드(이동칸수) 설정"
      ]
    },
    {
      "cell_type": "code",
      "metadata": {
        "id": "8dRDA_0nJLdW"
      },
      "source": [
        "keras.layers.Conv2D(10, kernel_size=(3,3), activation='relu', padding='same', strides=1)"
      ],
      "execution_count": null,
      "outputs": []
    },
    {
      "cell_type": "markdown",
      "metadata": {
        "id": "EtE59H9iMyMJ"
      },
      "source": [
        "## 케라스의 풀링 층"
      ]
    },
    {
      "cell_type": "markdown",
      "metadata": {
        "id": "6ferjwekOdmw"
      },
      "source": [
        "#### 최대풀링"
      ]
    },
    {
      "cell_type": "code",
      "metadata": {
        "colab": {
          "base_uri": "https://localhost:8080/"
        },
        "id": "UQmimRt9M1Qm",
        "outputId": "df24e776-8e5a-4481-ae4d-41173ee4973c"
      },
      "source": [
        "keras.layers.MaxPooling2D(2)\n",
        "keras.layers.MaxPooling2D(2, strides=2, padding='valid')"
      ],
      "execution_count": 2,
      "outputs": [
        {
          "output_type": "execute_result",
          "data": {
            "text/plain": [
              "<keras.layers.pooling.MaxPooling2D at 0x7f9c52e4b490>"
            ]
          },
          "metadata": {},
          "execution_count": 2
        }
      ]
    },
    {
      "cell_type": "markdown",
      "metadata": {
        "id": "SAferoY-Ogkn"
      },
      "source": [
        "#### 평균풀링"
      ]
    },
    {
      "cell_type": "code",
      "metadata": {
        "id": "m1VmEWLhM_0l"
      },
      "source": [
        "keras.layers.AveragePooling2D(2)"
      ],
      "execution_count": null,
      "outputs": []
    }
  ]
}