{
  "nbformat": 4,
  "nbformat_minor": 0,
  "metadata": {
    "colab": {
      "name": "﻿9-3.LSTM과_GRU셀(25강).ipynb",
      "provenance": [],
      "authorship_tag": "ABX9TyMG1rKyP2s8IntHGDjRQ1AD",
      "include_colab_link": true
    },
    "kernelspec": {
      "name": "python3",
      "display_name": "Python 3"
    },
    "language_info": {
      "name": "python"
    }
  },
  "cells": [
    {
      "cell_type": "markdown",
      "metadata": {
        "id": "view-in-github",
        "colab_type": "text"
      },
      "source": [
        "<a href=\"https://colab.research.google.com/github/zhaocaiQ/machine_learning_study/blob/master/9_3_LSTM%EA%B3%BC_GRU%EC%85%80(25%EA%B0%95).ipynb\" target=\"_parent\"><img src=\"https://colab.research.google.com/assets/colab-badge.svg\" alt=\"Open In Colab\"/></a>"
      ]
    },
    {
      "cell_type": "markdown",
      "metadata": {
        "id": "diIH4FPMBBiE"
      },
      "source": [
        "# LSTM신경망"
      ]
    },
    {
      "cell_type": "code",
      "metadata": {
        "id": "aMUcLkhHxBGg"
      },
      "source": [
        "from tensorflow.keras.datasets import imdb\n",
        "from sklearn.model_selection import train_test_split\n",
        "\n",
        "(train_input, train_target), (test_input, test_target) = imdb.load_data(\n",
        "    num_words=500)\n",
        "\n",
        "train_input, val_input, train_target, val_target = train_test_split(\n",
        "    train_input, train_target, test_size=0.2, random_state=42)"
      ],
      "execution_count": 18,
      "outputs": []
    },
    {
      "cell_type": "markdown",
      "metadata": {
        "id": "8LNczaMvCAyz"
      },
      "source": [
        "#### 리뷰길이 100으로 맞추기"
      ]
    },
    {
      "cell_type": "code",
      "metadata": {
        "id": "nMPNwCjDBpHi"
      },
      "source": [
        "from tensorflow.keras.preprocessing.sequence import pad_sequences\n",
        "\n",
        "train_seq = pad_sequences(train_input, maxlen=100)\n",
        "val_seq = pad_sequences(val_input, maxlen=100)"
      ],
      "execution_count": 19,
      "outputs": []
    },
    {
      "cell_type": "markdown",
      "metadata": {
        "id": "xeVrhRUlCGOZ"
      },
      "source": [
        "#### LSTM 셀을 사용한 순환층 만들기"
      ]
    },
    {
      "cell_type": "code",
      "metadata": {
        "colab": {
          "base_uri": "https://localhost:8080/"
        },
        "id": "vpEz4Rf8CATi",
        "outputId": "e2eea16c-956c-4715-9bbc-353c3cf24d16"
      },
      "source": [
        "from tensorflow import keras\n",
        "\n",
        "model = keras.Sequential()\n",
        "\n",
        "model.add(keras.layers.Embedding(500, 16, input_length=100))\n",
        "model.add(keras.layers.LSTM(8))\n",
        "model.add(keras.layers.Dense(1, activation='sigmoid'))\n",
        "\n",
        "model.summary()"
      ],
      "execution_count": 20,
      "outputs": [
        {
          "output_type": "stream",
          "name": "stdout",
          "text": [
            "Model: \"sequential_3\"\n",
            "_________________________________________________________________\n",
            " Layer (type)                Output Shape              Param #   \n",
            "=================================================================\n",
            " embedding_3 (Embedding)     (None, 100, 16)           8000      \n",
            "                                                                 \n",
            " lstm_3 (LSTM)               (None, 8)                 800       \n",
            "                                                                 \n",
            " dense_3 (Dense)             (None, 1)                 9         \n",
            "                                                                 \n",
            "=================================================================\n",
            "Total params: 8,809\n",
            "Trainable params: 8,809\n",
            "Non-trainable params: 0\n",
            "_________________________________________________________________\n"
          ]
        }
      ]
    },
    {
      "cell_type": "markdown",
      "metadata": {
        "id": "gmOLBST8D2AE"
      },
      "source": [
        "#### 모델 훈련하기"
      ]
    },
    {
      "cell_type": "code",
      "metadata": {
        "colab": {
          "base_uri": "https://localhost:8080/"
        },
        "id": "KUmzDLCRDW7k",
        "outputId": "d859b02c-5392-45cf-870e-27db7b7e7fb5"
      },
      "source": [
        "rmsprop = keras.optimizers.RMSprop(learning_rate=1e-4)\n",
        "model.compile(optimizer=rmsprop, loss='binary_crossentropy', \n",
        "              metrics=['accuracy'])\n",
        "\n",
        "checkpoint_cb = keras.callbacks.ModelCheckpoint('best-lstm-model.h5', \n",
        "                                                save_best_only=True)\n",
        "early_stopping_cb = keras.callbacks.EarlyStopping(patience=3,\n",
        "                                                  restore_best_weights=True)\n",
        "\n",
        "history = model.fit(train_seq, train_target, epochs=100, batch_size=64,\n",
        "                    validation_data=(val_seq, val_target),\n",
        "                    callbacks=[checkpoint_cb, early_stopping_cb])"
      ],
      "execution_count": 21,
      "outputs": [
        {
          "output_type": "stream",
          "name": "stdout",
          "text": [
            "Epoch 1/100\n",
            "313/313 [==============================] - 15s 42ms/step - loss: 0.6927 - accuracy: 0.5225 - val_loss: 0.6920 - val_accuracy: 0.5496\n",
            "Epoch 2/100\n",
            "313/313 [==============================] - 13s 41ms/step - loss: 0.6907 - accuracy: 0.5850 - val_loss: 0.6893 - val_accuracy: 0.5966\n",
            "Epoch 3/100\n",
            "313/313 [==============================] - 13s 41ms/step - loss: 0.6860 - accuracy: 0.6248 - val_loss: 0.6825 - val_accuracy: 0.6444\n",
            "Epoch 4/100\n",
            "313/313 [==============================] - 13s 41ms/step - loss: 0.6734 - accuracy: 0.6597 - val_loss: 0.6624 - val_accuracy: 0.6564\n",
            "Epoch 5/100\n",
            "313/313 [==============================] - 13s 41ms/step - loss: 0.6230 - accuracy: 0.6892 - val_loss: 0.5956 - val_accuracy: 0.7256\n",
            "Epoch 6/100\n",
            "313/313 [==============================] - 13s 41ms/step - loss: 0.5724 - accuracy: 0.7423 - val_loss: 0.5655 - val_accuracy: 0.7444\n",
            "Epoch 7/100\n",
            "313/313 [==============================] - 13s 41ms/step - loss: 0.5481 - accuracy: 0.7566 - val_loss: 0.5430 - val_accuracy: 0.7580\n",
            "Epoch 8/100\n",
            "313/313 [==============================] - 13s 41ms/step - loss: 0.5267 - accuracy: 0.7688 - val_loss: 0.5235 - val_accuracy: 0.7664\n",
            "Epoch 9/100\n",
            "313/313 [==============================] - 13s 41ms/step - loss: 0.5071 - accuracy: 0.7754 - val_loss: 0.5042 - val_accuracy: 0.7778\n",
            "Epoch 10/100\n",
            "313/313 [==============================] - 13s 41ms/step - loss: 0.4887 - accuracy: 0.7844 - val_loss: 0.4877 - val_accuracy: 0.7832\n",
            "Epoch 11/100\n",
            "313/313 [==============================] - 13s 41ms/step - loss: 0.4730 - accuracy: 0.7901 - val_loss: 0.4767 - val_accuracy: 0.7812\n",
            "Epoch 12/100\n",
            "313/313 [==============================] - 13s 41ms/step - loss: 0.4608 - accuracy: 0.7946 - val_loss: 0.4672 - val_accuracy: 0.7848\n",
            "Epoch 13/100\n",
            "313/313 [==============================] - 13s 41ms/step - loss: 0.4508 - accuracy: 0.7996 - val_loss: 0.4596 - val_accuracy: 0.7898\n",
            "Epoch 14/100\n",
            "313/313 [==============================] - 13s 41ms/step - loss: 0.4434 - accuracy: 0.8030 - val_loss: 0.4558 - val_accuracy: 0.7870\n",
            "Epoch 15/100\n",
            "313/313 [==============================] - 13s 41ms/step - loss: 0.4372 - accuracy: 0.8063 - val_loss: 0.4504 - val_accuracy: 0.7910\n",
            "Epoch 16/100\n",
            "313/313 [==============================] - 13s 41ms/step - loss: 0.4324 - accuracy: 0.8081 - val_loss: 0.4459 - val_accuracy: 0.7940\n",
            "Epoch 17/100\n",
            "313/313 [==============================] - 13s 41ms/step - loss: 0.4287 - accuracy: 0.8102 - val_loss: 0.4467 - val_accuracy: 0.7952\n",
            "Epoch 18/100\n",
            "313/313 [==============================] - 13s 41ms/step - loss: 0.4258 - accuracy: 0.8112 - val_loss: 0.4413 - val_accuracy: 0.7994\n",
            "Epoch 19/100\n",
            "313/313 [==============================] - 13s 41ms/step - loss: 0.4230 - accuracy: 0.8127 - val_loss: 0.4405 - val_accuracy: 0.7982\n",
            "Epoch 20/100\n",
            "313/313 [==============================] - 13s 41ms/step - loss: 0.4205 - accuracy: 0.8132 - val_loss: 0.4411 - val_accuracy: 0.8002\n",
            "Epoch 21/100\n",
            "313/313 [==============================] - 13s 41ms/step - loss: 0.4187 - accuracy: 0.8138 - val_loss: 0.4387 - val_accuracy: 0.8008\n",
            "Epoch 22/100\n",
            "313/313 [==============================] - 13s 41ms/step - loss: 0.4170 - accuracy: 0.8159 - val_loss: 0.4376 - val_accuracy: 0.7992\n",
            "Epoch 23/100\n",
            "313/313 [==============================] - 13s 41ms/step - loss: 0.4156 - accuracy: 0.8151 - val_loss: 0.4375 - val_accuracy: 0.8006\n",
            "Epoch 24/100\n",
            "313/313 [==============================] - 13s 42ms/step - loss: 0.4141 - accuracy: 0.8169 - val_loss: 0.4343 - val_accuracy: 0.8044\n",
            "Epoch 25/100\n",
            "313/313 [==============================] - 13s 42ms/step - loss: 0.4128 - accuracy: 0.8166 - val_loss: 0.4339 - val_accuracy: 0.8042\n",
            "Epoch 26/100\n",
            "313/313 [==============================] - 13s 41ms/step - loss: 0.4116 - accuracy: 0.8177 - val_loss: 0.4338 - val_accuracy: 0.8054\n",
            "Epoch 27/100\n",
            "313/313 [==============================] - 13s 41ms/step - loss: 0.4107 - accuracy: 0.8184 - val_loss: 0.4386 - val_accuracy: 0.7948\n",
            "Epoch 28/100\n",
            "313/313 [==============================] - 13s 41ms/step - loss: 0.4094 - accuracy: 0.8189 - val_loss: 0.4321 - val_accuracy: 0.7984\n",
            "Epoch 29/100\n",
            "313/313 [==============================] - 13s 41ms/step - loss: 0.4085 - accuracy: 0.8184 - val_loss: 0.4315 - val_accuracy: 0.8006\n",
            "Epoch 30/100\n",
            "313/313 [==============================] - 13s 42ms/step - loss: 0.4079 - accuracy: 0.8170 - val_loss: 0.4329 - val_accuracy: 0.8090\n",
            "Epoch 31/100\n",
            "313/313 [==============================] - 13s 42ms/step - loss: 0.4069 - accuracy: 0.8191 - val_loss: 0.4312 - val_accuracy: 0.8024\n",
            "Epoch 32/100\n",
            "313/313 [==============================] - 13s 42ms/step - loss: 0.4063 - accuracy: 0.8203 - val_loss: 0.4314 - val_accuracy: 0.8084\n",
            "Epoch 33/100\n",
            "313/313 [==============================] - 13s 42ms/step - loss: 0.4053 - accuracy: 0.8192 - val_loss: 0.4292 - val_accuracy: 0.8040\n",
            "Epoch 34/100\n",
            "313/313 [==============================] - 13s 42ms/step - loss: 0.4047 - accuracy: 0.8195 - val_loss: 0.4294 - val_accuracy: 0.8074\n",
            "Epoch 35/100\n",
            "313/313 [==============================] - 13s 41ms/step - loss: 0.4039 - accuracy: 0.8181 - val_loss: 0.4296 - val_accuracy: 0.8076\n",
            "Epoch 36/100\n",
            "313/313 [==============================] - 13s 42ms/step - loss: 0.4030 - accuracy: 0.8187 - val_loss: 0.4278 - val_accuracy: 0.8066\n",
            "Epoch 37/100\n",
            "313/313 [==============================] - 13s 41ms/step - loss: 0.4022 - accuracy: 0.8191 - val_loss: 0.4273 - val_accuracy: 0.8068\n",
            "Epoch 38/100\n",
            "313/313 [==============================] - 13s 41ms/step - loss: 0.4018 - accuracy: 0.8210 - val_loss: 0.4275 - val_accuracy: 0.8066\n",
            "Epoch 39/100\n",
            "313/313 [==============================] - 13s 41ms/step - loss: 0.4006 - accuracy: 0.8214 - val_loss: 0.4264 - val_accuracy: 0.8092\n",
            "Epoch 40/100\n",
            "313/313 [==============================] - 13s 42ms/step - loss: 0.3999 - accuracy: 0.8212 - val_loss: 0.4268 - val_accuracy: 0.8078\n",
            "Epoch 41/100\n",
            "313/313 [==============================] - 13s 42ms/step - loss: 0.3992 - accuracy: 0.8207 - val_loss: 0.4260 - val_accuracy: 0.8060\n",
            "Epoch 42/100\n",
            "313/313 [==============================] - 13s 41ms/step - loss: 0.3988 - accuracy: 0.8228 - val_loss: 0.4261 - val_accuracy: 0.8076\n",
            "Epoch 43/100\n",
            "313/313 [==============================] - 13s 42ms/step - loss: 0.3981 - accuracy: 0.8213 - val_loss: 0.4267 - val_accuracy: 0.8058\n",
            "Epoch 44/100\n",
            "313/313 [==============================] - 13s 42ms/step - loss: 0.3976 - accuracy: 0.8223 - val_loss: 0.4294 - val_accuracy: 0.8046\n"
          ]
        }
      ]
    },
    {
      "cell_type": "code",
      "metadata": {
        "colab": {
          "base_uri": "https://localhost:8080/",
          "height": 279
        },
        "id": "e5MfTpCREzfN",
        "outputId": "69445686-feca-4214-f310-5c216d6c755b"
      },
      "source": [
        "import matplotlib.pyplot as plt\n",
        "\n",
        "plt.plot(history.history['loss'])\n",
        "plt.plot(history.history['val_loss'])\n",
        "plt.xlabel('epoch')\n",
        "plt.ylabel('loss')\n",
        "plt.legend(['train', 'val'])\n",
        "plt.show()"
      ],
      "execution_count": 23,
      "outputs": [
        {
          "output_type": "display_data",
          "data": {
            "image/png": "[encoded data removed]",
            "text/plain": [
              "<Figure size 432x288 with 1 Axes>"
            ]
          },
          "metadata": {
            "needs_background": "light"
          }
        }
      ]
    },
    {
      "cell_type": "markdown",
      "metadata": {
        "id": "PwW78_OXI0iF"
      },
      "source": [
        "### 드롭아웃으로 과대적합 더 억제하기"
      ]
    },
    {
      "cell_type": "code",
      "metadata": {
        "id": "8c99CoZVHUk0"
      },
      "source": [
        "model2 = keras.Sequential()\n",
        "\n",
        "model2.add(keras.layers.Embedding(500, 16, input_length=100))\n",
        "model2.add(keras.layers.LSTM(8, dropout=0.3))\n",
        "model2.add(keras.layers.Dense(1, activation='sigmoid'))"
      ],
      "execution_count": 24,
      "outputs": []
    },
    {
      "cell_type": "code",
      "metadata": {
        "colab": {
          "base_uri": "https://localhost:8080/"
        },
        "id": "y624IgzwJNbF",
        "outputId": "0322dde2-67ee-472b-ae8a-f1fca8e3ca77"
      },
      "source": [
        "rmsprop = keras.optimizers.RMSprop(learning_rate=1e-4)\n",
        "model2.compile(optimizer=rmsprop, loss='binary_crossentropy', \n",
        "               metrics=['accuracy'])\n",
        "\n",
        "checkpoint_cb = keras.callbacks.ModelCheckpoint('best-dropout-model.h5', \n",
        "                                                save_best_only=True)\n",
        "early_stopping_cb = keras.callbacks.EarlyStopping(patience=3,\n",
        "                                                  restore_best_weights=True)\n",
        "\n",
        "history = model2.fit(train_seq, train_target, epochs=100, batch_size=64,\n",
        "                     validation_data=(val_seq, val_target),\n",
        "                     callbacks=[checkpoint_cb, early_stopping_cb])"
      ],
      "execution_count": 25,
      "outputs": [
        {
          "output_type": "stream",
          "name": "stdout",
          "text": [
            "Epoch 1/100\n",
            "313/313 [==============================] - 16s 44ms/step - loss: 0.6924 - accuracy: 0.5385 - val_loss: 0.6913 - val_accuracy: 0.6082\n",
            "Epoch 2/100\n",
            "313/313 [==============================] - 13s 43ms/step - loss: 0.6884 - accuracy: 0.6342 - val_loss: 0.6823 - val_accuracy: 0.6408\n",
            "Epoch 3/100\n",
            "313/313 [==============================] - 13s 42ms/step - loss: 0.6534 - accuracy: 0.6654 - val_loss: 0.6187 - val_accuracy: 0.7120\n",
            "Epoch 4/100\n",
            "313/313 [==============================] - 13s 43ms/step - loss: 0.6127 - accuracy: 0.7124 - val_loss: 0.6000 - val_accuracy: 0.7202\n",
            "Epoch 5/100\n",
            "313/313 [==============================] - 13s 42ms/step - loss: 0.5937 - accuracy: 0.7252 - val_loss: 0.5864 - val_accuracy: 0.7262\n",
            "Epoch 6/100\n",
            "313/313 [==============================] - 13s 42ms/step - loss: 0.5811 - accuracy: 0.7355 - val_loss: 0.5711 - val_accuracy: 0.7482\n",
            "Epoch 7/100\n",
            "313/313 [==============================] - 13s 43ms/step - loss: 0.5670 - accuracy: 0.7447 - val_loss: 0.5590 - val_accuracy: 0.7518\n",
            "Epoch 8/100\n",
            "313/313 [==============================] - 13s 42ms/step - loss: 0.5542 - accuracy: 0.7520 - val_loss: 0.5477 - val_accuracy: 0.7630\n",
            "Epoch 9/100\n",
            "313/313 [==============================] - 13s 43ms/step - loss: 0.5431 - accuracy: 0.7584 - val_loss: 0.5379 - val_accuracy: 0.7600\n",
            "Epoch 10/100\n",
            "313/313 [==============================] - 14s 43ms/step - loss: 0.5294 - accuracy: 0.7656 - val_loss: 0.5247 - val_accuracy: 0.7722\n",
            "Epoch 11/100\n",
            "313/313 [==============================] - 13s 43ms/step - loss: 0.5169 - accuracy: 0.7710 - val_loss: 0.5130 - val_accuracy: 0.7716\n",
            "Epoch 12/100\n",
            "313/313 [==============================] - 13s 43ms/step - loss: 0.5041 - accuracy: 0.7749 - val_loss: 0.5012 - val_accuracy: 0.7798\n",
            "Epoch 13/100\n",
            "313/313 [==============================] - 13s 43ms/step - loss: 0.4913 - accuracy: 0.7862 - val_loss: 0.4891 - val_accuracy: 0.7820\n",
            "Epoch 14/100\n",
            "313/313 [==============================] - 13s 43ms/step - loss: 0.4810 - accuracy: 0.7880 - val_loss: 0.4820 - val_accuracy: 0.7836\n",
            "Epoch 15/100\n",
            "313/313 [==============================] - 13s 43ms/step - loss: 0.4740 - accuracy: 0.7888 - val_loss: 0.4734 - val_accuracy: 0.7858\n",
            "Epoch 16/100\n",
            "313/313 [==============================] - 13s 43ms/step - loss: 0.4642 - accuracy: 0.7944 - val_loss: 0.4664 - val_accuracy: 0.7904\n",
            "Epoch 17/100\n",
            "313/313 [==============================] - 13s 43ms/step - loss: 0.4593 - accuracy: 0.7951 - val_loss: 0.4622 - val_accuracy: 0.7888\n",
            "Epoch 18/100\n",
            "313/313 [==============================] - 13s 43ms/step - loss: 0.4540 - accuracy: 0.7979 - val_loss: 0.4582 - val_accuracy: 0.7920\n",
            "Epoch 19/100\n",
            "313/313 [==============================] - 13s 43ms/step - loss: 0.4491 - accuracy: 0.7979 - val_loss: 0.4544 - val_accuracy: 0.7940\n",
            "Epoch 20/100\n",
            "313/313 [==============================] - 13s 43ms/step - loss: 0.4450 - accuracy: 0.8015 - val_loss: 0.4524 - val_accuracy: 0.7944\n",
            "Epoch 21/100\n",
            "313/313 [==============================] - 13s 43ms/step - loss: 0.4430 - accuracy: 0.8003 - val_loss: 0.4491 - val_accuracy: 0.7946\n",
            "Epoch 22/100\n",
            "313/313 [==============================] - 14s 43ms/step - loss: 0.4393 - accuracy: 0.8011 - val_loss: 0.4472 - val_accuracy: 0.7962\n",
            "Epoch 23/100\n",
            "313/313 [==============================] - 13s 43ms/step - loss: 0.4344 - accuracy: 0.8016 - val_loss: 0.4458 - val_accuracy: 0.7966\n",
            "Epoch 24/100\n",
            "313/313 [==============================] - 13s 43ms/step - loss: 0.4338 - accuracy: 0.8019 - val_loss: 0.4439 - val_accuracy: 0.7924\n",
            "Epoch 25/100\n",
            "313/313 [==============================] - 13s 43ms/step - loss: 0.4320 - accuracy: 0.8041 - val_loss: 0.4419 - val_accuracy: 0.7950\n",
            "Epoch 26/100\n",
            "313/313 [==============================] - 14s 43ms/step - loss: 0.4300 - accuracy: 0.8044 - val_loss: 0.4408 - val_accuracy: 0.7962\n",
            "Epoch 27/100\n",
            "313/313 [==============================] - 13s 43ms/step - loss: 0.4282 - accuracy: 0.8066 - val_loss: 0.4395 - val_accuracy: 0.7960\n",
            "Epoch 28/100\n",
            "313/313 [==============================] - 14s 43ms/step - loss: 0.4267 - accuracy: 0.8060 - val_loss: 0.4397 - val_accuracy: 0.7976\n",
            "Epoch 29/100\n",
            "313/313 [==============================] - 14s 43ms/step - loss: 0.4252 - accuracy: 0.8054 - val_loss: 0.4386 - val_accuracy: 0.7974\n",
            "Epoch 30/100\n",
            "313/313 [==============================] - 14s 43ms/step - loss: 0.4244 - accuracy: 0.8081 - val_loss: 0.4375 - val_accuracy: 0.7968\n",
            "Epoch 31/100\n",
            "313/313 [==============================] - 14s 43ms/step - loss: 0.4219 - accuracy: 0.8094 - val_loss: 0.4385 - val_accuracy: 0.7986\n",
            "Epoch 32/100\n",
            "313/313 [==============================] - 13s 43ms/step - loss: 0.4211 - accuracy: 0.8065 - val_loss: 0.4386 - val_accuracy: 0.7932\n",
            "Epoch 33/100\n",
            "313/313 [==============================] - 14s 44ms/step - loss: 0.4224 - accuracy: 0.8070 - val_loss: 0.4352 - val_accuracy: 0.7966\n",
            "Epoch 34/100\n",
            "313/313 [==============================] - 14s 43ms/step - loss: 0.4196 - accuracy: 0.8081 - val_loss: 0.4363 - val_accuracy: 0.7974\n",
            "Epoch 35/100\n",
            "313/313 [==============================] - 13s 43ms/step - loss: 0.4196 - accuracy: 0.8081 - val_loss: 0.4343 - val_accuracy: 0.7996\n",
            "Epoch 36/100\n",
            "313/313 [==============================] - 13s 43ms/step - loss: 0.4193 - accuracy: 0.8067 - val_loss: 0.4354 - val_accuracy: 0.7940\n",
            "Epoch 37/100\n",
            "313/313 [==============================] - 14s 44ms/step - loss: 0.4178 - accuracy: 0.8095 - val_loss: 0.4349 - val_accuracy: 0.7920\n",
            "Epoch 38/100\n",
            "313/313 [==============================] - 13s 43ms/step - loss: 0.4163 - accuracy: 0.8094 - val_loss: 0.4345 - val_accuracy: 0.7932\n"
          ]
        }
      ]
    },
    {
      "cell_type": "code",
      "metadata": {
        "colab": {
          "base_uri": "https://localhost:8080/",
          "height": 279
        },
        "id": "KCvF-rqVJRBr",
        "outputId": "88efe001-6187-419e-be97-40c7c4f90f81"
      },
      "source": [
        "plt.plot(history.history['loss'])\n",
        "plt.plot(history.history['val_loss'])\n",
        "plt.xlabel('epoch')\n",
        "plt.ylabel('loss')\n",
        "plt.legend(['train', 'val'])\n",
        "plt.show()"
      ],
      "execution_count": 26,
      "outputs": [
        {
          "output_type": "display_data",
          "data": {
            "image/png": "[encoded data removed]",
            "text/plain": [
              "<Figure size 432x288 with 1 Axes>"
            ]
          },
          "metadata": {
            "needs_background": "light"
          }
        }
      ]
    },
    {
      "cell_type": "markdown",
      "metadata": {
        "id": "-MlNwsS7Jk2M"
      },
      "source": [
        "# 순환층 쌓기(2개의 층 연결하기)"
      ]
    },
    {
      "cell_type": "code",
      "metadata": {
        "colab": {
          "base_uri": "https://localhost:8080/"
        },
        "id": "L-saqsJeJpuY",
        "outputId": "a9f3afc9-4a66-4f51-a961-6be0b6a3952c"
      },
      "source": [
        "model3 = keras.Sequential()\n",
        "\n",
        "model3.add(keras.layers.Embedding(500, 16, input_length=100))\n",
        "model3.add(keras.layers.LSTM(8, dropout=0.3, return_sequences=True))\n",
        "model3.add(keras.layers.LSTM(8, dropout=0.3))\n",
        "model3.add(keras.layers.Dense(1, activation='sigmoid'))\n",
        "\n",
        "model3.summary()"
      ],
      "execution_count": 31,
      "outputs": [
        {
          "output_type": "stream",
          "name": "stdout",
          "text": [
            "Model: \"sequential_6\"\n",
            "_________________________________________________________________\n",
            " Layer (type)                Output Shape              Param #   \n",
            "=================================================================\n",
            " embedding_6 (Embedding)     (None, 100, 16)           8000      \n",
            "                                                                 \n",
            " lstm_7 (LSTM)               (None, 100, 8)            800       \n",
            "                                                                 \n",
            " lstm_8 (LSTM)               (None, 8)                 544       \n",
            "                                                                 \n",
            " dense_6 (Dense)             (None, 1)                 9         \n",
            "                                                                 \n",
            "=================================================================\n",
            "Total params: 9,353\n",
            "Trainable params: 9,353\n",
            "Non-trainable params: 0\n",
            "_________________________________________________________________\n"
          ]
        }
      ]
    },
    {
      "cell_type": "code",
      "metadata": {
        "colab": {
          "base_uri": "https://localhost:8080/"
        },
        "id": "GkCCWz5WKnZH",
        "outputId": "aa747288-064d-4d2f-af7d-c9059a2b2349"
      },
      "source": [
        "rmsprop = keras.optimizers.RMSprop(learning_rate=1e-4)\n",
        "model3.compile(optimizer=rmsprop, loss='binary_crossentropy', \n",
        "               metrics=['accuracy'])\n",
        "\n",
        "checkpoint_cb = keras.callbacks.ModelCheckpoint('best-2rnn-model.h5', \n",
        "                                                save_best_only=True)\n",
        "early_stopping_cb = keras.callbacks.EarlyStopping(patience=3,\n",
        "                                                  restore_best_weights=True)\n",
        "\n",
        "history = model3.fit(train_seq, train_target, epochs=100, batch_size=64,\n",
        "                     validation_data=(val_seq, val_target),\n",
        "                     callbacks=[checkpoint_cb, early_stopping_cb])"
      ],
      "execution_count": 32,
      "outputs": [
        {
          "output_type": "stream",
          "name": "stdout",
          "text": [
            "Epoch 1/100\n",
            "313/313 [==============================] - 30s 84ms/step - loss: 0.6928 - accuracy: 0.5248 - val_loss: 0.6924 - val_accuracy: 0.5474\n",
            "Epoch 2/100\n",
            "313/313 [==============================] - 25s 80ms/step - loss: 0.6903 - accuracy: 0.5749 - val_loss: 0.6871 - val_accuracy: 0.6504\n",
            "Epoch 3/100\n",
            "313/313 [==============================] - 25s 80ms/step - loss: 0.6681 - accuracy: 0.6748 - val_loss: 0.6297 - val_accuracy: 0.6896\n",
            "Epoch 4/100\n",
            "313/313 [==============================] - 25s 80ms/step - loss: 0.5839 - accuracy: 0.7128 - val_loss: 0.5517 - val_accuracy: 0.7368\n",
            "Epoch 5/100\n",
            "313/313 [==============================] - 25s 81ms/step - loss: 0.5376 - accuracy: 0.7439 - val_loss: 0.5101 - val_accuracy: 0.7640\n",
            "Epoch 6/100\n",
            "313/313 [==============================] - 25s 81ms/step - loss: 0.5032 - accuracy: 0.7624 - val_loss: 0.4929 - val_accuracy: 0.7644\n",
            "Epoch 7/100\n",
            "313/313 [==============================] - 25s 81ms/step - loss: 0.4850 - accuracy: 0.7743 - val_loss: 0.4718 - val_accuracy: 0.7810\n",
            "Epoch 8/100\n",
            "313/313 [==============================] - 25s 80ms/step - loss: 0.4743 - accuracy: 0.7820 - val_loss: 0.4633 - val_accuracy: 0.7870\n",
            "Epoch 9/100\n",
            "313/313 [==============================] - 25s 81ms/step - loss: 0.4669 - accuracy: 0.7835 - val_loss: 0.4585 - val_accuracy: 0.7872\n",
            "Epoch 10/100\n",
            "313/313 [==============================] - 25s 81ms/step - loss: 0.4585 - accuracy: 0.7902 - val_loss: 0.4542 - val_accuracy: 0.7860\n",
            "Epoch 11/100\n",
            "313/313 [==============================] - 25s 81ms/step - loss: 0.4558 - accuracy: 0.7897 - val_loss: 0.4565 - val_accuracy: 0.7914\n",
            "Epoch 12/100\n",
            "313/313 [==============================] - 25s 80ms/step - loss: 0.4519 - accuracy: 0.7918 - val_loss: 0.4586 - val_accuracy: 0.7892\n",
            "Epoch 13/100\n",
            "313/313 [==============================] - 25s 80ms/step - loss: 0.4463 - accuracy: 0.7941 - val_loss: 0.4473 - val_accuracy: 0.7888\n",
            "Epoch 14/100\n",
            "313/313 [==============================] - 25s 80ms/step - loss: 0.4447 - accuracy: 0.7973 - val_loss: 0.4440 - val_accuracy: 0.7940\n",
            "Epoch 15/100\n",
            "313/313 [==============================] - 25s 80ms/step - loss: 0.4414 - accuracy: 0.7951 - val_loss: 0.4432 - val_accuracy: 0.7940\n",
            "Epoch 16/100\n",
            "313/313 [==============================] - 25s 80ms/step - loss: 0.4402 - accuracy: 0.7980 - val_loss: 0.4414 - val_accuracy: 0.7966\n",
            "Epoch 17/100\n",
            "313/313 [==============================] - 25s 80ms/step - loss: 0.4394 - accuracy: 0.7983 - val_loss: 0.4455 - val_accuracy: 0.7966\n",
            "Epoch 18/100\n",
            "313/313 [==============================] - 25s 80ms/step - loss: 0.4358 - accuracy: 0.8000 - val_loss: 0.4472 - val_accuracy: 0.7958\n",
            "Epoch 19/100\n",
            "313/313 [==============================] - 26s 82ms/step - loss: 0.4341 - accuracy: 0.8035 - val_loss: 0.4407 - val_accuracy: 0.7936\n",
            "Epoch 20/100\n",
            "313/313 [==============================] - 26s 82ms/step - loss: 0.4316 - accuracy: 0.8015 - val_loss: 0.4376 - val_accuracy: 0.7966\n",
            "Epoch 21/100\n",
            "313/313 [==============================] - 25s 81ms/step - loss: 0.4316 - accuracy: 0.8024 - val_loss: 0.4364 - val_accuracy: 0.7970\n",
            "Epoch 22/100\n",
            "313/313 [==============================] - 25s 81ms/step - loss: 0.4313 - accuracy: 0.8036 - val_loss: 0.4369 - val_accuracy: 0.8030\n",
            "Epoch 23/100\n",
            "313/313 [==============================] - 25s 81ms/step - loss: 0.4268 - accuracy: 0.8058 - val_loss: 0.4358 - val_accuracy: 0.7988\n",
            "Epoch 24/100\n",
            "313/313 [==============================] - 25s 81ms/step - loss: 0.4289 - accuracy: 0.8023 - val_loss: 0.4361 - val_accuracy: 0.7960\n",
            "Epoch 25/100\n",
            "313/313 [==============================] - 25s 81ms/step - loss: 0.4252 - accuracy: 0.8059 - val_loss: 0.4349 - val_accuracy: 0.8016\n",
            "Epoch 26/100\n",
            "313/313 [==============================] - 25s 81ms/step - loss: 0.4242 - accuracy: 0.8099 - val_loss: 0.4352 - val_accuracy: 0.8008\n",
            "Epoch 27/100\n",
            "313/313 [==============================] - 25s 81ms/step - loss: 0.4238 - accuracy: 0.8045 - val_loss: 0.4390 - val_accuracy: 0.7908\n",
            "Epoch 28/100\n",
            "313/313 [==============================] - 26s 82ms/step - loss: 0.4227 - accuracy: 0.8069 - val_loss: 0.4383 - val_accuracy: 0.7950\n"
          ]
        }
      ]
    },
    {
      "cell_type": "code",
      "metadata": {
        "colab": {
          "base_uri": "https://localhost:8080/",
          "height": 279
        },
        "id": "IppqajI8KrGj",
        "outputId": "82806a88-6385-4b3e-fffd-dc1017bd3d2c"
      },
      "source": [
        "plt.plot(history.history['loss'])\n",
        "plt.plot(history.history['val_loss'])\n",
        "plt.xlabel('epoch')\n",
        "plt.ylabel('loss')\n",
        "plt.legend(['train', 'val'])\n",
        "plt.show()"
      ],
      "execution_count": 33,
      "outputs": [
        {
          "output_type": "display_data",
          "data": {
            "image/png": "[encoded data removed]",
            "text/plain": [
              "<Figure size 432x288 with 1 Axes>"
            ]
          },
          "metadata": {
            "needs_background": "light"
          }
        }
      ]
    },
    {
      "cell_type": "markdown",
      "metadata": {
        "id": "fzN9nXtoTtDi"
      },
      "source": [
        "# GRU 신경망"
      ]
    },
    {
      "cell_type": "code",
      "metadata": {
        "colab": {
          "base_uri": "https://localhost:8080/"
        },
        "id": "e_igHL5-QWw5",
        "outputId": "7eb3a148-9116-43c8-9049-14007c65cccb"
      },
      "source": [
        "model4 = keras.Sequential()\n",
        "\n",
        "model4.add(keras.layers.Embedding(500, 16, input_length=100))\n",
        "model4.add(keras.layers.GRU(8))\n",
        "model4.add(keras.layers.Dense(1, activation='sigmoid'))\n",
        "\n",
        "model4.summary()"
      ],
      "execution_count": 34,
      "outputs": [
        {
          "output_type": "stream",
          "name": "stdout",
          "text": [
            "Model: \"sequential_7\"\n",
            "_________________________________________________________________\n",
            " Layer (type)                Output Shape              Param #   \n",
            "=================================================================\n",
            " embedding_7 (Embedding)     (None, 100, 16)           8000      \n",
            "                                                                 \n",
            " gru (GRU)                   (None, 8)                 624       \n",
            "                                                                 \n",
            " dense_7 (Dense)             (None, 1)                 9         \n",
            "                                                                 \n",
            "=================================================================\n",
            "Total params: 8,633\n",
            "Trainable params: 8,633\n",
            "Non-trainable params: 0\n",
            "_________________________________________________________________\n"
          ]
        }
      ]
    },
    {
      "cell_type": "code",
      "metadata": {
        "colab": {
          "base_uri": "https://localhost:8080/"
        },
        "id": "NCYp5B0pTwaj",
        "outputId": "a4057969-22b6-44ec-86fb-ca05b9773561"
      },
      "source": [
        "rmsprop = keras.optimizers.RMSprop(learning_rate=1e-4)\n",
        "model4.compile(optimizer=rmsprop, loss='binary_crossentropy', \n",
        "               metrics=['accuracy'])\n",
        "\n",
        "checkpoint_cb = keras.callbacks.ModelCheckpoint('best-gru-model.h5', \n",
        "                                                save_best_only=True)\n",
        "early_stopping_cb = keras.callbacks.EarlyStopping(patience=3,\n",
        "                                                  restore_best_weights=True)\n",
        "\n",
        "history = model4.fit(train_seq, train_target, epochs=100, batch_size=64,\n",
        "                     validation_data=(val_seq, val_target),\n",
        "                     callbacks=[checkpoint_cb, early_stopping_cb])"
      ],
      "execution_count": 35,
      "outputs": [
        {
          "output_type": "stream",
          "name": "stdout",
          "text": [
            "Epoch 1/100\n",
            "313/313 [==============================] - 16s 46ms/step - loss: 0.6928 - accuracy: 0.5132 - val_loss: 0.6921 - val_accuracy: 0.5216\n",
            "Epoch 2/100\n",
            "313/313 [==============================] - 14s 45ms/step - loss: 0.6904 - accuracy: 0.5584 - val_loss: 0.6894 - val_accuracy: 0.5532\n",
            "Epoch 3/100\n",
            "313/313 [==============================] - 14s 45ms/step - loss: 0.6866 - accuracy: 0.5856 - val_loss: 0.6851 - val_accuracy: 0.5788\n",
            "Epoch 4/100\n",
            "313/313 [==============================] - 14s 44ms/step - loss: 0.6806 - accuracy: 0.6108 - val_loss: 0.6782 - val_accuracy: 0.5986\n",
            "Epoch 5/100\n",
            "313/313 [==============================] - 14s 45ms/step - loss: 0.6709 - accuracy: 0.6281 - val_loss: 0.6673 - val_accuracy: 0.6164\n",
            "Epoch 6/100\n",
            "313/313 [==============================] - 14s 46ms/step - loss: 0.6559 - accuracy: 0.6430 - val_loss: 0.6503 - val_accuracy: 0.6340\n",
            "Epoch 7/100\n",
            "313/313 [==============================] - 14s 46ms/step - loss: 0.6328 - accuracy: 0.6638 - val_loss: 0.6240 - val_accuracy: 0.6638\n",
            "Epoch 8/100\n",
            "313/313 [==============================] - 15s 46ms/step - loss: 0.5952 - accuracy: 0.6927 - val_loss: 0.5780 - val_accuracy: 0.7022\n",
            "Epoch 9/100\n",
            "313/313 [==============================] - 14s 45ms/step - loss: 0.5293 - accuracy: 0.7372 - val_loss: 0.5136 - val_accuracy: 0.7486\n",
            "Epoch 10/100\n",
            "313/313 [==============================] - 14s 46ms/step - loss: 0.4901 - accuracy: 0.7643 - val_loss: 0.4936 - val_accuracy: 0.7612\n",
            "Epoch 11/100\n",
            "313/313 [==============================] - 14s 45ms/step - loss: 0.4744 - accuracy: 0.7775 - val_loss: 0.4806 - val_accuracy: 0.7720\n",
            "Epoch 12/100\n",
            "313/313 [==============================] - 14s 45ms/step - loss: 0.4624 - accuracy: 0.7843 - val_loss: 0.4714 - val_accuracy: 0.7798\n",
            "Epoch 13/100\n",
            "313/313 [==============================] - 14s 46ms/step - loss: 0.4536 - accuracy: 0.7904 - val_loss: 0.4667 - val_accuracy: 0.7816\n",
            "Epoch 14/100\n",
            "313/313 [==============================] - 14s 46ms/step - loss: 0.4465 - accuracy: 0.7966 - val_loss: 0.4638 - val_accuracy: 0.7826\n",
            "Epoch 15/100\n",
            "313/313 [==============================] - 14s 46ms/step - loss: 0.4408 - accuracy: 0.7994 - val_loss: 0.4556 - val_accuracy: 0.7880\n",
            "Epoch 16/100\n",
            "313/313 [==============================] - 14s 46ms/step - loss: 0.4365 - accuracy: 0.8038 - val_loss: 0.4529 - val_accuracy: 0.7910\n",
            "Epoch 17/100\n",
            "313/313 [==============================] - 14s 46ms/step - loss: 0.4328 - accuracy: 0.8052 - val_loss: 0.4507 - val_accuracy: 0.7928\n",
            "Epoch 18/100\n",
            "313/313 [==============================] - 14s 45ms/step - loss: 0.4302 - accuracy: 0.8069 - val_loss: 0.4500 - val_accuracy: 0.7940\n",
            "Epoch 19/100\n",
            "313/313 [==============================] - 14s 46ms/step - loss: 0.4276 - accuracy: 0.8103 - val_loss: 0.4489 - val_accuracy: 0.7922\n",
            "Epoch 20/100\n",
            "313/313 [==============================] - 14s 45ms/step - loss: 0.4257 - accuracy: 0.8108 - val_loss: 0.4504 - val_accuracy: 0.7910\n",
            "Epoch 21/100\n",
            "313/313 [==============================] - 14s 45ms/step - loss: 0.4235 - accuracy: 0.8122 - val_loss: 0.4467 - val_accuracy: 0.7938\n",
            "Epoch 22/100\n",
            "313/313 [==============================] - 14s 45ms/step - loss: 0.4222 - accuracy: 0.8120 - val_loss: 0.4477 - val_accuracy: 0.7918\n",
            "Epoch 23/100\n",
            "313/313 [==============================] - 14s 45ms/step - loss: 0.4213 - accuracy: 0.8127 - val_loss: 0.4450 - val_accuracy: 0.7956\n",
            "Epoch 24/100\n",
            "313/313 [==============================] - 14s 46ms/step - loss: 0.4205 - accuracy: 0.8135 - val_loss: 0.4446 - val_accuracy: 0.7946\n",
            "Epoch 25/100\n",
            "313/313 [==============================] - 14s 46ms/step - loss: 0.4191 - accuracy: 0.8145 - val_loss: 0.4449 - val_accuracy: 0.7950\n",
            "Epoch 26/100\n",
            "313/313 [==============================] - 14s 46ms/step - loss: 0.4184 - accuracy: 0.8145 - val_loss: 0.4436 - val_accuracy: 0.7950\n",
            "Epoch 27/100\n",
            "313/313 [==============================] - 14s 46ms/step - loss: 0.4178 - accuracy: 0.8153 - val_loss: 0.4445 - val_accuracy: 0.7940\n",
            "Epoch 28/100\n",
            "313/313 [==============================] - 14s 45ms/step - loss: 0.4170 - accuracy: 0.8137 - val_loss: 0.4454 - val_accuracy: 0.7922\n",
            "Epoch 29/100\n",
            "313/313 [==============================] - 14s 45ms/step - loss: 0.4168 - accuracy: 0.8148 - val_loss: 0.4455 - val_accuracy: 0.7946\n"
          ]
        }
      ]
    },
    {
      "cell_type": "code",
      "metadata": {
        "colab": {
          "base_uri": "https://localhost:8080/",
          "height": 279
        },
        "id": "0jvr8I7SVi2S",
        "outputId": "7464f592-92f4-4bb8-fa24-c0e7c6fc8279"
      },
      "source": [
        "plt.plot(history.history['loss'])\n",
        "plt.plot(history.history['val_loss'])\n",
        "plt.xlabel('epoch')\n",
        "plt.ylabel('loss')\n",
        "plt.legend(['train', 'val'])\n",
        "plt.show()"
      ],
      "execution_count": 36,
      "outputs": [
        {
          "output_type": "display_data",
          "data": {
            "image/png": "[encoded data removed]",
            "text/plain": [
              "<Figure size 432x288 with 1 Axes>"
            ]
          },
          "metadata": {
            "needs_background": "light"
          }
        }
      ]
    },
    {
      "cell_type": "markdown",
      "metadata": {
        "id": "fxkowKZgYHXO"
      },
      "source": [
        "## LSTM 2개의 순환층을 쌓고 드롭아웃을 사용한 모델을 다시 로드하여 테스트 세트에 대한 성능을 확인해봄"
      ]
    },
    {
      "cell_type": "code",
      "metadata": {
        "colab": {
          "base_uri": "https://localhost:8080/"
        },
        "id": "tJ6t4i3IVlH-",
        "outputId": "61a48ef1-4b61-4a06-a236-0bb32ff9bde4"
      },
      "source": [
        "test_seq = pad_sequences(test_input, maxlen=100)\n",
        "\n",
        "rnn_model = keras.models.load_model('best-2rnn-model.h5')\n",
        "\n",
        "rnn_model.evaluate(test_seq, test_target)"
      ],
      "execution_count": 37,
      "outputs": [
        {
          "output_type": "stream",
          "name": "stdout",
          "text": [
            "782/782 [==============================] - 12s 14ms/step - loss: 0.4293 - accuracy: 0.7999\n"
          ]
        },
        {
          "output_type": "execute_result",
          "data": {
            "text/plain": [
              "[0.4293322265148163, 0.7998800277709961]"
            ]
          },
          "metadata": {},
          "execution_count": 37
        }
      ]
    },
    {
      "cell_type": "code",
      "metadata": {
        "id": "IZUei0-RXb-L"
      },
      "source": [
        ""
      ],
      "execution_count": null,
      "outputs": []
    }
  ]
}